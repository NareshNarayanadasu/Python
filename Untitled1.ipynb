{
 "cells": [
  {
   "cell_type": "code",
   "execution_count": null,
   "id": "f072119d-3d3d-4352-89cf-52b85965e9ac",
   "metadata": {},
   "outputs": [],
   "source": [
    "with open(\"customers-10000.csv\",\"r\") as f:\n",
    "    f.read"
   ]
  }
 ],
 "metadata": {
  "kernelspec": {
   "display_name": "Python 3 (ipykernel)",
   "language": "python",
   "name": "python3"
  },
  "language_info": {
   "codemirror_mode": {
    "name": "ipython",
    "version": 3
   },
   "file_extension": ".py",
   "mimetype": "text/x-python",
   "name": "python",
   "nbconvert_exporter": "python",
   "pygments_lexer": "ipython3",
   "version": "3.12.4"
  }
 },
 "nbformat": 4,
 "nbformat_minor": 5
}
