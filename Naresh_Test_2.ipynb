{
 "cells": [
  {
   "cell_type": "markdown",
   "id": "d826ffaf-5f97-4f7b-93c7-a40a59dd6d52",
   "metadata": {},
   "source": [
    "## Q.No  1"
   ]
  },
  {
   "cell_type": "code",
   "execution_count": 10,
   "id": "78736b1e-8d07-4b20-9e63-fb50dd4411b0",
   "metadata": {},
   "outputs": [
    {
     "name": "stdout",
     "output_type": "stream",
     "text": [
      "Random List: [42, 92, 94, 67, 62, 78, 6, 54, 13, 7]\n",
      "Even/Odd Results: ['Even', 'Even', 'Even', 'Odd', 'Even', 'Even', 'Even', 'Even', 'Odd', 'Odd']\n"
     ]
    }
   ],
   "source": [
    "import random\n",
    "\n",
    "random_list = [random.randint(1, 100) for i in range(10)]\n",
    "\n",
    "def is_even_or_odd(num):\n",
    "    return \"Even\" if num % 2 == 0 else \"Odd\"\n",
    "\n",
    "results = list(map(is_even_or_odd, random_list))\n",
    "\n",
    "print(\"Random List:\", random_list)\n",
    "print(\"Even/Odd Results:\", results)\n"
   ]
  },
  {
   "cell_type": "markdown",
   "id": "509149db-5ca6-480f-8d83-04bbc9baab06",
   "metadata": {},
   "source": [
    "## Q.No  2"
   ]
  },
  {
   "cell_type": "code",
   "execution_count": 41,
   "id": "79e18ed5-35dd-45ce-98d8-9ad96fbccee2",
   "metadata": {},
   "outputs": [
    {
     "name": "stdout",
     "output_type": "stream",
     "text": [
      "Original ID: 139696971409152\n",
      "Updated List: [1, 2, 4, 6, 7, 8]\n",
      "Updated ID: 139696971409152\n"
     ]
    }
   ],
   "source": [
    "def remove_value_from_list(nums, value):\n",
    "    print(\"Original ID:\", id(nums))\n",
    "    nums[:] = [x for x in nums if x != value]\n",
    "    print(\"Updated List:\", nums)\n",
    "    print(\"Updated ID:\", id(nums))\n",
    "\n",
    "nums = [1, 3, 2, 4, 3, 3, 3, 3, 6, 7, 8]\n",
    "remove_value_from_list(nums, 3)\n"
   ]
  },
  {
   "cell_type": "markdown",
   "id": "6d715351-7e6a-4100-8879-a1d4a853644a",
   "metadata": {},
   "source": [
    "## Q.No 3"
   ]
  },
  {
   "cell_type": "code",
   "execution_count": 42,
   "id": "2cbb77c1-2e40-42ae-ad88-3aa8f56e68f8",
   "metadata": {},
   "outputs": [
    {
     "name": "stdout",
     "output_type": "stream",
     "text": [
      "Output Dictionary: {70: ['Rahul', 'kohli'], 50: ['Jadeja', 'panth'], 40: ['rakesh']}\n"
     ]
    }
   ],
   "source": [
    "def func(input_dict):\n",
    "    output_dict = {}\n",
    "    for key, value in input_dict.items():\n",
    "        output_dict.setdefault(value, []).append(key)\n",
    "    return output_dict\n",
    "\n",
    "ip_dict = {\"Rahul\": 70, \"Jadeja\": 50, \"kohli\": 70, \"panth\": 50, \"rakesh\": 40}\n",
    "op_dict =func(ip_dict)\n",
    "print(\"Output Dictionary:\", op_dict)\n"
   ]
  },
  {
   "cell_type": "code",
   "execution_count": 54,
   "id": "b2f03160-b34a-41de-925e-2b7a5479bba4",
   "metadata": {},
   "outputs": [
    {
     "name": "stdout",
     "output_type": "stream",
     "text": [
      "['__class__', '__class_getitem__', '__contains__', '__delattr__', '__delitem__', '__dir__', '__doc__', '__eq__', '__format__', '__ge__', '__getattribute__', '__getitem__', '__getstate__', '__gt__', '__hash__', '__init__', '__init_subclass__', '__ior__', '__iter__', '__le__', '__len__', '__lt__', '__ne__', '__new__', '__or__', '__reduce__', '__reduce_ex__', '__repr__', '__reversed__', '__ror__', '__setattr__', '__setitem__', '__sizeof__', '__str__', '__subclasshook__', 'clear', 'copy', 'fromkeys', 'get', 'items', 'keys', 'pop', 'popitem', 'setdefault', 'update', 'values']\n"
     ]
    }
   ],
   "source": [
    "print(dir(input_dict))"
   ]
  },
  {
   "cell_type": "markdown",
   "id": "f87aedf3-db60-491f-abbe-55eb312ba95a",
   "metadata": {},
   "source": [
    "## Q.No 4"
   ]
  },
  {
   "cell_type": "code",
   "execution_count": 43,
   "id": "8d242ab7-5f08-4a42-86a1-13b7e6ad3ec1",
   "metadata": {},
   "outputs": [
    {
     "name": "stdout",
     "output_type": "stream",
     "text": [
      "Updated String: apple-BANANA-cat-dog-ELEPHANT\n"
     ]
    }
   ],
   "source": [
    "def func(input_string):\n",
    "    words = input_string.split(',')\n",
    "    u_words = [word.upper() if len(word) > 5 else word.lower() for word in words]\n",
    "    return '-'.join(u_words)\n",
    "\n",
    "input_string = \"apple,banana,cat,dog,elephant\"\n",
    "updated_string = func(input_string)\n",
    "print(\"Updated String:\", updated_string)\n"
   ]
  },
  {
   "cell_type": "markdown",
   "id": "41cc3c99-fc65-476b-9ec4-909aecff6a75",
   "metadata": {},
   "source": [
    "## Q.No 5"
   ]
  },
  {
   "cell_type": "code",
   "execution_count": 44,
   "id": "469d1b28-ba38-4486-93ce-fe245277d8f2",
   "metadata": {},
   "outputs": [
    {
     "name": "stdout",
     "output_type": "stream",
     "text": [
      "Merged Dictionary: {'c': 22, 'b': 13, 'a': 5, 'd': 20}\n"
     ]
    }
   ],
   "source": [
    "def merge_and_sum(dict_a, dict_b):\n",
    "    merged_dict = {}\n",
    "    for key in set(dict_a) | set(dict_b):\n",
    "        merged_dict[key] = dict_a.get(key, 0) + dict_b.get(key, 0)\n",
    "    return merged_dict\n",
    "\n",
    "dict_a = {'a': 5, 'b': 10, 'c': 15}\n",
    "dict_b = {'b': 3, 'c': 7, 'd': 20}\n",
    "result = merge_and_sum(dict_a, dict_b)\n",
    "print(\"Merged Dictionary:\", result)\n"
   ]
  },
  {
   "cell_type": "markdown",
   "id": "3b2b5f0e-f7c3-4063-9068-7e912fd798f6",
   "metadata": {},
   "source": [
    "## Q.No 6"
   ]
  },
  {
   "cell_type": "code",
   "execution_count": 48,
   "id": "bf097805-3216-49c3-9ece-ada7b2ed7567",
   "metadata": {},
   "outputs": [
    {
     "name": "stdout",
     "output_type": "stream",
     "text": [
      "Unique Pairs: [(2, 8), (3, 7), (4, 6)]\n"
     ]
    }
   ],
   "source": [
    "def find_pairs(nums, target):\n",
    "    seen = set()\n",
    "    pairs = set()\n",
    "\n",
    "    for num in nums:\n",
    "        complement = target - num\n",
    "        if complement in seen:\n",
    "            pairs.add(tuple(sorted((num, complement))))\n",
    "        seen.add(num)\n",
    "\n",
    "    return list(sorted(pairs))\n",
    "\n",
    "\n",
    "nums = [1, 2, 3, 4, 5, 6, 7, 8]\n",
    "target = 10\n",
    "print(\"Unique Pairs:\", find_pairs(nums, target))"
   ]
  },
  {
   "cell_type": "markdown",
   "id": "4d03ad68-aba5-49a1-9c73-cd224cd58075",
   "metadata": {},
   "source": [
    "## Q.No 9"
   ]
  },
  {
   "cell_type": "code",
   "execution_count": 49,
   "id": "8f46e214-f144-4455-95ae-42331ed3e651",
   "metadata": {},
   "outputs": [
    {
     "name": "stdout",
     "output_type": "stream",
     "text": [
      "100 / 10 = 10.0\n",
      "100 / 5 = 20.0\n",
      "Error: division by zero for 0\n",
      "Error: invalid literal for int() with base 10: 'abc' for abc\n",
      "100 / 20 = 5.0\n",
      "Total sum of results: 35.0\n"
     ]
    }
   ],
   "source": [
    "\n",
    "def divide_100_by_numbers(input_list):\n",
    "    total_sum = 0\n",
    "\n",
    "    for num in input_list:\n",
    "        try:\n",
    "            result = 100 / int(num)\n",
    "            print(f\"100 / {num} = {result}\")\n",
    "            total_sum += result\n",
    "        except (ZeroDivisionError, ValueError, TypeError) as e:\n",
    "            print(f\"Error: {e} for {num}\")\n",
    "\n",
    "    print(f\"Total sum of results: {total_sum}\")\n",
    "\n",
    "input_numbers = [\"10\", \"5\", \"0\", \"abc\", \"20\"]\n",
    "divide_100_by_numbers(input_numbers)\n"
   ]
  },
  {
   "cell_type": "markdown",
   "id": "0964eebc-28e3-4063-8e36-13b4f4680639",
   "metadata": {},
   "source": [
    "## Q.No 10"
   ]
  },
  {
   "cell_type": "code",
   "execution_count": 53,
   "id": "26f87f2b-df51-4b5e-93ba-5d083e1b4fd8",
   "metadata": {},
   "outputs": [
    {
     "name": "stdout",
     "output_type": "stream",
     "text": [
      "Data read from file: {'name': 'emp1', 'sal': 1234, 'dob': '2008-11-29'}\n"
     ]
    }
   ],
   "source": [
    "import json\n",
    "\n",
    "data = {\"name\": \"emp1\", \"sal\": 1234, \"dob\": \"2008-11-29\"}\n",
    "\n",
    "with open('data.json', 'w') as file:\n",
    "    json.dump(data, file)\n",
    "\n",
    "with open('data.json', 'r') as file:\n",
    "    loaded_data = json.load(file)\n",
    "\n",
    "print(\"Data read from file:\", loaded_data)\n"
   ]
  },
  {
   "cell_type": "code",
   "execution_count": 52,
   "id": "64d6ff74-3cc2-469c-b5e7-64ce3fec5a04",
   "metadata": {},
   "outputs": [
    {
     "name": "stdout",
     "output_type": "stream",
     "text": [
      "['Dialect', 'DictReader', 'DictWriter', 'Error', 'QUOTE_ALL', 'QUOTE_MINIMAL', 'QUOTE_NONE', 'QUOTE_NONNUMERIC', 'QUOTE_NOTNULL', 'QUOTE_STRINGS', 'Sniffer', 'StringIO', '_Dialect', '__all__', '__builtins__', '__cached__', '__doc__', '__file__', '__loader__', '__name__', '__package__', '__spec__', '__version__', 'excel', 'excel_tab', 'field_size_limit', 'get_dialect', 'list_dialects', 're', 'reader', 'register_dialect', 'types', 'unix_dialect', 'unregister_dialect', 'writer']\n"
     ]
    }
   ],
   "source": [
    "print(dir(csv))"
   ]
  },
  {
   "cell_type": "code",
   "execution_count": null,
   "id": "9b84d1ce-860d-4e87-928e-c35ed6497a8d",
   "metadata": {},
   "outputs": [],
   "source": [
    "import csv\n",
    "\n"
   ]
  }
 ],
 "metadata": {
  "kernelspec": {
   "display_name": "Python 3 (ipykernel)",
   "language": "python",
   "name": "python3"
  },
  "language_info": {
   "codemirror_mode": {
    "name": "ipython",
    "version": 3
   },
   "file_extension": ".py",
   "mimetype": "text/x-python",
   "name": "python",
   "nbconvert_exporter": "python",
   "pygments_lexer": "ipython3",
   "version": "3.12.4"
  }
 },
 "nbformat": 4,
 "nbformat_minor": 5
}
