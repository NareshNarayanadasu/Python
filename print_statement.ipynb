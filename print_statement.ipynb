{
 "cells": [
  {
   "cell_type": "code",
   "execution_count": 2,
   "id": "9c4c8b70-09da-4f6d-8a2f-4802fdc7fa2a",
   "metadata": {},
   "outputs": [
    {
     "name": "stdout",
     "output_type": "stream",
     "text": [
      "The result is a large number with 14624 digits.\n"
     ]
    }
   ],
   "source": [
    "import sys\n",
    "\n",
    "# Set a limit for string conversion of large integers\n",
    "sys.set_int_max_str_digits(100012115)  # Limit to 1000 digits in string form\n",
    "\n",
    "# Perform the operation\n",
    "result = 29 ** 10000\n",
    "\n",
    "# Safely print the result (trimmed or limit the output to avoid performance issues)\n",
    "print(f'The result is a large number with {len(str(result))} digits.')\n"
   ]
  },
  {
   "cell_type": "code",
   "execution_count": null,
   "id": "d19b05c1-d8e4-4bbd-81e5-d847ce2197ea",
   "metadata": {},
   "outputs": [],
   "source": []
  }
 ],
 "metadata": {
  "kernelspec": {
   "display_name": "Python 3 (ipykernel)",
   "language": "python",
   "name": "python3"
  },
  "language_info": {
   "codemirror_mode": {
    "name": "ipython",
    "version": 3
   },
   "file_extension": ".py",
   "mimetype": "text/x-python",
   "name": "python",
   "nbconvert_exporter": "python",
   "pygments_lexer": "ipython3",
   "version": "3.12.4"
  }
 },
 "nbformat": 4,
 "nbformat_minor": 5
}
