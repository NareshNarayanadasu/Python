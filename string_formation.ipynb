{
 "cells": [
  {
   "cell_type": "code",
   "execution_count": 5,
   "id": "13391d79-06d3-42cc-8986-88a4e06592fe",
   "metadata": {},
   "outputs": [
    {
     "name": "stdin",
     "output_type": "stream",
     "text": [
      "enter customer name :  nagarjuna hmmm \n",
      "enter sales orders :  69\n",
      "enter profit :  96\n"
     ]
    },
    {
     "name": "stdout",
     "output_type": "stream",
     "text": [
      "The nagarjuna hmmm  is very good customer, bought 69 sales orders from our portal. we got 96 profit because of nagarjuna hmmm \n"
     ]
    }
   ],
   "source": [
    "# the anil kumar is a very good customer, bouht 3045 sales orders from our portal. we got 20000 profit because of anil kumer.\n",
    "customer_name = input(\"enter customer name : \" )\n",
    "number_of_sales_orders = input(\"enter sales orders : \")\n",
    "profit = input(\"enter profit : \" )\n",
    "s = \"The \" + customer_name + \" is very good customer, bought \" +  number_of_sales_orders +  \" sales orders from our portal. we got \" + profit+ \" profit because of \" + customer_name\n",
    "print(s)"
   ]
  },
  {
   "cell_type": "code",
   "execution_count": 2,
   "id": "df406f53-94ac-418b-aa8b-8b8977ce34e5",
   "metadata": {},
   "outputs": [
    {
     "name": "stdin",
     "output_type": "stream",
     "text": [
      "enter customer name :  naresh\n",
      "enter sales orders :  15\n",
      "enter profit :  68654\n"
     ]
    },
    {
     "name": "stdout",
     "output_type": "stream",
     "text": [
      "The naresh is very good customer, bought 15 sales orders from our portal. we got 68654 profit because of naresh\n"
     ]
    }
   ],
   "source": [
    "# the anil kumar is a very good customer, bouht 3045 sales orders from our portal. we got 20000 profit because of anil kumer.\n",
    "customer_name = input(\"enter customer name : \" )\n",
    "number_of_sales_orders = input(\"enter sales orders : \")\n",
    "profit = input(\"enter profit : \" )\n",
    "s = \"The \" + customer_name + \" is very good customer, bought \" +  number_of_sales_orders + \\\n",
    "\" sales orders from our portal. we got \" + profit+ \" profit because of \" + customer_name\n",
    "print(s)"
   ]
  },
  {
   "cell_type": "code",
   "execution_count": 4,
   "id": "a974f55b-bfd1-42ba-9fcd-6d44f1874919",
   "metadata": {},
   "outputs": [
    {
     "name": "stdin",
     "output_type": "stream",
     "text": [
      "enter customer name :  naresh\n",
      "enter sales orders :  3514654\n",
      "enter profit :  63546854654163546846314546+54621654\n"
     ]
    },
    {
     "name": "stdout",
     "output_type": "stream",
     "text": [
      "The  naresh  is very good customer, bought   3514654  sales orders from our portal. we got  63546854654163546846314546+54621654 profit because of naresh\n"
     ]
    }
   ],
   "source": [
    "# the anil kumar is a very good customer, bouht 3045 sales orders from our portal. we got 20000 profit because of anil kumer.\n",
    "customer_name = input(\"enter customer name : \" )\n",
    "number_of_sales_orders = input(\"enter sales orders : \")\n",
    "profit = input(\"enter profit : \" )\n",
    "s = f\"The  {customer_name}  is very good customer, bought   {number_of_sales_orders}  sales orders from our portal. we got  {profit} profit because of {customer_name}\"\n",
    "print(s)"
   ]
  },
  {
   "cell_type": "code",
   "execution_count": 5,
   "id": "9aaab92c-a29c-419d-a343-706fd4e233a1",
   "metadata": {},
   "outputs": [
    {
     "name": "stdin",
     "output_type": "stream",
     "text": [
      "enter customer name :  naarjuna hmmmmmmmmmmm\n",
      "enter sales orders :  1651\n",
      "enter profit :  1654654\n"
     ]
    },
    {
     "name": "stdout",
     "output_type": "stream",
     "text": [
      "The  naarjuna hmmmmmmmmmmm  is very good customer, bought   1651  sales orders from our portal. we got  1654654 profit because of naarjuna hmmmmmmmmmmm\n"
     ]
    }
   ],
   "source": [
    "customer_name = input(\"enter customer name : \" )\n",
    "number_of_sales_orders = input(\"enter sales orders : \")\n",
    "profit = input(\"enter profit : \" )\n",
    "s = f\"The  {customer_name}  is very good customer, bought   {number_of_sales_orders}  sales orders from our portal. we got  {profit} profit because of {customer_name}\"\n",
    "print(s)"
   ]
  },
  {
   "cell_type": "code",
   "execution_count": 7,
   "id": "47d0c883-ec15-4988-902d-81b8165b8277",
   "metadata": {},
   "outputs": [
    {
     "ename": "TypeError",
     "evalue": "unsupported operand type(s) for +: 'int' and 'str'",
     "output_type": "error",
     "traceback": [
      "\u001b[0;31m---------------------------------------------------------------------------\u001b[0m",
      "\u001b[0;31mTypeError\u001b[0m                                 Traceback (most recent call last)",
      "Cell \u001b[0;32mIn[7], line 2\u001b[0m\n\u001b[1;32m      1\u001b[0m a \u001b[38;5;241m=\u001b[39m \u001b[38;5;241m100\u001b[39m\n\u001b[0;32m----> 2\u001b[0m \u001b[38;5;28mprint\u001b[39m( a\u001b[38;5;241m+\u001b[39m \u001b[38;5;124m\"\u001b[39m\u001b[38;5;124mad\u001b[39m\u001b[38;5;124m\"\u001b[39m)\n",
      "\u001b[0;31mTypeError\u001b[0m: unsupported operand type(s) for +: 'int' and 'str'"
     ]
    }
   ],
   "source": [
    "a = 100\n",
    "print( a+ \"ad\")"
   ]
  },
  {
   "cell_type": "code",
   "execution_count": 11,
   "id": "f50bdd2a-12a9-4d1d-bd65-a879bfa1a3f7",
   "metadata": {},
   "outputs": [
    {
     "name": "stdout",
     "output_type": "stream",
     "text": [
      "the product cost 100\n"
     ]
    }
   ],
   "source": [
    "a = 100\n",
    "print(f\"the product cost {str(a)}\")"
   ]
  },
  {
   "cell_type": "code",
   "execution_count": 14,
   "id": "eb087574-9ff3-40b1-a2a7-6ac8fc2699fe",
   "metadata": {},
   "outputs": [
    {
     "name": "stdout",
     "output_type": "stream",
     "text": [
      "the product cost  1000.51\n"
     ]
    }
   ],
   "source": [
    "cost = 1000.514\n",
    "print(f\"the product cost {cost: .2f}\")"
   ]
  },
  {
   "cell_type": "code",
   "execution_count": null,
   "id": "31309b59-6077-4e1d-8ff5-fc49cbc64fff",
   "metadata": {},
   "outputs": [],
   "source": [
    "print(\"the product cost"
   ]
  }
 ],
 "metadata": {
  "kernelspec": {
   "display_name": "Python 3 (ipykernel)",
   "language": "python",
   "name": "python3"
  },
  "language_info": {
   "codemirror_mode": {
    "name": "ipython",
    "version": 3
   },
   "file_extension": ".py",
   "mimetype": "text/x-python",
   "name": "python",
   "nbconvert_exporter": "python",
   "pygments_lexer": "ipython3",
   "version": "3.12.4"
  }
 },
 "nbformat": 4,
 "nbformat_minor": 5
}
