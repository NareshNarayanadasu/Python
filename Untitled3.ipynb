{
 "cells": [
  {
   "cell_type": "code",
   "execution_count": 1,
   "id": "c01b8f6b-54bf-48de-8acd-dd610ad466b2",
   "metadata": {},
   "outputs": [
    {
     "name": "stdout",
     "output_type": "stream",
     "text": [
      "Updated List: [1, 2, 4, 6, 7, 8]\n"
     ]
    }
   ],
   "source": [
    "nums = [1, 3, 2, 4, 3, 3, 3, 3, 6, 7, 8]\n",
    "\n",
    "# Remove occurrences of 3 in-place\n",
    "nums[:] = [x for x in nums if x != 3]\n",
    "\n",
    "print(\"Updated List:\", nums)\n"
   ]
  },
  {
   "cell_type": "code",
   "execution_count": 2,
   "id": "289116a9-a1ae-4292-9d1e-4fb85873c820",
   "metadata": {},
   "outputs": [
    {
     "name": "stdout",
     "output_type": "stream",
     "text": [
      "Output Dictionary: {70: ['Rahul', 'kohli'], 50: ['Jadeja', 'panth'], 40: ['rakesh']}\n"
     ]
    }
   ],
   "source": [
    "input_dict = {\"Rahul\": 70, \"Jadeja\": 50, \"kohli\": 70, \"panth\": 50, \"rakesh\": 40}\n",
    "\n",
    "output_dict = {}\n",
    "for key, value in input_dict.items():\n",
    "    output_dict.setdefault(value, []).append(key)\n",
    "\n",
    "print(\"Output Dictionary:\", output_dict)\n"
   ]
  },
  {
   "cell_type": "code",
   "execution_count": 3,
   "id": "97ddf58a-bf67-4d2c-8448-5ca6264e456d",
   "metadata": {},
   "outputs": [
    {
     "name": "stdout",
     "output_type": "stream",
     "text": [
      "Modified String: apple-BANANA-cat-dog-ELEPHANT\n"
     ]
    }
   ],
   "source": [
    "input_string = \"apple,banana,cat,dog,elephant\"\n",
    "\n",
    "# Modify words based on their length\n",
    "modified_string = '-'.join(\n",
    "    [word.upper() if len(word) > 5 else word.lower() for word in input_string.split(',')]\n",
    ")\n",
    "\n",
    "print(\"Modified String:\", modified_string)\n"
   ]
  },
  {
   "cell_type": "code",
   "execution_count": 4,
   "id": "90f4af95-9c01-4ac7-9fef-1c3a026fcb35",
   "metadata": {},
   "outputs": [
    {
     "name": "stdout",
     "output_type": "stream",
     "text": [
      "Merged Dictionary: {'b': 13, 'd': 20, 'a': 5, 'c': 22}\n"
     ]
    }
   ],
   "source": [
    "dict_a = {'a': 5, 'b': 10, 'c': 15}\n",
    "dict_b = {'b': 3, 'c': 7, 'd': 20}\n",
    "\n",
    "# Merge dictionaries with summed values\n",
    "merged_dict = {key: dict_a.get(key, 0) + dict_b.get(key, 0) for key in set(dict_a) | set(dict_b)}\n",
    "\n",
    "print(\"Merged Dictionary:\", merged_dict)\n"
   ]
  },
  {
   "cell_type": "code",
   "execution_count": 5,
   "id": "c3d975d7-841c-437e-8d19-ebea5cdce909",
   "metadata": {},
   "outputs": [
    {
     "name": "stdout",
     "output_type": "stream",
     "text": [
      "Unique Pairs: [(2, 8), (3, 7), (4, 6)]\n"
     ]
    }
   ],
   "source": [
    "def find_pairs(nums, target):\n",
    "    seen = set()\n",
    "    pairs = set()\n",
    "\n",
    "    for num in nums:\n",
    "        complement = target - num\n",
    "        if complement in seen:\n",
    "            pairs.add(tuple(sorted((num, complement))))\n",
    "        seen.add(num)\n",
    "\n",
    "    return list(sorted(pairs))\n",
    "\n",
    "\n",
    "# Example\n",
    "nums = [1, 2, 3, 4, 5, 6, 7, 8]\n",
    "target = 10\n",
    "print(\"Unique Pairs:\", find_pairs(nums, target))\n"
   ]
  },
  {
   "cell_type": "code",
   "execution_count": 6,
   "id": "a743cdc2-5b99-4cb1-a54b-16e255c0254c",
   "metadata": {},
   "outputs": [],
   "source": [
    "import sqlite3\n",
    "\n",
    "# Function to create a table\n",
    "def create_table():\n",
    "    with sqlite3.connect('example.db') as conn:\n",
    "        cursor = conn.cursor()\n",
    "        cursor.execute('''CREATE TABLE IF NOT EXISTS employees \n",
    "                          (id INTEGER PRIMARY KEY, name TEXT, salary REAL)''')\n",
    "        conn.commit()\n",
    "\n",
    "# Function to insert rows into the table\n",
    "def insert_row(name, salary):\n",
    "    with sqlite3.connect('example.db') as conn:\n",
    "        cursor = conn.cursor()\n",
    "        cursor.execute(\"INSERT INTO employees (name, salary) VALUES (?, ?)\", (name, salary))\n",
    "        conn.commit()\n",
    "\n",
    "# Function to update rows in the table\n",
    "def update_row(emp_id, salary):\n",
    "    with sqlite3.connect('example.db') as conn:\n",
    "        cursor = conn.cursor()\n",
    "        cursor.execute(\"UPDATE employees SET salary = ? WHERE id = ?\", (salary, emp_id))\n",
    "        conn.commit()\n",
    "\n",
    "# Function to delete rows from the table\n",
    "def delete_row(emp_id):\n",
    "    with sqlite3.connect('example.db') as conn:\n",
    "        cursor = conn.cursor()\n",
    "        cursor.execute(\"DELETE FROM employees WHERE id = ?\", (emp_id,))\n",
    "        conn.commit()\n",
    "\n",
    "# Function to fetch data from the table\n",
    "def fetch_data():\n",
    "    with sqlite3.connect('example.db') as conn:\n",
    "        cursor = conn.cursor()\n",
    "        cursor.execute(\"SELECT * FROM employees\")\n",
    "        return cursor.fetchall()\n"
   ]
  },
  {
   "cell_type": "code",
   "execution_count": 7,
   "id": "b73b51f0-e760-4612-b502-537561845a0e",
   "metadata": {},
   "outputs": [
    {
     "name": "stdout",
     "output_type": "stream",
     "text": [
      "Function called 1 times.\n",
      "6\n",
      "Returning cached result.\n",
      "6\n",
      "Function called 2 times.\n",
      "15\n"
     ]
    }
   ],
   "source": [
    "def cache_decorator(func):\n",
    "    cache = {}\n",
    "    call_count = 0\n",
    "\n",
    "    def wrapper(nums):\n",
    "        nonlocal call_count\n",
    "        nums_tuple = tuple(nums)  # Lists can't be dictionary keys, convert to tuple\n",
    "        if nums_tuple in cache:\n",
    "            print(\"Returning cached result.\")\n",
    "            return cache[nums_tuple]\n",
    "        else:\n",
    "            call_count += 1\n",
    "            result = func(nums)\n",
    "            cache[nums_tuple] = result\n",
    "            print(f\"Function called {call_count} times.\")\n",
    "            return result\n",
    "\n",
    "    return wrapper\n",
    "\n",
    "\n",
    "@cache_decorator\n",
    "def sum_of_list(nums):\n",
    "    return sum(nums)\n",
    "\n",
    "\n",
    "# Example\n",
    "print(sum_of_list([1, 2, 3]))\n",
    "print(sum_of_list([1, 2, 3]))  # Cached result\n",
    "print(sum_of_list([4, 5, 6]))\n"
   ]
  },
  {
   "cell_type": "code",
   "execution_count": 8,
   "id": "51d2c62b-ac71-48aa-8b78-433fe09b4a98",
   "metadata": {},
   "outputs": [
    {
     "name": "stdout",
     "output_type": "stream",
     "text": [
      "100 / 10 = 10.0\n",
      "100 / 5 = 20.0\n",
      "Error: Division by zero for 0\n",
      "Error: abc is not a valid integer\n",
      "100 / 20 = 5.0\n",
      "Total sum of results: 35.0\n"
     ]
    }
   ],
   "source": [
    "def divide_100_by_numbers(input_list):\n",
    "    total_sum = 0\n",
    "\n",
    "    for num in input_list:\n",
    "        try:\n",
    "            result = 100 / int(num)\n",
    "            print(f\"100 / {num} = {result}\")\n",
    "            total_sum += result\n",
    "        except ZeroDivisionError:\n",
    "            print(f\"Error: Division by zero for {num}\")\n",
    "        except ValueError:\n",
    "            print(f\"Error: {num} is not a valid integer\")\n",
    "        except TypeError:\n",
    "            print(f\"Error: {num} is not a valid type\")\n",
    "\n",
    "    print(f\"Total sum of results: {total_sum}\")\n",
    "\n",
    "\n",
    "# Example Input\n",
    "input_numbers = [\"10\", \"5\", \"0\", \"abc\", \"20\"]\n",
    "divide_100_by_numbers(input_numbers)\n"
   ]
  },
  {
   "cell_type": "code",
   "execution_count": 9,
   "id": "0aa6cee9-2d79-474b-9811-2bbe5a3b94ce",
   "metadata": {},
   "outputs": [
    {
     "name": "stdout",
     "output_type": "stream",
     "text": [
      "Data read from file: {'name': 'emp1', 'sal': 1234, 'dob': '2008-11-29'}\n"
     ]
    }
   ],
   "source": [
    "import json\n",
    "\n",
    "# Data to store\n",
    "data = {\"name\": \"emp1\", \"sal\": 1234, \"dob\": \"2008-11-29\"}\n",
    "\n",
    "# Store data in a file\n",
    "with open('data.json', 'w') as file:\n",
    "    json.dump(data, file)\n",
    "\n",
    "# Read data from the file\n",
    "with open('data.json', 'r') as file:\n",
    "    loaded_data = json.load(file)\n",
    "\n",
    "print(\"Data read from file:\", loaded_data)\n"
   ]
  },
  {
   "cell_type": "code",
   "execution_count": 13,
   "id": "906a853b-f787-4e86-8810-e2a859187796",
   "metadata": {},
   "outputs": [
    {
     "ename": "IndentationError",
     "evalue": "expected an indented block after function definition on line 3 (4270077006.py, line 4)",
     "output_type": "error",
     "traceback": [
      "\u001b[0;36m  Cell \u001b[0;32mIn[13], line 4\u001b[0;36m\u001b[0m\n\u001b[0;31m    employees = []\u001b[0m\n\u001b[0m    ^\u001b[0m\n\u001b[0;31mIndentationError\u001b[0m\u001b[0;31m:\u001b[0m expected an indented block after function definition on line 3\n"
     ]
    }
   ],
   "source": [
    "    import csv\n",
    "\n",
    "def employees_below_average_salary(file_path):\n",
    "    employees = []\n",
    "    salaries = []\n",
    "\n",
    "    # Read data from CSV file\n",
    "    with open(file_path, 'r') as file:\n",
    "        reader = csv.DictReader(file)\n",
    "        for row in reader:\n",
    "            salaries.append(int(row['Salary']))\n",
    "            employees.append(row)\n",
    "\n",
    "    average_salary = sum(salaries) / len(salaries)\n",
    "    print(f\"Average Salary: {average_salary}\")\n",
    "\n",
    "    for employee in employees:\n",
    "        if int(employee['Salary']) < average_salary:\n",
    "            print(f\"Employee below average salary: {employee['Name']}\")\n",
    "\n",
    "\n",
    "# Example usage\n",
    "employees_below_average_salary('employees.csv')\n"
   ]
  },
  {
   "cell_type": "code",
   "execution_count": null,
   "id": "45acb37e-787e-412d-a20c-8022fc833bcf",
   "metadata": {},
   "outputs": [],
   "source": []
  }
 ],
 "metadata": {
  "kernelspec": {
   "display_name": "Python 3 (ipykernel)",
   "language": "python",
   "name": "python3"
  },
  "language_info": {
   "codemirror_mode": {
    "name": "ipython",
    "version": 3
   },
   "file_extension": ".py",
   "mimetype": "text/x-python",
   "name": "python",
   "nbconvert_exporter": "python",
   "pygments_lexer": "ipython3",
   "version": "3.12.4"
  }
 },
 "nbformat": 4,
 "nbformat_minor": 5
}
