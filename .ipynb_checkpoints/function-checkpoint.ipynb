{
 "cells": [
  {
   "cell_type": "code",
   "execution_count": 5,
   "id": "965857d5-d8ab-401b-a9ac-cd1525fb9835",
   "metadata": {},
   "outputs": [
    {
     "ename": "TypeError",
     "evalue": "fun() missing 2 required positional arguments: 'a' and 'b'",
     "output_type": "error",
     "traceback": [
      "\u001b[0;31m---------------------------------------------------------------------------\u001b[0m",
      "\u001b[0;31mTypeError\u001b[0m                                 Traceback (most recent call last)",
      "Cell \u001b[0;32mIn[5], line 10\u001b[0m\n\u001b[1;32m      7\u001b[0m     result \u001b[38;5;241m=\u001b[39m \u001b[38;5;124mf\u001b[39m\u001b[38;5;124m\"\u001b[39m\u001b[38;5;132;01m{\u001b[39;00mc\u001b[38;5;132;01m}\u001b[39;00m\u001b[38;5;130;01m\\n\u001b[39;00m\u001b[38;5;132;01m{\u001b[39;00md\u001b[38;5;132;01m}\u001b[39;00m\u001b[38;5;130;01m\\n\u001b[39;00m\u001b[38;5;132;01m{\u001b[39;00me\u001b[38;5;132;01m}\u001b[39;00m\u001b[38;5;130;01m\\n\u001b[39;00m\u001b[38;5;132;01m{\u001b[39;00mf\u001b[38;5;132;01m}\u001b[39;00m\u001b[38;5;124m\"\u001b[39m\n\u001b[1;32m      8\u001b[0m     \u001b[38;5;28mprint\u001b[39m(result)\n\u001b[0;32m---> 10\u001b[0m fun()\n",
      "\u001b[0;31mTypeError\u001b[0m: fun() missing 2 required positional arguments: 'a' and 'b'"
     ]
    }
   ],
   "source": [
    "def fun(a,b):\n",
    "    print(f\" a = {a}, b = {b}\")\n",
    "    c = a+b\n",
    "    d = a-b\n",
    "    e = a*b\n",
    "    f = a/b\n",
    "    result = f\"{c}\\n{d}\\n{e}\\n{f}\"\n",
    "    print(result)\n",
    "\n",
    "fun()"
   ]
  },
  {
   "cell_type": "code",
   "execution_count": 12,
   "id": "538b1184-67bb-4029-834f-c12aeac0e7d4",
   "metadata": {},
   "outputs": [
    {
     "name": "stdout",
     "output_type": "stream",
     "text": [
      "1 2 3 4\n"
     ]
    }
   ],
   "source": [
    "def add(a,*args):\n",
    "    print(a,*args)\n",
    "add(1,2,3,4)"
   ]
  },
  {
   "cell_type": "code",
   "execution_count": 19,
   "id": "f619b33d-dd3a-4729-8ed5-0e53b3afef7f",
   "metadata": {},
   "outputs": [
    {
     "name": "stdout",
     "output_type": "stream",
     "text": [
      "137763481142896\n",
      "1001\n",
      "137763481142896\n"
     ]
    }
   ],
   "source": [
    "x= 1001\n",
    "y = 10001\n",
    "z = 101\n",
    "def bad(a,b):\n",
    "    print(id(a))\n",
    "    z= 10001\n",
    "    z=x\n",
    "    print(z)\n",
    "bad(x,y)\n",
    "print(id(x))\n"
   ]
  },
  {
   "cell_type": "code",
   "execution_count": 3,
   "id": "f7f48bf2-4f08-4fb0-a628-c628e884c117",
   "metadata": {},
   "outputs": [
    {
     "name": "stdout",
     "output_type": "stream",
     "text": [
      "10 20 30\n",
      "10 20 -10\n",
      "10 20 200\n",
      "None None 200\n"
     ]
    }
   ],
   "source": [
    "def add(x,y):\n",
    "    z= x+y\n",
    "    print(x,y,z)\n",
    "def sub(x,y):\n",
    "    z= x-y\n",
    "    print(x,y,z)\n",
    "def mul(x,y):\n",
    "    z= x*y\n",
    "    print(x,y,z)\n",
    "    return z\n",
    "re1 = add(10,20)\n",
    "re2 = sub(10,20)\n",
    "re3 = mul(10,20)\n",
    "print(re1,re2,re3)"
   ]
  },
  {
   "cell_type": "markdown",
   "id": "7febe066-c1f9-4833-aff1-bd7ac4f79827",
   "metadata": {},
   "source": [
    "\n",
    "#### 59. Take a element from the user and find out how many times the  element occurred in given list"
   ]
  },
  {
   "cell_type": "code",
   "execution_count": 4,
   "id": "80b61317-29b5-4c1a-a9f0-d9dbf6ca0171",
   "metadata": {},
   "outputs": [
    {
     "name": "stdin",
     "output_type": "stream",
     "text": [
      "Enter the element to find:  9\n"
     ]
    },
    {
     "name": "stdout",
     "output_type": "stream",
     "text": [
      "The element '9' occurs 1 times in the list.\n"
     ]
    }
   ],
   "source": [
    "# Given list of elements\n",
    "elements_list = [1, 2, 3, 5, 7, 8, 9, 10, 11, 12, 13, 20, 22, 23, 24, 25, 26, 27, 20, 21, 22, 4]\n",
    "\n",
    "# Take the element input from the user\n",
    "element_to_find = input(\"Enter the element to find: \")\n",
    "\n",
    "# Check if the input is a digit or a decimal number and convert it accordingly\n",
    "if element_to_find.isdigit():\n",
    "    element_to_find = int(element_to_find)\n",
    "else:\n",
    "    decimal_point = False\n",
    "    for char in element_to_find:\n",
    "        if char == '.':\n",
    "            decimal_point = True\n",
    "            break\n",
    "    if decimal_point:\n",
    "        element_to_find = float(element_to_find)\n",
    "    else:\n",
    "        print(\"Invalid input. Please enter a numeric value.\")\n",
    "        element_to_find = None\n",
    "\n",
    "# Initialize the counter\n",
    "count = 0\n",
    "\n",
    "# Proceed only if element_to_find is not None\n",
    "if element_to_find is not None:\n",
    "    # Iterate through each element in the list\n",
    "    for element in elements_list:\n",
    "        if element == element_to_find:\n",
    "            count += 1\n",
    "\n",
    "    # Display the result\n",
    "    print(f\"The element '{element_to_find}' occurs {count} times in the list.\")\n"
   ]
  },
  {
   "cell_type": "markdown",
   "id": "5bb98cf5-63ca-4cb8-ad53-900f82f3830a",
   "metadata": {},
   "source": [
    "#### 60. Take an element from the user and find out how many number of occurrences are there in given tuple"
   ]
  },
  {
   "cell_type": "code",
   "execution_count": 7,
   "id": "31a9d491-9b47-4e3d-9fb0-45c9dd90d6df",
   "metadata": {},
   "outputs": [
    {
     "name": "stdin",
     "output_type": "stream",
     "text": [
      "Enter the element to find:  5\n"
     ]
    },
    {
     "name": "stdout",
     "output_type": "stream",
     "text": [
      "The element '5' occurs 1 times in the tuple.\n"
     ]
    }
   ],
   "source": [
    "# Given tuple of elements\n",
    "elements_tuple = (1, 2, 3, 5, 7, 8, 9, 10, 11, 12, 13, 20, 22, 23, 24, 25, 26, 27, 20, 21, 22, 4)\n",
    "\n",
    "# Take the element input from the user\n",
    "element_to_find = input(\"Enter the element to find: \")\n",
    "\n",
    "# Check if the input is a digit or a decimal number and convert it accordingly\n",
    "if element_to_find.isdigit():\n",
    "    element_to_find = int(element_to_find)\n",
    "else:\n",
    "    decimal_point = False\n",
    "    for char in element_to_find:\n",
    "        if char == '.':\n",
    "            decimal_point = True\n",
    "            break\n",
    "    if decimal_point:\n",
    "        element_to_find = float(element_to_find)\n",
    "    else:\n",
    "        print(\"Invalid input. Please enter a numeric value.\")\n",
    "        element_to_find = None\n",
    "\n",
    "# Initialize the counter\n",
    "count = 0\n",
    "\n",
    "# Proceed only if element_to_find is not None\n",
    "if element_to_find is not None:\n",
    "    # Iterate through each element in the tuple\n",
    "    for element in elements_tuple:\n",
    "        if element == element_to_find:\n",
    "            count += 1\n",
    "\n",
    "    # Display the result\n",
    "    print(f\"The element '{element_to_find}' occurs {count} times in the tuple.\")\n"
   ]
  },
  {
   "cell_type": "code",
   "execution_count": null,
   "id": "1f21ee2c-fac2-45f4-a371-8d88c7fc7b7f",
   "metadata": {},
   "outputs": [],
   "source": [
    "words = string.split()\n",
    "reversed_words = words[::-1]\n",
    "reversed_string = ' '.join(reversed_words)\n",
    "\n",
    "print(reversed_string)"
   ]
  }
 ],
 "metadata": {
  "kernelspec": {
   "display_name": "Python 3 (ipykernel)",
   "language": "python",
   "name": "python3"
  },
  "language_info": {
   "codemirror_mode": {
    "name": "ipython",
    "version": 3
   },
   "file_extension": ".py",
   "mimetype": "text/x-python",
   "name": "python",
   "nbconvert_exporter": "python",
   "pygments_lexer": "ipython3",
   "version": "3.12.4"
  }
 },
 "nbformat": 4,
 "nbformat_minor": 5
}
