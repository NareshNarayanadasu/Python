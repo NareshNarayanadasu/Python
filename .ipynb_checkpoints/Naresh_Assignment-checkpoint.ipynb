{
 "cells": [
  {
   "cell_type": "markdown",
   "id": "1b8c830c-2677-41a8-a43d-202488f19d5e",
   "metadata": {},
   "source": [
    "#### 1. Take the input from the user for(Total number of people,Number of seats for bus. Based on two inputs Decide how many number of buses required"
   ]
  },
  {
   "cell_type": "code",
   "execution_count": 1,
   "id": "3b223613-0ea2-442b-bda6-f9efd9377985",
   "metadata": {},
   "outputs": [
    {
     "name": "stdin",
     "output_type": "stream",
     "text": [
      "please enter the No. of passengers  :  98\n",
      "available seats : 16\n"
     ]
    },
    {
     "name": "stdout",
     "output_type": "stream",
     "text": [
      "6\n"
     ]
    }
   ],
   "source": [
    "passangers = int(input( \"please enter the No. of passengers  : \" ))\n",
    "seats      = int(input(\"available seats :\"))\n",
    "no_of_buses_need = passangers // seats\n",
    "print(no_of_buses_need)"
   ]
  },
  {
   "cell_type": "markdown",
   "id": "6e00a24d-9331-4719-8da2-91d823709c48",
   "metadata": {},
   "source": [
    "#### 2.take temperature from the user and convert foreign heat -> Celsius."
   ]
  },
  {
   "cell_type": "code",
   "execution_count": 2,
   "id": "09540e3e-7235-4164-af2b-4afd0f3c6f14",
   "metadata": {},
   "outputs": [
    {
     "name": "stdin",
     "output_type": "stream",
     "text": [
      "Enter temperature in Fahrenheit:  95\n"
     ]
    },
    {
     "name": "stdout",
     "output_type": "stream",
     "text": [
      "95.0°F is equal to 35.00°C\n"
     ]
    }
   ],
   "source": [
    "fahrenheit = float(input(\"Enter temperature in Fahrenheit: \"))\n",
    "celsius = (fahrenheit - 32) * 5/9\n",
    "print(f\"{fahrenheit}°F is equal to {celsius:.2f}°C\")\n"
   ]
  },
  {
   "cell_type": "markdown",
   "id": "1fb51174-8221-4a5b-ae20-0d48c87cf657",
   "metadata": {},
   "source": [
    "#### 3.take temperature from the user and convert Celsius → foreign heat."
   ]
  },
  {
   "cell_type": "code",
   "execution_count": 3,
   "id": "3fb323be-787f-4008-97c2-ac3459b7aad2",
   "metadata": {},
   "outputs": [
    {
     "name": "stdin",
     "output_type": "stream",
     "text": [
      "Enter temperature in Celsius:  45\n"
     ]
    },
    {
     "name": "stdout",
     "output_type": "stream",
     "text": [
      "45.0°C is equal to 113.0°F\n"
     ]
    }
   ],
   "source": [
    "celsius = float(input(\"Enter temperature in Celsius: \"))\n",
    "fahrenheit = (celsius * 9/5) + 32\n",
    "print(f\"{celsius}°C is equal to {fahrenheit}°F\")"
   ]
  },
  {
   "cell_type": "markdown",
   "id": "5b59b14c-3d84-4254-b9ad-ed491446aca6",
   "metadata": {},
   "source": [
    "#### 4.take four number from the user (variables name it as x1,x2,x3,x4)"
   ]
  },
  {
   "cell_type": "raw",
   "id": "d425346f-4b7d-4f3a-ad34-fa058ffc9071",
   "metadata": {},
   "source": [
    "Do the below operations\n",
    "(x1+x2)**2, (x3+x4)**3\n",
    "variance\n",
    "    standard deviation: sqrt(variance):  User math module. Math.sqrt(variance)\n",
    "Regression\n",
    "    \ty=mx+b\n",
    "          m=1.23\n",
    "          b=0.045\n",
    "          find out y\n",
    "          y=m*(x1+x2+x3+x4)+b\n",
    " Find the average of four numbers\n",
    "Find the sum of four numbers"
   ]
  },
  {
   "cell_type": "code",
   "execution_count": 15,
   "id": "f7875f7c-1231-4140-891d-d244eb7eb3c9",
   "metadata": {},
   "outputs": [
    {
     "name": "stdin",
     "output_type": "stream",
     "text": [
      "Enter the value of x1:  2\n",
      "Enter the value of x2:  4\n",
      "Enter the value of x3:  6\n",
      "Enter the value of x4:  8\n"
     ]
    },
    {
     "name": "stdout",
     "output_type": "stream",
     "text": [
      "The result of (x1 + x2)^2 is: 36\n",
      "The result of (x3 + x4)^3 is: 2744\n",
      "5\n",
      " variance :  6.666666666666667\n",
      "regression :  24.645000000000003\n",
      "standard deviationRegression 2.581988897471611\n",
      "average of four numbers :  5\n",
      "sum of 4 numbers :  20\n"
     ]
    }
   ],
   "source": [
    "# Taking four integer inputs from the user\n",
    "import math \n",
    "x1 = int(input(\"Enter the value of x1: \"))\n",
    "x2 = int(input(\"Enter the value of x2: \"))\n",
    "x3 = int(input(\"Enter the value of x3: \"))\n",
    "x4 = int(input(\"Enter the value of x4: \"))\n",
    "\n",
    "# Calculating the expressions\n",
    "result1 = (x1 + x2) ** 2\n",
    "result2 = (x3 + x4) ** 3\n",
    "\n",
    "# Printing the results\n",
    "print(\"The result of (x1 + x2)^2 is:\", result1)\n",
    "print(\"The result of (x3 + x4)^3 is:\", result2)\n",
    "\n",
    "### mean value \n",
    "mean = (x1 + x2+ x3 + x4 )//4 \n",
    "print(mean)\n",
    "## Squared Differences\n",
    "numbers = (x1 , x2, x3 , x4 )\n",
    "sum_sqd_numbers = 0\n",
    "sqd_numbers = []\n",
    "for i in numbers:\n",
    "    sqd = (i - mean) ** 2\n",
    "    sum_sqd_numbers += sqd\n",
    "    sqd_numbers.append(sqd)\n",
    "variance = sum_sqd_numbers/(4-1)\n",
    "print(\" variance : \",variance)    \n",
    "# standard deviationRegression\n",
    "std_dev = math.sqrt(variance)\n",
    "#print(std_dev)\n",
    "# Regression\n",
    "\n",
    "## y=mx+b\n",
    "m=1.23\n",
    "b=0.045\n",
    "y  =  m * (x1+x2+x3+x4) +b\n",
    "print(\"regression : \", y)\n",
    "print(\"standard deviationRegression : \",std_dev)\n",
    "print(\"average of four numbers : \",mean)\n",
    "print(\"sum of 4 numbers : \",(x1+x2+x3+x4))\n",
    "\n",
    "    \n",
    "    \n",
    "    "
   ]
  },
  {
   "cell_type": "markdown",
   "id": "9304e260-f6ee-48de-81d7-4d722b0eacc7",
   "metadata": {},
   "source": [
    "#### 5. Take the distance in km Show that in cm, meters, in milli meters, cents, feets, yards"
   ]
  },
  {
   "cell_type": "code",
   "execution_count": 16,
   "id": "51c914f1-80c4-42fc-966b-423ffd138c0c",
   "metadata": {},
   "outputs": [
    {
     "name": "stdin",
     "output_type": "stream",
     "text": [
      "Enter distance in km : 45\n"
     ]
    },
    {
     "name": "stdout",
     "output_type": "stream",
     "text": [
      "Distance: 45 kilometers\n",
      "  Meters: 45000 m\n",
      "  Centimeters: 4500000 cm\n",
      "  Millimeters: 45000000 mm\n",
      "  Feet: 147637.80000000002 ft\n",
      "  Yards: 49212.45 yd\n"
     ]
    }
   ],
   "source": [
    "km = int(input(\"Enter distance in km: \"))\n",
    "\n",
    "# Conversions\n",
    "meters = km * 1000\n",
    "centimeters = km * 100000\n",
    "millimeters = km * 1000000\n",
    "feet = km * 3280.84\n",
    "yards = km * 1093.61\n",
    "# Convert km to square feet (assuming 1 km² = 10,763,910 square feet)\n",
    "square_feet = (km ** 2) * 10763910\n",
    "cents = square_feet / 435.56\n",
    "\n",
    "# Output\n",
    "print(f\"Distance: {km} kilometers\")\n",
    "print(f\"  Meters: {meters} m\")\n",
    "print(f\"  Centimeters: {centimeters} cm\")\n",
    "print(f\"  Millimeters: {millimeters} mm\")\n",
    "print(f\"  Feet: {feet} ft\")\n",
    "print(f\"  Yards: {yards} yd\")\n",
    "print(f\"  Square Feet: {square_feet:.2f} sq ft\")\n",
    "print(f\"  Cents: {cents:.2f} cent\")\n"
   ]
  },
  {
   "cell_type": "markdown",
   "id": "fb60408a-9775-4b36-8ede-f4d4ab7d2ea0",
   "metadata": {},
   "source": [
    "#### 6.Take the size of your hard disk in GB Show that in MB, KB, TB, PB"
   ]
  },
  {
   "cell_type": "code",
   "execution_count": 18,
   "id": "ec1e78bd-0bd6-4865-b4cf-2454bed31642",
   "metadata": {},
   "outputs": [
    {
     "name": "stdin",
     "output_type": "stream",
     "text": [
      "Enter size of the disk : 522\n"
     ]
    },
    {
     "name": "stdout",
     "output_type": "stream",
     "text": [
      "Size: 522 GB\n",
      "  Megabytes: 534528 MB\n",
      "  Kilobytes: 547356672 KB\n",
      "  Terabytes: 0.509765625 TB\n",
      "  Petabytes: 0.0004978179931640625 PB\n"
     ]
    }
   ],
   "source": [
    "size_gb = int(input(\"Enter size of the disk :\"))\n",
    "mb = size_gb * 1024\n",
    "kb = size_gb * 1024 * 1024\n",
    "tb = size_gb / 1024\n",
    "pb = size_gb / (1024 * 1024)\n",
    "\n",
    "# Print the results\n",
    "print(f\"Size: {size_gb} GB\")\n",
    "print(f\"  Megabytes: {mb} MB\")\n",
    "print(f\"  Kilobytes: {kb} KB\")\n",
    "print(f\"  Terabytes: {tb} TB\")\n",
    "print(f\"  Petabytes: {pb} PB\")\n"
   ]
  },
  {
   "cell_type": "markdown",
   "id": "a84282c3-1f89-4114-8a0d-f2ccbba8c237",
   "metadata": {},
   "source": [
    "####  7.  Take name, age, height from the user and print like below\n",
    "The details of the person: Name:name of the person, Age:age of the person, Height:height of the person\n",
    "Note: make sure that no space between : and a value and should be space after “COMA”"
   ]
  },
  {
   "cell_type": "code",
   "execution_count": 19,
   "id": "f5d1d66b-d2f5-4b21-bce3-5922530fee9a",
   "metadata": {},
   "outputs": [
    {
     "name": "stdin",
     "output_type": "stream",
     "text": [
      "Enter your name:  naresh\n",
      "Enter your age:  19\n",
      "Enter your height (in cm):  22.1\n"
     ]
    },
    {
     "name": "stdout",
     "output_type": "stream",
     "text": [
      "The details of the person: Name:naresh, Age:19, Height:22.1\n"
     ]
    }
   ],
   "source": [
    "# Take user inputs\n",
    "name = input(\"Enter your name: \")\n",
    "age = input(\"Enter your age: \")\n",
    "height = input(\"Enter your height (in cm): \")\n",
    "\n",
    "# Print the details in the specified format\n",
    "print(f\"The details of the person: Name:{name}, Age:{age}, Height:{height}\")\n"
   ]
  },
  {
   "cell_type": "markdown",
   "id": "64c30dca-31b7-440a-9280-9313a2e95ad4",
   "metadata": {},
   "source": [
    "#### 8. BMI calculation: take required parameters for BMI calculation from the user and calculate BMI of the person"
   ]
  },
  {
   "cell_type": "code",
   "execution_count": 5,
   "id": "224b7f3f-3f97-485f-b71f-5e5b3452287b",
   "metadata": {},
   "outputs": [
    {
     "name": "stdin",
     "output_type": "stream",
     "text": [
      "Enter your weight in kilograms:  55\n",
      "Enter your height in meters:  1.2\n"
     ]
    },
    {
     "name": "stdout",
     "output_type": "stream",
     "text": [
      "Your BMI is: 38.19444444444444\n"
     ]
    }
   ],
   "source": [
    "weight_kg = float(input(\"Enter your weight in kilograms: \"))\n",
    "height_m = float(input(\"Enter your height in meters: \"))\n",
    "\n",
    "bmi = weight_kg / (height_m ** 2)\n",
    "\n",
    "print(\"Your BMI is:\", bmi)"
   ]
  },
  {
   "cell_type": "raw",
   "id": "b16a2392-b781-458f-8cae-b22eedd57e2d",
   "metadata": {},
   "source": [
    "9. name=\"Jayaram\"\n",
    "age=1.6\n",
    "height=3.5356234\n",
    "weight=10.343856783\n",
    "By using above inputs print the output\n",
    "Name:Jayaram, Age:1.6, Height:3.54, Weight:10.344\n",
    "Note: Use format specifiers(%s, %d, %f)"
   ]
  },
  {
   "cell_type": "code",
   "execution_count": 25,
   "id": "67de4021-19b3-406a-a435-65f91aac206a",
   "metadata": {},
   "outputs": [
    {
     "name": "stdout",
     "output_type": "stream",
     "text": [
      "Name: Jayaram, Age: 1.6, Height: 3.54, Weight: 10.344\n"
     ]
    }
   ],
   "source": [
    "name = \"Jayaram\"\n",
    "age = 1.6\n",
    "height = 3.5356234\n",
    "weight = 10.343856783\n",
    "\n",
    "print(\"Name: %s, Age: %.1f, Height: %.2f, Weight: %.3f\" % (name, age, height, weight))\n"
   ]
  },
  {
   "cell_type": "markdown",
   "id": "2a9bd5bb-cfe3-44a5-b44d-984f12e811f1",
   "metadata": {},
   "source": [
    "#### 10. Take three upper case letters from the user convert in to small case."
   ]
  },
  {
   "cell_type": "code",
   "execution_count": 26,
   "id": "f454997f-6629-4c62-8708-36328f203301",
   "metadata": {},
   "outputs": [
    {
     "name": "stdin",
     "output_type": "stream",
     "text": [
      "Enter the first uppercase letter:  A\n",
      "Enter the second uppercase letter:  B\n",
      "Enter the third uppercase letter:  H\n"
     ]
    },
    {
     "name": "stdout",
     "output_type": "stream",
     "text": [
      "Lowercase letters: a, b, h\n"
     ]
    }
   ],
   "source": [
    "\n",
    "letter1 = input(\"Enter the first uppercase letter: \")\n",
    "letter2 = input(\"Enter the second uppercase letter: \")\n",
    "letter3 = input(\"Enter the third uppercase letter: \")\n",
    "lowercase1 = chr(ord(letter1) + 32)\n",
    "lowercase2 = chr(ord(letter2) + 32)\n",
    "lowercase3 = chr(ord(letter3) + 32)\n",
    "\n",
    "\n",
    "print(f\"Lowercase letters: {lowercase1}, {lowercase2}, {lowercase3}\")\n"
   ]
  },
  {
   "cell_type": "markdown",
   "id": "7b1e455d-d5ce-421f-bdb4-7e3cb06203fd",
   "metadata": {},
   "source": [
    "#### 11. take base and exponent value from the user and print like in mathematics: example: base=2, exponent=3: 23\n",
    "Use: 2\\u00b3"
   ]
  },
  {
   "cell_type": "code",
   "execution_count": 27,
   "id": "34e98b12-12fb-4c4a-ad00-d53831addb4e",
   "metadata": {},
   "outputs": [
    {
     "name": "stdin",
     "output_type": "stream",
     "text": [
      "Enter the base:  5\n",
      "Enter the exponent:  8\n"
     ]
    },
    {
     "name": "stdout",
     "output_type": "stream",
     "text": [
      "5⁸\n"
     ]
    }
   ],
   "source": [
    "base = int(input(\"Enter the base: \"))\n",
    "exponent = int(input(\"Enter the exponent: \"))\n",
    "\n",
    "# Convert exponent to superscript using Unicode\n",
    "superscripts = {\n",
    "    '0': '\\u2070', '1': '\\u00b9', '2': '\\u00b2', '3': '\\u00b3', \n",
    "    '4': '\\u2074', '5': '\\u2075', '6': '\\u2076', '7': '\\u2077', \n",
    "    '8': '\\u2078', '9': '\\u2079'\n",
    "}\n",
    "exponent_str = ''.join(superscripts[digit] for digit in str(exponent))\n",
    "\n",
    "# Display the result in the mathematical format\n",
    "print(f\"{base}{exponent_str}\")\n"
   ]
  },
  {
   "cell_type": "markdown",
   "id": "3c15b949-5e00-498f-9333-c74afead9d9a",
   "metadata": {},
   "source": [
    "### 12. Take some groceries cost prices and print total cost and average cost, what is the max cost, what is the minimum cost."
   ]
  },
  {
   "cell_type": "code",
   "execution_count": 28,
   "id": "e0d9724e-408f-4185-8008-f3bdb342b0b1",
   "metadata": {},
   "outputs": [
    {
     "name": "stdin",
     "output_type": "stream",
     "text": [
      "Enter the cost prices of groceries (comma-separated):  5465\n"
     ]
    },
    {
     "name": "stdout",
     "output_type": "stream",
     "text": [
      "Total Cost: 5465.00\n",
      "Average Cost: 5465.00\n",
      "Maximum Cost: 5465.00\n",
      "Minimum Cost: 5465.00\n"
     ]
    }
   ],
   "source": [
    "# Take input from the user for grocery costs (comma-separated)\n",
    "costs = input(\"Enter the cost prices of groceries (comma-separated): \")\n",
    "\n",
    "# Split the input string into a list of numbers and convert them to floats\n",
    "cost_list = [float(cost) for cost in costs.split(\",\")]\n",
    "\n",
    "# Calculate total cost, average cost, maximum cost, and minimum cost\n",
    "total_cost = sum(cost_list)\n",
    "average_cost = total_cost / len(cost_list)\n",
    "max_cost = max(cost_list)\n",
    "min_cost = min(cost_list)\n",
    "\n",
    "# Display the results\n",
    "print(f\"Total Cost: {total_cost:.2f}\")\n",
    "print(f\"Average Cost: {average_cost:.2f}\")\n",
    "print(f\"Maximum Cost: {max_cost:.2f}\")\n",
    "print(f\"Minimum Cost: {min_cost:.2f}\")\n"
   ]
  },
  {
   "cell_type": "code",
   "execution_count": 31,
   "id": "e5623530-c3fb-4802-a177-df36370de3b8",
   "metadata": {},
   "outputs": [
    {
     "name": "stdout",
     "output_type": "stream",
     "text": [
      " Total cost for groceries: 325.90\n",
      " Average cost for groceries: 81.48\n",
      " Maximum cost for groceries: 200\n",
      " Minimum cost for groceries: 35\n"
     ]
    }
   ],
   "source": [
    "groceries = [35,45.3,200,45.6]\n",
    "total = sum(groceries)\n",
    "avg_cost = total/len(groceries)\n",
    "max_cost = max(groceries)\n",
    "min_cost = min(groceries)\n",
    "print(f\" Total cost for groceries: {total:.2f}\")\n",
    "print(f\" Average cost for groceries: {avg_cost:.2f}\")\n",
    "print(f\" Maximum cost for groceries: {max_cost}\")\n",
    "print(f\" Minimum cost for groceries: {min_cost}\") "
   ]
  },
  {
   "cell_type": "markdown",
   "id": "e810e4be-7007-406c-a973-8d5f61d9e78a",
   "metadata": {},
   "source": [
    "#### 13. Assign “ten” value to variable it is 10 otherwise assign “Not ten” \n",
    "    Note: write two versions of program\n",
    "\tVersion1: use and operator\n",
    "\tVersion2: use or operator ```"
   ]
  },
  {
   "cell_type": "code",
   "execution_count": 1,
   "id": "0c77bb17-26fd-4b4d-bf95-c519970f0510",
   "metadata": {},
   "outputs": [
    {
     "name": "stdout",
     "output_type": "stream",
     "text": [
      "Not ten\n"
     ]
    }
   ],
   "source": [
    "# using AND operator\n",
    "number = 10\n",
    "\n",
    "if number == 10 and number != 10:\n",
    "    result = \"ten\"\n",
    "else:\n",
    "    result = \"Not ten\"\n",
    "\n",
    "print(result)"
   ]
  },
  {
   "cell_type": "code",
   "execution_count": 2,
   "id": "7b7ce988-33c4-4234-b469-1bc2f686aa37",
   "metadata": {},
   "outputs": [
    {
     "name": "stdout",
     "output_type": "stream",
     "text": [
      "ten\n"
     ]
    }
   ],
   "source": [
    "#by using or operator\n",
    "number = 10\n",
    "\n",
    "if number == 10 or number != 10:\n",
    "    result = \"ten\"\n",
    "else:\n",
    "    result = \"Not ten\"\n",
    "\n",
    "print(result)"
   ]
  },
  {
   "cell_type": "markdown",
   "id": "c6f7fa22-e9d0-4ea0-b529-dded8b9d0eaa",
   "metadata": {},
   "source": [
    "#### 14. Take the input from the user for(Total number of people, total number of buses, Number of seats for bus, adjust factor). Based on four inputs\n",
    "#### Decide whether there is sufficient buses or not and give solution for how many extra buses required."
   ]
  },
  {
   "cell_type": "code",
   "execution_count": null,
   "id": "75f088b2-29f3-4a38-a367-5b08c2bde579",
   "metadata": {},
   "outputs": [],
   "source": [
    "# Get user input\n",
    "people = int(input(\"How many people are there? \"))\n",
    "buses = int(input(\"How many buses are there? \"))\n",
    "seats = int(input(\"How many seats are there in each bus? \"))\n",
    "adjust = float(input(\"Enter the adjust factor (e.g., 0.8 for 20% spacing): \"))\n",
    "\n",
    "# Calculate total capacity\n",
    "total_capacity = buses * seats * adjust\n",
    "\n",
    "# Calculate required buses\n",
    "required_buses = people // total_capacity\n",
    "if people % total_capacity > 0:\n",
    "    required_buses += 1\n",
    "\n",
    "# Calculate extra buses\n",
    "extra_buses = required_buses - buses\n",
    "\n",
    "# Print the result\n",
    "if extra_buses > 0:\n",
    "    print(f\"There are not enough buses. You need {extra_buses} more bus(es).\")\n",
    "elif extra_buses == 0:\n",
    "    print(\"There are sufficient buses.\")\n",
    "else:\n",
    "    print(\"There are extra buses available.\")"
   ]
  },
  {
   "cell_type": "markdown",
   "id": "9f3d22f4-7b40-4193-94d9-3196a343b711",
   "metadata": {},
   "source": [
    "#### 14.Take number from the user decide whether it is even or odd."
   ]
  },
  {
   "cell_type": "code",
   "execution_count": 3,
   "id": "6200b6cc-54b2-4520-8667-695b09669300",
   "metadata": {},
   "outputs": [
    {
     "name": "stdin",
     "output_type": "stream",
     "text": [
      "Enter a number:  5\n"
     ]
    },
    {
     "name": "stdout",
     "output_type": "stream",
     "text": [
      "5 is odd.\n"
     ]
    }
   ],
   "source": [
    "number = int(input(\"Enter a number: \"))\n",
    "\n",
    "if number % 2 == 0:\n",
    "    print(number, \"is even.\")\n",
    "else:\n",
    "    print(number, \"is odd.\")"
   ]
  },
  {
   "cell_type": "markdown",
   "id": "3e04f852-78b7-41a0-9309-fd0261d87345",
   "metadata": {},
   "source": [
    "#### 16.take a string from the user print the length. if the user not given anything then show an error message"
   ]
  },
  {
   "cell_type": "code",
   "execution_count": 4,
   "id": "8a7fe299-f227-4dfb-a3c6-b52e8fa1379a",
   "metadata": {},
   "outputs": [
    {
     "name": "stdin",
     "output_type": "stream",
     "text": [
      "Enter a string:  ofiqfkhoq 8qw8uqy9 qyr\n"
     ]
    },
    {
     "name": "stdout",
     "output_type": "stream",
     "text": [
      "Length of the string is: 22\n"
     ]
    }
   ],
   "source": [
    "string = input(\"Enter a string: \")\n",
    "\n",
    "if string:\n",
    "    print(\"Length of the string is:\", len(string))\n",
    "else:\n",
    "    print(\"Error: Please enter a string.\")"
   ]
  },
  {
   "cell_type": "markdown",
   "id": "321ff832-a17a-46df-9405-c34c468346e2",
   "metadata": {},
   "source": [
    "#### Question 17: Code to Perform Mathematical Operations\n",
    "\n",
    "Write a Python program that performs mathematical operations based on user input. The program should:\n",
    "\n",
    "1. Take two numbers from the user.\n",
    "2. Display the following menu:\n",
    "\n",
    "    - 1. Add\n",
    "    - 2. Subtract\n",
    "    - 3. Multiply\n",
    "    - 4. Divide\n",
    "    - 5. Quit\n",
    "\n",
    "3. Prompt the user to select an option.\n",
    "4. Based on the option selected, perform the corresponding operation and display the result.\n",
    "5. Continue displaying the menu and performing operations until the user chooses to quit.\n"
   ]
  },
  {
   "cell_type": "code",
   "execution_count": 7,
   "id": "72cfc099-1aec-4ae1-a5e2-56912d089627",
   "metadata": {},
   "outputs": [
    {
     "name": "stdin",
     "output_type": "stream",
     "text": [
      "Enter first number:  56\n",
      "Enter second number:  94\n"
     ]
    },
    {
     "name": "stdout",
     "output_type": "stream",
     "text": [
      "Select an operation:\n",
      "1. add\n",
      "2. sub\n",
      "3. mul\n",
      "4. div\n",
      "5. Quit\n"
     ]
    },
    {
     "name": "stdin",
     "output_type": "stream",
     "text": [
      "Enter an option (1/2/3/4/5):  1\n"
     ]
    },
    {
     "name": "stdout",
     "output_type": "stream",
     "text": [
      "The result of addition is: 150.0\n"
     ]
    }
   ],
   "source": [
    "num1 = float(input(\"Enter first number: \"))\n",
    "num2 = float(input(\"Enter second number: \"))\n",
    "print(\"Select an operation:\\n1. add\\n2. sub\\n3. mul\\n4. div\\n5. Quit\")\n",
    "option = input(\"Enter an option (1/2/3/4/5): \")\n",
    "\n",
    "if option == '1':\n",
    "    print(f\"The result of addition is: {num1 + num2}\")\n",
    "elif option == '2':\n",
    "    print(f\"The result of subtraction is: {num1 - num2}\")\n",
    "elif option == '3':\n",
    "    print(f\"The result of multiplication is: {num1 * num2}\")\n",
    "elif option == '4':\n",
    "    if num2 != 0:\n",
    "        print(f\"The result of division is: {num1 / num2}\")\n",
    "    else:\n",
    "        print(\"Error: Cannot divide by zero.\")\n",
    "elif option == '5':\n",
    "    print(\"Exiting the program.\")\n",
    "    print(\"*****THANK YOU ******\")\n",
    "   \n",
    "else:\n",
    "    print(\"Invalid option. Please try again.\")\n"
   ]
  },
  {
   "cell_type": "markdown",
   "id": "4e815798-a74b-4113-8b6a-ce8bb33e0064",
   "metadata": {},
   "source": [
    "#### Question 18: Menu Selection Based on Age Group\n",
    "\n",
    "Write a Python program that displays a menu for selecting an age group and shows a corresponding message based on the user's selection. The program should:\n",
    "\n",
    "1. Show the following menu:\n",
    "    - 1. Kids\n",
    "    - 2. Men's\n",
    "    - 3. Women's\n",
    "\n",
    "2. Based on the option selected, display the following message:\n",
    "    - Option 1: \"You are a kid\"\n",
    "    - Option 2: \"You are a gentleman\"\n",
    "    - Option 3: \"You are a good woman\"\n",
    "\n",
    "3. If the option value is greater than 3, show an error message: \"Invalid option. Please select a valid option.\"\n"
   ]
  },
  {
   "cell_type": "code",
   "execution_count": 9,
   "id": "03a12892-dcb1-4483-ac83-50b0a0c03309",
   "metadata": {},
   "outputs": [
    {
     "name": "stdout",
     "output_type": "stream",
     "text": [
      "1. Kids\n",
      "2. Men's\n",
      "3. Women's\n"
     ]
    },
    {
     "name": "stdin",
     "output_type": "stream",
     "text": [
      "Enter an option (1/2/3):  5\n"
     ]
    },
    {
     "name": "stdout",
     "output_type": "stream",
     "text": [
      "Invalid option. Please select a valid option.\n"
     ]
    }
   ],
   "source": [
    "# Display the menu\n",
    "print(\"1. Kids\")\n",
    "print(\"2. Men's\")\n",
    "print(\"3. Women's\")\n",
    "\n",
    "# Take user input\n",
    "option = int(input(\"Enter an option (1/2/3): \"))\n",
    "\n",
    "# Show the message based on the selection\n",
    "if option == 1:\n",
    "    print(\"You are a kid\")\n",
    "elif option == 2:\n",
    "    print(\"You are a gentleman\")\n",
    "elif option == 3:\n",
    "    print(\"You are a good woman\")\n",
    "else:\n",
    "    print(\"Invalid option. Please select a valid option.\")\n"
   ]
  },
  {
   "cell_type": "markdown",
   "id": "255084a7-3ffb-4b37-81d8-e15507834268",
   "metadata": {},
   "source": [
    "#### Question 19: Check Substring in a String\n",
    "\n",
    "Write a Python program to check if a given substring is present in an actual string. \n",
    "\n",
    "**Example:**\n",
    "\n",
    "- Given string: `act = \"python is a pure object oriented programming language\"`\n",
    "- Check whether the substring `\"pure\"` is present in `act`.\n",
    "\n",
    "**Note:** Use the `in` operator to perform the check.\n"
   ]
  },
  {
   "cell_type": "code",
   "execution_count": 10,
   "id": "9396d048-ef94-4238-8b60-da9bffe3bee7",
   "metadata": {},
   "outputs": [
    {
     "name": "stdout",
     "output_type": "stream",
     "text": [
      "'pure' is present in the actual string.\n"
     ]
    }
   ],
   "source": [
    "# the actual string\n",
    "act = \"python is a pure object oriented programming language\"\n",
    "\n",
    "# substring to check\n",
    "substring = \"pure\"\n",
    "\n",
    "# Check the substring using the 'in' operator\n",
    "if substring in act:\n",
    "    print(f\"'{substring}' is present in the actual string.\")\n",
    "else:\n",
    "    print(f\"'{substring}' is not present in the actual string.\")\n"
   ]
  },
  {
   "cell_type": "markdown",
   "id": "3e9af650-6f4e-4054-b2dd-a0322f242951",
   "metadata": {},
   "source": [
    "#### 20. Take three numbers from the user and decide which is big"
   ]
  },
  {
   "cell_type": "code",
   "execution_count": 11,
   "id": "95a3c273-4033-49bc-ab4b-dc3fac64ed18",
   "metadata": {},
   "outputs": [
    {
     "name": "stdin",
     "output_type": "stream",
     "text": [
      "Enter the first number:  56\n",
      "Enter the second number:  96\n",
      "Enter the third number:  125\n"
     ]
    },
    {
     "name": "stdout",
     "output_type": "stream",
     "text": [
      "The largest number is: 125.0\n"
     ]
    }
   ],
   "source": [
    "num1 = float(input(\"Enter the first number: \"))\n",
    "num2 = float(input(\"Enter the second number: \"))\n",
    "num3 = float(input(\"Enter the third number: \"))\n",
    "\n",
    "if num1 >= num2 and num1 >= num3:\n",
    "    print(f\"The largest number is: {num1}\")\n",
    "elif num2 >= num1 and num2 >= num3:\n",
    "    print(f\"The largest number is: {num2}\")\n",
    "else:\n",
    "    print(f\"The largest number is: {num3}\")\n"
   ]
  },
  {
   "cell_type": "markdown",
   "id": "8a99476f-49f1-4f2d-87d6-b2bf50d93b3c",
   "metadata": {},
   "source": [
    "### Question 21: Marriage Eligibility Check\n",
    "\n",
    "Write a Python program to determine whether a person is eligible for marriage in India based on their age and gender. The eligibility criteria are:\n",
    "\n",
    "- **Men:** Age must be greater than 24.\n",
    "- **Women:** Age must be greater than 21.\n",
    "\n",
    "The program should:\n",
    "1. Take the age and gender of the user as input.\n",
    "2. Decide whether the user is eligible for marriage based on the given criteria.\n",
    "3. Print a message indicating whether the user is eligible or not.\n",
    "\n",
    "\n",
    "\n"
   ]
  },
  {
   "cell_type": "code",
   "execution_count": 12,
   "id": "c9d5c6e2-f129-4119-b7b7-8cdc202c2cfb",
   "metadata": {},
   "outputs": [
    {
     "name": "stdin",
     "output_type": "stream",
     "text": [
      "Enter your age:  29\n",
      "Enter your gender (male/female):  male\n"
     ]
    },
    {
     "name": "stdout",
     "output_type": "stream",
     "text": [
      "You are eligible for marriage.\n"
     ]
    }
   ],
   "source": [
    "age = int(input(\"Enter your age: \"))\n",
    "gender = input(\"Enter your gender (male/female): \").lower()\n",
    "\n",
    "if gender == \"male\":\n",
    "    if age > 24:\n",
    "        print(\"You are eligible for marriage.\")\n",
    "    else:\n",
    "        print(\"You are not eligible for marriage.\")\n",
    "elif gender == \"female\":\n",
    "    if age > 21:\n",
    "        print(\"You are eligible for marriage.\")\n",
    "    else:\n",
    "        print(\"You are not eligible for marriage.\")\n",
    "else:\n",
    "    print(\"Invalid gender input.\")\n"
   ]
  },
  {
   "cell_type": "markdown",
   "id": "40318c1e-e3c4-47d1-aaab-f4fd0cb55917",
   "metadata": {},
   "source": [
    "### Question 22: Activities Based on Age and Gender\n",
    "\n",
    "Write a Python program to determine what a person can do in India based on their age and gender. The program should:\n",
    "\n",
    "1. **Prompt the user to select their gender:**\n",
    "    - 1. Men\n",
    "    - 2. Women\n",
    "\n",
    "2. **Take the selected option and the age of the user as input.**\n",
    "\n",
    "3. **Check the following conditions and print what the user can do based on the criteria:**\n",
    "\n",
    "    - **Theatre:** \n",
    "        - Men: Age must be 5 or older.\n",
    "        - Women: Age must be 7 or older.\n",
    "\n",
    "    - **Voting System:** \n",
    "        - Both men and women must be 18 or older.\n",
    "\n",
    "    - **Marriage in India:** \n",
    "        - Men: Age must be 23 or older.\n",
    "        - Women: Age must be 21 or older.\n",
    "\n",
    "    - **Government Jobs:**\n",
    "        - Men: Age must be between 18 and 32.\n",
    "        - Women: Age must be between 18 and 34.\n",
    "\n",
    "    - **Driving License:**\n",
    "        - Both men and women must be between 18 and 60 years old.\n",
    "\n",
    "**Eligibility to be checked:**\n",
    "\n",
    "1. Theatre\n",
    "2. Voting System\n",
    "3. Marriage in India\n",
    "4. Government Jobs\n",
    "5. Driving License\n",
    "\n",
    "\n"
   ]
  },
  {
   "cell_type": "code",
   "execution_count": 13,
   "id": "ac45437a-4e9d-4ae0-a560-ae914b90b962",
   "metadata": {},
   "outputs": [
    {
     "name": "stdin",
     "output_type": "stream",
     "text": [
      "Enter your age:  25\n",
      "Enter your gender (male/female):  male\n"
     ]
    },
    {
     "name": "stdout",
     "output_type": "stream",
     "text": [
      "You can vote.\n",
      "You can go to the theatre.\n",
      "You can marry in India.\n"
     ]
    }
   ],
   "source": [
    "age = int(input(\"Enter your age: \"))\n",
    "gender = input(\"Enter your gender (male/female): \").lower()\n",
    "\n",
    "if age >= 18:\n",
    "    print(\"You can vote.\")\n",
    "else:\n",
    "    print(\"You cannot vote yet.\")\n",
    "\n",
    "if (gender == \"male\" and age >= 5) or (gender == \"female\" and age >= 7):\n",
    "    print(\"You can go to the theatre.\")\n",
    "else:\n",
    "    print(\"You cannot go to the theatre.\")\n",
    "\n",
    "if gender == \"male\" and age >= 23:\n",
    "    print(\"You can marry in India.\")\n",
    "elif gender == \"female\" and age >= 21:\n",
    "    print(\"You can marry in India.\")\n",
    "else:\n",
    "    print(\"You cannot marry in India yet.\")\n"
   ]
  },
  {
   "cell_type": "markdown",
   "id": "56ecb894-d50b-4f99-83e2-6429ed7ba0ca",
   "metadata": {},
   "source": [
    "### Question 23: Operating Systems Selection\n",
    "\n",
    "Write a Python program to display a message based on the user's choice of operating system. The program should:\n",
    "\n",
    "1. **Prompt the user to select an operating system:**\n",
    "    - 1. Windows\n",
    "    - 2. Android\n",
    "    - 3. Mac\n",
    "\n",
    "2. **Display the corresponding message based on the user's choice:**\n",
    "    - If the user enters `1`, show: \"Go to the first floor and buy a Windows laptop or mobile.\"\n",
    "    - If the user enters `2`, show: \"Go to the second floor and buy Android mobiles.\"\n",
    "    - If the user enters `3`, show: \"Go to the third floor and buy a Mac laptop or iPhones.\"\n",
    "    - If the user enters any other number, show: \"There are only three floors. Please select 1, 2, or 3.\"\n",
    "\n",
    "\n",
    "\n"
   ]
  },
  {
   "cell_type": "code",
   "execution_count": 15,
   "id": "a52ca75c-6726-461c-bb27-88f09dc9fe16",
   "metadata": {},
   "outputs": [
    {
     "name": "stdout",
     "output_type": "stream",
     "text": [
      "1. Windows\n",
      "2. Android\n",
      "3. Mac\n"
     ]
    },
    {
     "name": "stdin",
     "output_type": "stream",
     "text": [
      "Enter an option:  1\n"
     ]
    },
    {
     "name": "stdout",
     "output_type": "stream",
     "text": [
      "Go to the first floor and buy a Windows laptop or mobile.\n"
     ]
    }
   ],
   "source": [
    "print(\"1. Windows\")\n",
    "print(\"2. Android\")\n",
    "print(\"3. Mac\")\n",
    "\n",
    "option = int(input(\"Enter an option: \"))\n",
    "\n",
    "if option == 1:\n",
    "    print(\"Go to the first floor and buy a Windows laptop or mobile.\")\n",
    "elif option == 2:\n",
    "    print(\"Go to the second floor and buy Android mobiles.\")\n",
    "elif option == 3:\n",
    "    print(\"Go to the third floor and buy a Mac laptop or iPhones.\")\n",
    "else:\n",
    "    print(\"There are only three floors. Please select 1, 2, or 3.\")\n"
   ]
  },
  {
   "cell_type": "markdown",
   "id": "a4df4f14-2e57-444c-9678-e444ad9c16f0",
   "metadata": {},
   "source": [
    "#### 24.Given an age, figure out whether someone's a baby, toddler, child, teenager, adult or old codger."
   ]
  },
  {
   "cell_type": "code",
   "execution_count": 16,
   "id": "15c7cc98-987b-454e-a819-788814e658db",
   "metadata": {},
   "outputs": [
    {
     "name": "stdin",
     "output_type": "stream",
     "text": [
      "Enter the age:  95\n"
     ]
    },
    {
     "name": "stdout",
     "output_type": "stream",
     "text": [
      "You are an old codger.\n"
     ]
    }
   ],
   "source": [
    "age = int(input(\"Enter the age: \"))\n",
    "\n",
    "if age <= 2:\n",
    "    print(\"You are a baby.\")\n",
    "elif 3 <= age <= 5:\n",
    "    print(\"You are a toddler.\")\n",
    "elif 6 <= age <= 12:\n",
    "    print(\"You are a child.\")\n",
    "elif 13 <= age <= 19:\n",
    "    print(\"You are a teenager.\")\n",
    "elif 20 <= age <= 64:\n",
    "    print(\"You are an adult.\")\n",
    "else:\n",
    "    print(\"You are an old codger.\")\n"
   ]
  },
  {
   "cell_type": "markdown",
   "id": "b923cb83-571f-4f22-bf93-cad9609fa955",
   "metadata": {},
   "source": [
    "#### 25.Take two number a,b from the user and check whether a is divisible by b or not"
   ]
  },
  {
   "cell_type": "code",
   "execution_count": 19,
   "id": "c72f41a7-38d2-4d72-99b1-73b789338349",
   "metadata": {},
   "outputs": [
    {
     "name": "stdin",
     "output_type": "stream",
     "text": [
      "Enter the first number (a):  27\n",
      "Enter the second number (b):  54\n"
     ]
    },
    {
     "name": "stdout",
     "output_type": "stream",
     "text": [
      "27 is not divisible by 54.\n"
     ]
    }
   ],
   "source": [
    "a = int(input(\"Enter the first number (a): \"))\n",
    "b = int(input(\"Enter the second number (b): \"))\n",
    "\n",
    "if b != 0 and a % b == 0:\n",
    "    print(f\"{a} is divisible by {b}.\")\n",
    "else:\n",
    "    print(f\"{a} is not divisible by {b}.\")\n"
   ]
  },
  {
   "cell_type": "markdown",
   "id": "3c33190d-22f4-4d32-9997-810ed5c98447",
   "metadata": {},
   "source": [
    "#### 26. Take a letter from the user and print that letter belongs to which category I.e is it a small letter or capital letter or number or special symbol"
   ]
  },
  {
   "cell_type": "code",
   "execution_count": 23,
   "id": "fa1d0102-fba5-490f-a04e-5550b35e5411",
   "metadata": {},
   "outputs": [
    {
     "name": "stdin",
     "output_type": "stream",
     "text": [
      "Enter a letter:  jahjhs\n"
     ]
    },
    {
     "name": "stdout",
     "output_type": "stream",
     "text": [
      "Please enter exactly one character.\n"
     ]
    }
   ],
   "source": [
    "letter = input(\"Enter a letter: \")\n",
    "\n",
    "if len(letter) != 1:\n",
    "    print(\"Please enter exactly one character.\")\n",
    "else:\n",
    "    if 'a' <= letter <= 'z':\n",
    "        print(\"The letter is a small letter.\")\n",
    "    elif 'A' <= letter <= 'Z':\n",
    "        print(\"The letter is a capital letter.\")\n",
    "    elif '0' <= letter <= '9':\n",
    "        print(\"The letter is a number.\")\n",
    "    else:\n",
    "        print(\"The letter is a special symbol.\")"
   ]
  },
  {
   "cell_type": "markdown",
   "id": "522f0931-84a0-4177-96dd-92d8a3dcb5e5",
   "metadata": {},
   "source": [
    "#### 27. take a number from the user and check whether it is prime?"
   ]
  },
  {
   "cell_type": "code",
   "execution_count": 7,
   "id": "4dd07373-719b-4cc8-88a5-ad5bd933e83f",
   "metadata": {},
   "outputs": [
    {
     "name": "stdin",
     "output_type": "stream",
     "text": [
      "Enter a number:  2\n"
     ]
    },
    {
     "name": "stdout",
     "output_type": "stream",
     "text": [
      "2 is a prime number\n"
     ]
    }
   ],
   "source": [
    "num= int(input(\"Enter a number: \"))\n",
    "\n",
    "# Negative numbers, 0 and 1 are not primes\n",
    "if num > 1:\n",
    "  \n",
    "    # Iterate from 2 to n // 2\n",
    "    for i in range(2, (num//2)+1):\n",
    "      \n",
    "        # If num is divisible by any number between\n",
    "        # 2 and n / 2, it is not prime\n",
    "        if (num % i) == 0:\n",
    "            print(num, \"is not a prime number\")\n",
    "            break\n",
    "    else:\n",
    "        print(num, \"is a prime number\")\n",
    "else:\n",
    "    print(num, \"is not a prime number\")"
   ]
  },
  {
   "cell_type": "markdown",
   "id": "df092268-1d51-403a-b4d2-bd850ecf7299",
   "metadata": {},
   "source": [
    "#### 28. take a string from the user and check contains only digits or not?"
   ]
  },
  {
   "cell_type": "code",
   "execution_count": 9,
   "id": "dfb27e90-8b65-44ac-bd21-987b0cddeed1",
   "metadata": {},
   "outputs": [
    {
     "name": "stdin",
     "output_type": "stream",
     "text": [
      "Enter a string:  4654268546246\n"
     ]
    },
    {
     "name": "stdout",
     "output_type": "stream",
     "text": [
      "The string contains only digits.\n"
     ]
    }
   ],
   "source": [
    "string = input(\"Enter a string: \")\n",
    "\n",
    "for char in string:\n",
    "    if not ('0' <= char <= '9'):\n",
    "        print(\"The string contains non-digit characters.\")\n",
    "        break\n",
    "else:\n",
    "    print(\"The string contains only digits.\")"
   ]
  },
  {
   "cell_type": "markdown",
   "id": "35a29113-3499-4a79-868e-4e18743cbb27",
   "metadata": {},
   "source": [
    "#### 29. take a string from the user and check contains only  alphabets or not?"
   ]
  },
  {
   "cell_type": "code",
   "execution_count": 11,
   "id": "a911f710-fa5e-4531-ac5e-c7fbcecb09a1",
   "metadata": {},
   "outputs": [
    {
     "name": "stdin",
     "output_type": "stream",
     "text": [
      "Enter a string:  ochjh\n"
     ]
    },
    {
     "name": "stdout",
     "output_type": "stream",
     "text": [
      "The string contains only alphabets.\n"
     ]
    }
   ],
   "source": [
    "string = input(\"Enter a string: \")\n",
    "\n",
    "for char in string:\n",
    "    if not ('a' <= char <= 'z' or 'A' <= char <= 'Z'):\n",
    "        print(\"The string contains non-alphabetic characters.\")\n",
    "        break\n",
    "else:\n",
    "    print(\"The string contains only alphabets.\")"
   ]
  },
  {
   "cell_type": "markdown",
   "id": "9e8ef2c8-2e08-4aa1-bc15-21d80c165015",
   "metadata": {},
   "source": [
    "#### 30. take a string from the user and check contains only  special chars or not?"
   ]
  },
  {
   "cell_type": "code",
   "execution_count": 13,
   "id": "91e3c5a7-a781-49e1-b2c9-c5cc150b6922",
   "metadata": {},
   "outputs": [
    {
     "name": "stdin",
     "output_type": "stream",
     "text": [
      "Enter a string:  !@#$%^&*()_+\n"
     ]
    },
    {
     "name": "stdout",
     "output_type": "stream",
     "text": [
      "The string contains only special characters.\n"
     ]
    }
   ],
   "source": [
    "string = input(\"Enter a string: \")\n",
    "\n",
    "for char in string:\n",
    "    if ('a' <= char <= 'z') or ('A' <= char <= 'Z') or ('0' <= char <= '9'):\n",
    "        print(\"The string contains non-special characters.\")\n",
    "        break\n",
    "else:\n",
    "    print(\"The string contains only special characters.\")"
   ]
  },
  {
   "cell_type": "markdown",
   "id": "b1da1ace-8cd5-4aa3-90b9-93de0b9f5e5b",
   "metadata": {},
   "source": [
    "#### 31. take a string from the user and check contains only  capital letters or not?"
   ]
  },
  {
   "cell_type": "code",
   "execution_count": 14,
   "id": "a1118f0c-54fa-448d-a11f-87ac508b51f7",
   "metadata": {},
   "outputs": [
    {
     "name": "stdin",
     "output_type": "stream",
     "text": [
      "Enter a string:  AKJGUgy\n"
     ]
    },
    {
     "name": "stdout",
     "output_type": "stream",
     "text": [
      "The string contains non-capital letters.\n"
     ]
    }
   ],
   "source": [
    "string = input(\"Enter a string: \")\n",
    "\n",
    "for char in string:\n",
    "    if not ('A' <= char <= 'Z'):\n",
    "        print(\"The string contains non-capital letters.\")\n",
    "        break\n",
    "else:\n",
    "    print(\"The string contains only capital letters.\")"
   ]
  },
  {
   "cell_type": "markdown",
   "id": "49adda0b-2a22-4c60-a59e-82690c7368f6",
   "metadata": {},
   "source": [
    "#### 32. .take a string from the user and check contains only  small letters or not?"
   ]
  },
  {
   "cell_type": "code",
   "execution_count": null,
   "id": "18057fa7-186b-4f63-a2b5-80caf459e32b",
   "metadata": {},
   "outputs": [],
   "source": [
    "string = input(\"Enter a string: \")\n",
    "\n",
    "for char in string:\n",
    "    if not ('A' <= char <= 'Z'):\n",
    "        print(\"The string contains non-capital letters.\")\n",
    "        break\n",
    "else:\n",
    "    print(\"The string contains only capital letters.\")"
   ]
  },
  {
   "cell_type": "code",
   "execution_count": null,
   "id": "37e62fc7-d727-4fa7-bdba-62cc1b6256be",
   "metadata": {},
   "outputs": [],
   "source": [
    "\n",
    "\n",
    "\n"
   ]
  },
  {
   "cell_type": "code",
   "execution_count": null,
   "id": "838f7b0f-2dab-4e2c-a3a4-58db23624142",
   "metadata": {},
   "outputs": [],
   "source": []
  }
 ],
 "metadata": {
  "kernelspec": {
   "display_name": "Python 3 (ipykernel)",
   "language": "python",
   "name": "python3"
  },
  "language_info": {
   "codemirror_mode": {
    "name": "ipython",
    "version": 3
   },
   "file_extension": ".py",
   "mimetype": "text/x-python",
   "name": "python",
   "nbconvert_exporter": "python",
   "pygments_lexer": "ipython3",
   "version": "3.12.4"
  }
 },
 "nbformat": 4,
 "nbformat_minor": 5
}
