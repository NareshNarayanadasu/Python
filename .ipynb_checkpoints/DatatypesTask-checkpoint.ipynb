{
 "cells": [
  {
   "cell_type": "code",
   "execution_count": 1,
   "id": "3ffdcf01-fe7c-4b15-a0a9-51f567001898",
   "metadata": {},
   "outputs": [],
   "source": [
    "a=5\n",
    "b=5.5"
   ]
  },
  {
   "cell_type": "code",
   "execution_count": null,
   "id": "107cb98e-7e8a-428b-b8c8-73fe8c759cbc",
   "metadata": {},
   "outputs": [],
   "source": []
  },
  {
   "cell_type": "code",
   "execution_count": 3,
   "id": "beababb2-852f-4b06-80c8-1297c1791adf",
   "metadata": {},
   "outputs": [
    {
     "name": "stdout",
     "output_type": "stream",
     "text": [
      "add: 10.5\n",
      "sub: -0.5\n",
      "division: 0.0\n",
      "multiplication: 27.5\n",
      "modules: 5.0\n",
      "exponent: 6987.712429686842\n"
     ]
    }
   ],
   "source": [
    "a=5\n",
    "b=5.5\n",
    "c=a+b\n",
    "print(\"add:\",c)\n",
    "d=5\n",
    "e=5.5\n",
    "f=d-e\n",
    "print(\"sub:\",f)\n",
    "g=5\n",
    "h=5.5\n",
    "i=g//h\n",
    "print(\"division:\",i)\n",
    "j=5\n",
    "k=5.5\n",
    "l=j*k\n",
    "print(\"multiplication:\",l)\n",
    "m=5\n",
    "n=5.5\n",
    "o=m%n\n",
    "print(\"modules:\",o)\n",
    "p=5\n",
    "q=5.5\n",
    "r=p**q\n",
    "print(\"exponent:\",r)\n",
    "\n"
   ]
  },
  {
   "cell_type": "code",
   "execution_count": 4,
   "id": "91980b27-3862-465e-865d-d53e42093f5e",
   "metadata": {},
   "outputs": [
    {
     "name": "stdout",
     "output_type": "stream",
     "text": [
      "add: (6.5+5j)\n",
      "sub: (-4.5+5j)\n"
     ]
    },
    {
     "ename": "TypeError",
     "evalue": "unsupported operand type(s) for //: 'complex' and 'float'",
     "output_type": "error",
     "traceback": [
      "\u001b[1;31m---------------------------------------------------------------------------\u001b[0m",
      "\u001b[1;31mTypeError\u001b[0m                                 Traceback (most recent call last)",
      "Cell \u001b[1;32mIn[4], line 11\u001b[0m\n\u001b[0;32m      9\u001b[0m g\u001b[38;5;241m=\u001b[39m\u001b[38;5;241m1\u001b[39m\u001b[38;5;241m+\u001b[39m\u001b[38;5;241m5\u001b[39mj\n\u001b[0;32m     10\u001b[0m h\u001b[38;5;241m=\u001b[39m\u001b[38;5;241m5.5\u001b[39m\n\u001b[1;32m---> 11\u001b[0m i\u001b[38;5;241m=\u001b[39mg\u001b[38;5;241m/\u001b[39m\u001b[38;5;241m/\u001b[39mh\n\u001b[0;32m     12\u001b[0m \u001b[38;5;28mprint\u001b[39m(\u001b[38;5;124m\"\u001b[39m\u001b[38;5;124mdivision:\u001b[39m\u001b[38;5;124m\"\u001b[39m,i)\n\u001b[0;32m     13\u001b[0m j\u001b[38;5;241m=\u001b[39m\u001b[38;5;241m1\u001b[39m\u001b[38;5;241m+\u001b[39m\u001b[38;5;241m5\u001b[39mj\n",
      "\u001b[1;31mTypeError\u001b[0m: unsupported operand type(s) for //: 'complex' and 'float'"
     ]
    }
   ],
   "source": [
    "a=1+5j\n",
    "b=5.5\n",
    "c=a+b\n",
    "print(\"add:\",c)\n",
    "d=1+5j\n",
    "e=5.5\n",
    "f=d-e\n",
    "print(\"sub:\",f)\n",
    "g=1+5j\n",
    "h=5.5\n",
    "i=g//h\n",
    "print(\"division:\",i)\n",
    "j=1+5j\n",
    "k=5.5\n",
    "l=j*k\n",
    "print(\"multiplication:\",l)\n",
    "\n",
    "\n"
   ]
  },
  {
   "cell_type": "code",
   "execution_count": 1,
   "id": "a0af5950-00bb-473f-a1ae-046c49692d8f",
   "metadata": {},
   "outputs": [],
   "source": [
    "#ADDITION\n",
    "#int+float\n",
    "a=3\n",
    "b=4.5\n",
    "c=a+b "
   ]
  },
  {
   "cell_type": "code",
   "execution_count": 2,
   "id": "161ce55e-10e1-4492-92df-0ba651bed319",
   "metadata": {},
   "outputs": [
    {
     "name": "stdout",
     "output_type": "stream",
     "text": [
      "7.5\n"
     ]
    }
   ],
   "source": [
    "print(c)(result is a float)"
   ]
  },
  {
   "cell_type": "code",
   "execution_count": 3,
   "id": "f29f082b-e718-4049-ae55-2b2c84422aa9",
   "metadata": {},
   "outputs": [
    {
     "name": "stdout",
     "output_type": "stream",
     "text": [
      "3\n"
     ]
    }
   ],
   "source": [
    " #int+boolean   \n",
    "a=2  \n",
    "b=True \n",
    "c=a+b\n",
    "print(c)# Boolean True is treated as 1"
   ]
  },
  {
   "cell_type": "code",
   "execution_count": 4,
   "id": "cc31aeb1-77ba-4c08-8d53-eb86fa131c49",
   "metadata": {},
   "outputs": [
    {
     "name": "stdout",
     "output_type": "stream",
     "text": [
      "3.5\n"
     ]
    }
   ],
   "source": [
    "#float+boolean\n",
    "a=3.5\n",
    "b=False\n",
    "c=a+b\n",
    "print(c)  Boolean False is treated as 0"
   ]
  },
  {
   "cell_type": "code",
   "execution_count": 5,
   "id": "6fcc5eb4-4968-40e8-b418-48a8b2173d10",
   "metadata": {},
   "outputs": [
    {
     "name": "stdout",
     "output_type": "stream",
     "text": [
      "helloworld\n"
     ]
    }
   ],
   "source": [
    "# sting+string  \n",
    "a=\"hello\"\n",
    "b=\"world\"\n",
    "c=a+b\n",
    "print(c)#(results in Helloworld)(concatination)"
   ]
  },
  {
   "cell_type": "code",
   "execution_count": 6,
   "id": "1de80f8f-53ba-466e-9a20-da7e16324781",
   "metadata": {},
   "outputs": [
    {
     "ename": "TypeError",
     "evalue": "unsupported operand type(s) for +: 'int' and 'str'",
     "output_type": "error",
     "traceback": [
      "\u001b[1;31m---------------------------------------------------------------------------\u001b[0m",
      "\u001b[1;31mTypeError\u001b[0m                                 Traceback (most recent call last)",
      "Cell \u001b[1;32mIn[6], line 3\u001b[0m\n\u001b[0;32m      1\u001b[0m a\u001b[38;5;241m=\u001b[39m\u001b[38;5;241m3\u001b[39m\n\u001b[0;32m      2\u001b[0m b\u001b[38;5;241m=\u001b[39m\u001b[38;5;124m\"\u001b[39m\u001b[38;5;124mhello\u001b[39m\u001b[38;5;124m\"\u001b[39m\n\u001b[1;32m----> 3\u001b[0m c\u001b[38;5;241m=\u001b[39ma\u001b[38;5;241m+\u001b[39mb\n\u001b[0;32m      4\u001b[0m \u001b[38;5;28mprint\u001b[39m(c)\n",
      "\u001b[1;31mTypeError\u001b[0m: unsupported operand type(s) for +: 'int' and 'str'"
     ]
    }
   ],
   "source": [
    "#int+string\n",
    "a=3\n",
    "b=\"hello\"\n",
    "c=a+b\n",
    "print(c) # ( raises a typeerror cannot add integer and string)"
   ]
  },
  {
   "cell_type": "code",
   "execution_count": 7,
   "id": "476815db-681c-4eae-ac29-3f1075d5ba32",
   "metadata": {},
   "outputs": [
    {
     "name": "stdout",
     "output_type": "stream",
     "text": [
      "[1, 2, 3, 4]\n"
     ]
    }
   ],
   "source": [
    "#list+list \n",
    "a=[1,2]\n",
    "b=[3,4]\n",
    "c=a+b\n",
    "print(c)#(concatination)"
   ]
  },
  {
   "cell_type": "code",
   "execution_count": 8,
   "id": "2ddef28b-9681-4916-8ed3-90989e5f25e5",
   "metadata": {},
   "outputs": [
    {
     "ename": "TypeError",
     "evalue": "can only concatenate list (not \"int\") to list",
     "output_type": "error",
     "traceback": [
      "\u001b[1;31m---------------------------------------------------------------------------\u001b[0m",
      "\u001b[1;31mTypeError\u001b[0m                                 Traceback (most recent call last)",
      "Cell \u001b[1;32mIn[8], line 3\u001b[0m\n\u001b[0;32m      1\u001b[0m a\u001b[38;5;241m=\u001b[39m[\u001b[38;5;241m1\u001b[39m,\u001b[38;5;241m2\u001b[39m]\n\u001b[0;32m      2\u001b[0m b\u001b[38;5;241m=\u001b[39m\u001b[38;5;241m3\u001b[39m\n\u001b[1;32m----> 3\u001b[0m c\u001b[38;5;241m=\u001b[39ma\u001b[38;5;241m+\u001b[39mb\n\u001b[0;32m      4\u001b[0m \u001b[38;5;28mprint\u001b[39m(c)\n",
      "\u001b[1;31mTypeError\u001b[0m: can only concatenate list (not \"int\") to list"
     ]
    }
   ],
   "source": [
    "#list+int\n",
    "a=[1,2]\n",
    "b=3\n",
    "c=a+b\n",
    "print(c) #\n",
    "(type error cannot add list and integer)"
   ]
  },
  {
   "cell_type": "code",
   "execution_count": 9,
   "id": "73f1e7ea-2488-4853-9b0c-dc386c83c5fb",
   "metadata": {},
   "outputs": [
    {
     "name": "stdout",
     "output_type": "stream",
     "text": [
      "2.7\n"
     ]
    }
   ],
   "source": [
    "#SUBTRACTION\n",
    "#int-float\n",
    "a=5\n",
    "b=2.3\n",
    "c=a-b\n",
    "print(c) #result is float"
   ]
  },
  {
   "cell_type": "code",
   "execution_count": 10,
   "id": "306bfe52-ab13-49da-9c1c-0fc84f19c71c",
   "metadata": {},
   "outputs": [
    {
     "name": "stdout",
     "output_type": "stream",
     "text": [
      "4\n"
     ]
    }
   ],
   "source": [
    "#int-boolean\n",
    "a=5\n",
    "b=True\n",
    "c=a-b\n",
    "print(c)#boolean True is treated as 1"
   ]
  },
  {
   "cell_type": "code",
   "execution_count": 11,
   "id": "2be5f6f0-0b33-4a24-810f-d2234dd080a5",
   "metadata": {},
   "outputs": [
    {
     "name": "stdout",
     "output_type": "stream",
     "text": [
      "5.5\n"
     ]
    }
   ],
   "source": [
    "#float-boolean\n",
    "a=5.5\n",
    "b=False\n",
    "c=a-b\n",
    "print(c) #"
   ]
  },
  {
   "cell_type": "code",
   "execution_count": 12,
   "id": "eefc8760-9937-4df9-aefd-9ed79b1c7bbe",
   "metadata": {},
   "outputs": [
    {
     "ename": "TypeError",
     "evalue": "unsupported operand type(s) for -: 'str' and 'str'",
     "output_type": "error",
     "traceback": [
      "\u001b[1;31m---------------------------------------------------------------------------\u001b[0m",
      "\u001b[1;31mTypeError\u001b[0m                                 Traceback (most recent call last)",
      "Cell \u001b[1;32mIn[12], line 4\u001b[0m\n\u001b[0;32m      2\u001b[0m a\u001b[38;5;241m=\u001b[39m\u001b[38;5;124m\"\u001b[39m\u001b[38;5;124mhai\u001b[39m\u001b[38;5;124m\"\u001b[39m\n\u001b[0;32m      3\u001b[0m b\u001b[38;5;241m=\u001b[39m\u001b[38;5;124m\"\u001b[39m\u001b[38;5;124mbye\u001b[39m\u001b[38;5;124m\"\u001b[39m\n\u001b[1;32m----> 4\u001b[0m c\u001b[38;5;241m=\u001b[39ma\u001b[38;5;241m-\u001b[39mb\n\u001b[0;32m      5\u001b[0m \u001b[38;5;28mprint\u001b[39m(c)\n",
      "\u001b[1;31mTypeError\u001b[0m: unsupported operand type(s) for -: 'str' and 'str'"
     ]
    }
   ],
   "source": [
    "#string-string\n",
    "a=\"hai\"\n",
    "b=\"bye\"\n",
    "c=a-b\n",
    "print(c)#typeerror (cannot subtract strings)"
   ]
  },
  {
   "cell_type": "code",
   "execution_count": 13,
   "id": "14c8a8bd-3e31-450d-ad2d-2c6a71029089",
   "metadata": {},
   "outputs": [
    {
     "ename": "TypeError",
     "evalue": "unsupported operand type(s) for -: 'int' and 'str'",
     "output_type": "error",
     "traceback": [
      "\u001b[1;31m---------------------------------------------------------------------------\u001b[0m",
      "\u001b[1;31mTypeError\u001b[0m                                 Traceback (most recent call last)",
      "Cell \u001b[1;32mIn[13], line 4\u001b[0m\n\u001b[0;32m      2\u001b[0m a\u001b[38;5;241m=\u001b[39m\u001b[38;5;241m4\u001b[39m\n\u001b[0;32m      3\u001b[0m b\u001b[38;5;241m=\u001b[39m\u001b[38;5;124m\"\u001b[39m\u001b[38;5;124m2\u001b[39m\u001b[38;5;124m\"\u001b[39m\n\u001b[1;32m----> 4\u001b[0m c\u001b[38;5;241m=\u001b[39ma\u001b[38;5;241m-\u001b[39mb\n\u001b[0;32m      5\u001b[0m \u001b[38;5;28mprint\u001b[39m(c)\n",
      "\u001b[1;31mTypeError\u001b[0m: unsupported operand type(s) for -: 'int' and 'str'"
     ]
    }
   ],
   "source": [
    "#int-string\n",
    "a=4\n",
    "b=\"2\"\n",
    "c=a-b\n",
    "print(c)#type error(int and string cannot substarct)"
   ]
  },
  {
   "cell_type": "code",
   "execution_count": 14,
   "id": "d68dfb04-b094-4723-94de-bebe00eb5c9f",
   "metadata": {},
   "outputs": [
    {
     "ename": "TypeError",
     "evalue": "unsupported operand type(s) for -: 'list' and 'list'",
     "output_type": "error",
     "traceback": [
      "\u001b[1;31m---------------------------------------------------------------------------\u001b[0m",
      "\u001b[1;31mTypeError\u001b[0m                                 Traceback (most recent call last)",
      "Cell \u001b[1;32mIn[14], line 4\u001b[0m\n\u001b[0;32m      2\u001b[0m a\u001b[38;5;241m=\u001b[39m[\u001b[38;5;241m1\u001b[39m,\u001b[38;5;241m3\u001b[39m]\n\u001b[0;32m      3\u001b[0m b\u001b[38;5;241m=\u001b[39m[\u001b[38;5;241m2\u001b[39m]\n\u001b[1;32m----> 4\u001b[0m c\u001b[38;5;241m=\u001b[39ma\u001b[38;5;241m-\u001b[39mb\n\u001b[0;32m      5\u001b[0m \u001b[38;5;28mprint\u001b[39m(c)\n",
      "\u001b[1;31mTypeError\u001b[0m: unsupported operand type(s) for -: 'list' and 'list'"
     ]
    }
   ],
   "source": [
    "#list-list\n",
    "a=[1,3]\n",
    "b=[2]\n",
    "c=a-b\n",
    "print(c)"
   ]
  },
  {
   "cell_type": "code",
   "execution_count": 15,
   "id": "e72d425d-955c-4d72-a05a-c83ca6a649b9",
   "metadata": {},
   "outputs": [
    {
     "name": "stdout",
     "output_type": "stream",
     "text": [
      "5.5\n"
     ]
    }
   ],
   "source": [
    "#MULTPLICATION\n",
    "#int * float\n",
    "a=3\n",
    "b=2*5\n",
    "print(c)# results in float"
   ]
  },
  {
   "cell_type": "code",
   "execution_count": 16,
   "id": "53c436b1-03fa-4bba-865e-bd9735c5ef25",
   "metadata": {},
   "outputs": [
    {
     "name": "stdout",
     "output_type": "stream",
     "text": [
      "4\n"
     ]
    }
   ],
   "source": [
    "#int * boolean\n",
    "a=4\n",
    "b=True\n",
    "c=a*b\n",
    "print(c)#(boolean True is treated as 1)"
   ]
  },
  {
   "cell_type": "code",
   "execution_count": 17,
   "id": "17a6e264-18df-46cb-88ad-043339db0750",
   "metadata": {},
   "outputs": [
    {
     "name": "stdout",
     "output_type": "stream",
     "text": [
      "2.5\n"
     ]
    }
   ],
   "source": [
    "#float * boolean\n",
    "a=2.5\n",
    "b=True\n",
    "c=a*b\n",
    "print(c)#boolean True is treated as 1"
   ]
  },
  {
   "cell_type": "markdown",
   "id": "eee66570-e45d-41de-8916-40cf50ee6dbf",
   "metadata": {},
   "source": [
    "### float*boolean\n"
   ]
  },
  {
   "cell_type": "code",
   "execution_count": null,
   "id": "77bb7310-fab3-4401-8933-a9840d572a74",
   "metadata": {},
   "outputs": [],
   "source": [
    "a=2.5\n",
    "b=False\n",
    "c=a*b\n",
    "print(c)#boolean False is treated as 0"
   ]
  },
  {
   "cell_type": "markdown",
   "id": "64a532a2-91c2-49d5-a144-b7c91ed775ac",
   "metadata": {},
   "source": [
    "### string * int\n"
   ]
  },
  {
   "cell_type": "code",
   "execution_count": 21,
   "id": "2f728481-9d12-491b-abfb-c0893ea181c1",
   "metadata": {},
   "outputs": [
    {
     "name": "stdout",
     "output_type": "stream",
     "text": [
      "srividyasrividyasrividyasrividyasrividya\n"
     ]
    }
   ],
   "source": [
    "a=\"srividya\"\n",
    "b=5\n",
    "c=a*b\n",
    "print(c)# string repition"
   ]
  },
  {
   "cell_type": "markdown",
   "id": "5f5edf41-98a6-47b1-b0d6-894189cdc0fa",
   "metadata": {},
   "source": [
    "### int*string"
   ]
  },
  {
   "cell_type": "code",
   "execution_count": 23,
   "id": "1845ba45-3740-4859-bd9a-1ecb8f0e07c8",
   "metadata": {},
   "outputs": [
    {
     "name": "stdout",
     "output_type": "stream",
     "text": [
      "anshugaduanshugaduanshugadu\n"
     ]
    }
   ],
   "source": [
    "a=3\n",
    "b=\"anshugadu\"\n",
    "c=a*b\n",
    "print(c)#string repition"
   ]
  },
  {
   "cell_type": "markdown",
   "id": "1f10807f-f882-402b-8b64-2af68bb626bb",
   "metadata": {},
   "source": [
    "### list * int"
   ]
  },
  {
   "cell_type": "code",
   "execution_count": 24,
   "id": "542d1308-9126-428b-a09a-df28cb31a2b5",
   "metadata": {},
   "outputs": [
    {
     "name": "stdout",
     "output_type": "stream",
     "text": [
      "[1, 2, 1, 2, 1, 2, 1, 2, 1, 2]\n"
     ]
    }
   ],
   "source": [
    "a=[1,2]\n",
    "b=5\n",
    "c=a*b\n",
    "print(c)# list repition"
   ]
  },
  {
   "cell_type": "markdown",
   "id": "a7ccd6d2-066c-4733-846d-27dd32c642dc",
   "metadata": {},
   "source": [
    "### DIVISION"
   ]
  },
  {
   "cell_type": "markdown",
   "id": "1b56fc7a-c7c7-43fd-887d-06b065b91106",
   "metadata": {},
   "source": [
    "### int / float"
   ]
  },
  {
   "cell_type": "code",
   "execution_count": 25,
   "id": "3c049c93-579a-47a8-90e5-a889937a84ef",
   "metadata": {},
   "outputs": [
    {
     "name": "stdout",
     "output_type": "stream",
     "text": [
      "4.666666666666667\n"
     ]
    }
   ],
   "source": [
    "a=7\n",
    "b=1.5\n",
    "c=a/b\n",
    "print(c)#result is float"
   ]
  },
  {
   "cell_type": "markdown",
   "id": "b2566091-bc8f-427a-add9-60beaaef5bd6",
   "metadata": {},
   "source": [
    "### int / boolean"
   ]
  },
  {
   "cell_type": "code",
   "execution_count": 26,
   "id": "7fba8c06-a6eb-4aed-98a8-ae7d2083c841",
   "metadata": {},
   "outputs": [
    {
     "name": "stdout",
     "output_type": "stream",
     "text": [
      "8.0\n"
     ]
    }
   ],
   "source": [
    "a=8\n",
    "b=True\n",
    "c=a/b\n",
    "print(c)#boolean T is treated as 1"
   ]
  },
  {
   "cell_type": "markdown",
   "id": "984323da-fa11-4446-8b69-0a65ba7612e7",
   "metadata": {},
   "source": [
    "### float / boolean"
   ]
  },
  {
   "cell_type": "code",
   "execution_count": 27,
   "id": "9ff09717-4e6c-4d67-ba86-7581c91adeae",
   "metadata": {},
   "outputs": [
    {
     "ename": "ZeroDivisionError",
     "evalue": "float division by zero",
     "output_type": "error",
     "traceback": [
      "\u001b[1;31m---------------------------------------------------------------------------\u001b[0m",
      "\u001b[1;31mZeroDivisionError\u001b[0m                         Traceback (most recent call last)",
      "Cell \u001b[1;32mIn[27], line 3\u001b[0m\n\u001b[0;32m      1\u001b[0m a\u001b[38;5;241m=\u001b[39m\u001b[38;5;241m1.9\u001b[39m\n\u001b[0;32m      2\u001b[0m b\u001b[38;5;241m=\u001b[39m\u001b[38;5;28;01mFalse\u001b[39;00m\n\u001b[1;32m----> 3\u001b[0m c\u001b[38;5;241m=\u001b[39ma\u001b[38;5;241m/\u001b[39mb\n\u001b[0;32m      4\u001b[0m \u001b[38;5;28mprint\u001b[39m(c)\n",
      "\u001b[1;31mZeroDivisionError\u001b[0m: float division by zero"
     ]
    }
   ],
   "source": [
    "a=1.9\n",
    "b=False\n",
    "c=a/b\n",
    "print(c)#zero division error(division by zero)"
   ]
  },
  {
   "cell_type": "markdown",
   "id": "8fdcf6f5-5417-4fd2-bc5e-4e3c2ce09641",
   "metadata": {},
   "source": [
    "### string / int\n"
   ]
  },
  {
   "cell_type": "code",
   "execution_count": 28,
   "id": "34e76788-e7f5-4bdc-8f46-a9668f91757c",
   "metadata": {},
   "outputs": [
    {
     "ename": "TypeError",
     "evalue": "unsupported operand type(s) for /: 'str' and 'int'",
     "output_type": "error",
     "traceback": [
      "\u001b[1;31m---------------------------------------------------------------------------\u001b[0m",
      "\u001b[1;31mTypeError\u001b[0m                                 Traceback (most recent call last)",
      "Cell \u001b[1;32mIn[28], line 3\u001b[0m\n\u001b[0;32m      1\u001b[0m a\u001b[38;5;241m=\u001b[39m\u001b[38;5;124m\"\u001b[39m\u001b[38;5;124mhai\u001b[39m\u001b[38;5;124m\"\u001b[39m\n\u001b[0;32m      2\u001b[0m b\u001b[38;5;241m=\u001b[39m \u001b[38;5;241m7\u001b[39m\n\u001b[1;32m----> 3\u001b[0m c\u001b[38;5;241m=\u001b[39ma\u001b[38;5;241m/\u001b[39mb\n\u001b[0;32m      4\u001b[0m \u001b[38;5;28mprint\u001b[39m(c)\n",
      "\u001b[1;31mTypeError\u001b[0m: unsupported operand type(s) for /: 'str' and 'int'"
     ]
    }
   ],
   "source": [
    "a=\"hai\"\n",
    "b= 7\n",
    "c=a/b\n",
    "print(c)# tyoe error cannot division string by int"
   ]
  },
  {
   "cell_type": "markdown",
   "id": "5753a447-8456-4c90-85aa-6a5c44b3586e",
   "metadata": {},
   "source": [
    "### list / int"
   ]
  },
  {
   "cell_type": "code",
   "execution_count": 29,
   "id": "28d959c1-edc8-4ca6-8cb1-3d787340e785",
   "metadata": {},
   "outputs": [
    {
     "ename": "TypeError",
     "evalue": "unsupported operand type(s) for /: 'list' and 'int'",
     "output_type": "error",
     "traceback": [
      "\u001b[1;31m---------------------------------------------------------------------------\u001b[0m",
      "\u001b[1;31mTypeError\u001b[0m                                 Traceback (most recent call last)",
      "Cell \u001b[1;32mIn[29], line 3\u001b[0m\n\u001b[0;32m      1\u001b[0m a\u001b[38;5;241m=\u001b[39m[\u001b[38;5;241m3\u001b[39m,\u001b[38;5;241m4\u001b[39m]\n\u001b[0;32m      2\u001b[0m b\u001b[38;5;241m=\u001b[39m\u001b[38;5;241m5\u001b[39m\n\u001b[1;32m----> 3\u001b[0m c\u001b[38;5;241m=\u001b[39ma\u001b[38;5;241m/\u001b[39mb\n\u001b[0;32m      4\u001b[0m \u001b[38;5;28mprint\u001b[39m(c)\n",
      "\u001b[1;31mTypeError\u001b[0m: unsupported operand type(s) for /: 'list' and 'int'"
     ]
    }
   ],
   "source": [
    "a=[3,4]\n",
    "b=5\n",
    "c=a/b\n",
    "print(c)# type error cannot devide list and int"
   ]
  },
  {
   "cell_type": "markdown",
   "id": "202c5321-5902-4b61-828d-ee1526677c5e",
   "metadata": {},
   "source": [
    "### EXPONENTIATION"
   ]
  },
  {
   "cell_type": "markdown",
   "id": "0a9cc77e-6eba-48c8-82df-7a3687184c2e",
   "metadata": {},
   "source": [
    "### int ** float"
   ]
  },
  {
   "cell_type": "code",
   "execution_count": 30,
   "id": "3b68507e-9371-43a4-9a23-5d7826342352",
   "metadata": {},
   "outputs": [
    {
     "name": "stdout",
     "output_type": "stream",
     "text": [
      "8.0\n"
     ]
    }
   ],
   "source": [
    "a=2\n",
    "b=3.0\n",
    "c=a**b\n",
    "print(c)# result is float"
   ]
  },
  {
   "cell_type": "markdown",
   "id": "e73a7702-10c4-4ea1-b0e6-a2523a1fbdc3",
   "metadata": {},
   "source": [
    "### int ** boolean"
   ]
  },
  {
   "cell_type": "code",
   "execution_count": 31,
   "id": "79557745-7bd3-4ae5-ad7d-08f11f7b6064",
   "metadata": {},
   "outputs": [
    {
     "name": "stdout",
     "output_type": "stream",
     "text": [
      "8\n"
     ]
    }
   ],
   "source": [
    "a=8\n",
    "b=True\n",
    "c=a**b\n",
    "print(c)# boolean True is treated as 1"
   ]
  },
  {
   "cell_type": "markdown",
   "id": "ae4ce208-9456-467b-9f30-33df647b1377",
   "metadata": {},
   "source": [
    "### float ** boolean"
   ]
  },
  {
   "cell_type": "code",
   "execution_count": 32,
   "id": "23195697-293a-410e-ad61-2cd594660ec2",
   "metadata": {},
   "outputs": [
    {
     "name": "stdout",
     "output_type": "stream",
     "text": [
      "1.0\n"
     ]
    }
   ],
   "source": [
    "a=1.9\n",
    "b=False\n",
    "c=a**b\n",
    "print(c)# boolean FALSE  is treated as o"
   ]
  },
  {
   "cell_type": "markdown",
   "id": "6d3c064f-bf4c-4c3d-ae23-d0218a7c9059",
   "metadata": {},
   "source": [
    "### string ** int"
   ]
  },
  {
   "cell_type": "code",
   "execution_count": 33,
   "id": "8afb6b21-0cde-4a7c-9f24-deb1b2bbe4c2",
   "metadata": {},
   "outputs": [
    {
     "ename": "TypeError",
     "evalue": "unsupported operand type(s) for ** or pow(): 'str' and 'int'",
     "output_type": "error",
     "traceback": [
      "\u001b[1;31m---------------------------------------------------------------------------\u001b[0m",
      "\u001b[1;31mTypeError\u001b[0m                                 Traceback (most recent call last)",
      "Cell \u001b[1;32mIn[33], line 3\u001b[0m\n\u001b[0;32m      1\u001b[0m a\u001b[38;5;241m=\u001b[39m\u001b[38;5;124m\"\u001b[39m\u001b[38;5;124msai\u001b[39m\u001b[38;5;124m\"\u001b[39m\n\u001b[0;32m      2\u001b[0m b\u001b[38;5;241m=\u001b[39m \u001b[38;5;241m7\u001b[39m\n\u001b[1;32m----> 3\u001b[0m c\u001b[38;5;241m=\u001b[39ma\u001b[38;5;241m*\u001b[39m\u001b[38;5;241m*\u001b[39mb\n\u001b[0;32m      4\u001b[0m \u001b[38;5;28mprint\u001b[39m(c)\n",
      "\u001b[1;31mTypeError\u001b[0m: unsupported operand type(s) for ** or pow(): 'str' and 'int'"
     ]
    }
   ],
   "source": [
    "a=\"sai\"\n",
    "b= 7\n",
    "c=a**b\n",
    "print(c)# type error "
   ]
  },
  {
   "cell_type": "code",
   "execution_count": null,
   "id": "4309a471-baac-41f9-b8db-c123164014af",
   "metadata": {},
   "outputs": [],
   "source": []
  }
 ],
 "metadata": {
  "kernelspec": {
   "display_name": "Python 3 (ipykernel)",
   "language": "python",
   "name": "python3"
  },
  "language_info": {
   "codemirror_mode": {
    "name": "ipython",
    "version": 3
   },
   "file_extension": ".py",
   "mimetype": "text/x-python",
   "name": "python",
   "nbconvert_exporter": "python",
   "pygments_lexer": "ipython3",
   "version": "3.12.4"
  }
 },
 "nbformat": 4,
 "nbformat_minor": 5
}