{
 "cells": [
  {
   "cell_type": "code",
   "execution_count": 5,
   "id": "13391d79-06d3-42cc-8986-88a4e06592fe",
   "metadata": {},
   "outputs": [
    {
     "name": "stdin",
     "output_type": "stream",
     "text": [
      "enter customer name :  nagarjuna hmmm \n",
      "enter sales orders :  69\n",
      "enter profit :  96\n"
     ]
    },
    {
     "name": "stdout",
     "output_type": "stream",
     "text": [
      "The nagarjuna hmmm  is very good customer, bought 69 sales orders from our portal. we got 96 profit because of nagarjuna hmmm \n"
     ]
    }
   ],
   "source": [
    "# the anil kumar is a very good customer, bouht 3045 sales orders from our portal. we got 20000 profit because of anil kumer.\n",
    "customer_name = input(\"enter customer name : \" )\n",
    "number_of_sales_orders = input(\"enter sales orders : \")\n",
    "profit = input(\"enter profit : \" )\n",
    "s = \"The \" + customer_name + \" is very good customer, bought \" +  number_of_sales_orders +  \" sales orders from our portal. we got \" + profit+ \" profit because of \" + customer_name\n",
    "print(s)"
   ]
  },
  {
   "cell_type": "code",
   "execution_count": null,
   "id": "df406f53-94ac-418b-aa8b-8b8977ce34e5",
   "metadata": {},
   "outputs": [],
   "source": []
  }
 ],
 "metadata": {
  "kernelspec": {
   "display_name": "Python 3 (ipykernel)",
   "language": "python",
   "name": "python3"
  },
  "language_info": {
   "codemirror_mode": {
    "name": "ipython",
    "version": 3
   },
   "file_extension": ".py",
   "mimetype": "text/x-python",
   "name": "python",
   "nbconvert_exporter": "python",
   "pygments_lexer": "ipython3",
   "version": "3.12.4"
  }
 },
 "nbformat": 4,
 "nbformat_minor": 5
}
