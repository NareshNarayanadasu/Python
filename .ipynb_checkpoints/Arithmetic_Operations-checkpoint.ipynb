{
 "cells": [
  {
   "cell_type": "markdown",
   "id": "98967b3a-62f3-43ad-a154-dfc0bc361ff6",
   "metadata": {},
   "source": [
    "## Integer Arithmetic"
   ]
  },
  {
   "cell_type": "code",
   "execution_count": 1,
   "id": "192d1124-7018-4672-ac26-495aa3380501",
   "metadata": {},
   "outputs": [
    {
     "name": "stdout",
     "output_type": "stream",
     "text": [
      "15\n"
     ]
    }
   ],
   "source": [
    "a = 10\n",
    "b = 5\n",
    "result = a + b  #  addition\n",
    "print(result)  \n"
   ]
  },
  {
   "cell_type": "code",
   "execution_count": 2,
   "id": "368842f2-7932-4e4b-9445-7bd0f1b7cc40",
   "metadata": {},
   "outputs": [
    {
     "name": "stdout",
     "output_type": "stream",
     "text": [
      "2.0\n"
     ]
    }
   ],
   "source": [
    "result = a / b  #  division\n",
    "print(result)  \n"
   ]
  },
  {
   "cell_type": "markdown",
   "id": "5831a979-3292-4891-9369-78d0acda1075",
   "metadata": {},
   "source": [
    "## Floating Point Arithmetic"
   ]
  },
  {
   "cell_type": "code",
   "execution_count": 3,
   "id": "6a5a6850-b30b-4623-a382-94af2dea7355",
   "metadata": {},
   "outputs": [
    {
     "name": "stdout",
     "output_type": "stream",
     "text": [
      "21.0\n"
     ]
    }
   ],
   "source": [
    "a = 10.5\n",
    "b = 2.0\n",
    "result = a * b  #  multiplication\n",
    "print(result)  \n"
   ]
  },
  {
   "cell_type": "code",
   "execution_count": 4,
   "id": "74c15142-9683-4b6a-b1f1-9db51e841a56",
   "metadata": {},
   "outputs": [
    {
     "name": "stdout",
     "output_type": "stream",
     "text": [
      "5.25\n"
     ]
    }
   ],
   "source": [
    "result = a / b  #  division\n",
    "print(result)  \n"
   ]
  },
  {
   "cell_type": "markdown",
   "id": "89907b95-8f06-4f75-9fd1-4c7166e30269",
   "metadata": {},
   "source": [
    "## String Arithmetic (Concatenation and Repetition)"
   ]
  },
  {
   "cell_type": "code",
   "execution_count": 7,
   "id": "3613c389-7049-499f-b52c-338b8dce81f1",
   "metadata": {},
   "outputs": [
    {
     "name": "stdout",
     "output_type": "stream",
     "text": [
      "naresh narayanadasu\n"
     ]
    }
   ],
   "source": [
    "a = \"naresh\"\n",
    "b = \"narayanadasu\"\n",
    "result = a + \" \" + b  #  concatenation\n",
    "print(result) \n"
   ]
  },
  {
   "cell_type": "code",
   "execution_count": 8,
   "id": "7b8106af-ef47-4a44-9d3a-eac876432afe",
   "metadata": {},
   "outputs": [
    {
     "name": "stdout",
     "output_type": "stream",
     "text": [
      "nareshnareshnaresh\n"
     ]
    }
   ],
   "source": [
    "result = a * 3  #  repetition\n",
    "print(result)  \n"
   ]
  },
  {
   "cell_type": "markdown",
   "id": "d24c489a-0da8-4855-84ed-7c1a033035b1",
   "metadata": {},
   "source": [
    "## List Arithmetic (Concatenation and Repetition)\n"
   ]
  },
  {
   "cell_type": "code",
   "execution_count": 9,
   "id": "69acd92a-e1c2-47c9-b613-ae5851b4ada9",
   "metadata": {},
   "outputs": [
    {
     "name": "stdout",
     "output_type": "stream",
     "text": [
      "[1, 2, 3, 4]\n"
     ]
    }
   ],
   "source": [
    "a = [1, 2]\n",
    "b = [3, 4]\n",
    "result = a + b  #  concatenation\n",
    "print(result) \n"
   ]
  },
  {
   "cell_type": "code",
   "execution_count": 10,
   "id": "b13ba276-a935-4682-9b4c-87847c14529c",
   "metadata": {},
   "outputs": [
    {
     "name": "stdout",
     "output_type": "stream",
     "text": [
      "[1, 2, 1, 2]\n"
     ]
    }
   ],
   "source": [
    "result = a * 2  #  repetition\n",
    "print(result)  \n"
   ]
  },
  {
   "cell_type": "markdown",
   "id": "1a96bef6-e295-4c76-b4c9-2c0315c3beae",
   "metadata": {},
   "source": [
    "## integer and String Arithmetic (TypeError)"
   ]
  },
  {
   "cell_type": "code",
   "execution_count": 11,
   "id": "465d6e81-eb73-4a18-8c63-e42b06425f95",
   "metadata": {},
   "outputs": [
    {
     "ename": "TypeError",
     "evalue": "unsupported operand type(s) for +: 'int' and 'str'",
     "output_type": "error",
     "traceback": [
      "\u001b[0;31m---------------------------------------------------------------------------\u001b[0m",
      "\u001b[0;31mTypeError\u001b[0m                                 Traceback (most recent call last)",
      "Cell \u001b[0;32mIn[11], line 3\u001b[0m\n\u001b[1;32m      1\u001b[0m a \u001b[38;5;241m=\u001b[39m \u001b[38;5;241m10\u001b[39m\n\u001b[1;32m      2\u001b[0m b \u001b[38;5;241m=\u001b[39m \u001b[38;5;124m\"\u001b[39m\u001b[38;5;124m5\u001b[39m\u001b[38;5;124m\"\u001b[39m\n\u001b[0;32m----> 3\u001b[0m result \u001b[38;5;241m=\u001b[39m a \u001b[38;5;241m+\u001b[39m b\n",
      "\u001b[0;31mTypeError\u001b[0m: unsupported operand type(s) for +: 'int' and 'str'"
     ]
    }
   ],
   "source": [
    "a = 10\n",
    "b = \"5\"\n",
    "result = a + b  # Error: Cannot add integer and string\n"
   ]
  },
  {
   "cell_type": "markdown",
   "id": "0aff5be7-315d-406d-be3d-1feef63a3bcd",
   "metadata": {},
   "source": [
    "## Float and String Arithmetic (TypeError)"
   ]
  },
  {
   "cell_type": "code",
   "execution_count": 12,
   "id": "d3c7ed16-d753-4c2a-a33b-5b4d08da8c9c",
   "metadata": {},
   "outputs": [
    {
     "ename": "TypeError",
     "evalue": "can't multiply sequence by non-int of type 'float'",
     "output_type": "error",
     "traceback": [
      "\u001b[0;31m---------------------------------------------------------------------------\u001b[0m",
      "\u001b[0;31mTypeError\u001b[0m                                 Traceback (most recent call last)",
      "Cell \u001b[0;32mIn[12], line 3\u001b[0m\n\u001b[1;32m      1\u001b[0m a \u001b[38;5;241m=\u001b[39m \u001b[38;5;241m10.5\u001b[39m\n\u001b[1;32m      2\u001b[0m b \u001b[38;5;241m=\u001b[39m \u001b[38;5;124m\"\u001b[39m\u001b[38;5;124m2.0\u001b[39m\u001b[38;5;124m\"\u001b[39m\n\u001b[0;32m----> 3\u001b[0m result \u001b[38;5;241m=\u001b[39m a \u001b[38;5;241m*\u001b[39m b\n",
      "\u001b[0;31mTypeError\u001b[0m: can't multiply sequence by non-int of type 'float'"
     ]
    }
   ],
   "source": [
    "a = 10.5\n",
    "b = \"2.0\"\n",
    "result = a * b  # Error: Cannot multiply float and string\n"
   ]
  },
  {
   "cell_type": "markdown",
   "id": "e3129752-811e-4bff-b631-b5aa0e1e5dc9",
   "metadata": {},
   "source": [
    "## List and Integer Arithmetic (TypeError)"
   ]
  },
  {
   "cell_type": "code",
   "execution_count": 13,
   "id": "66a48063-59b8-44b1-9818-d38acf74075b",
   "metadata": {},
   "outputs": [
    {
     "ename": "TypeError",
     "evalue": "can only concatenate list (not \"int\") to list",
     "output_type": "error",
     "traceback": [
      "\u001b[0;31m---------------------------------------------------------------------------\u001b[0m",
      "\u001b[0;31mTypeError\u001b[0m                                 Traceback (most recent call last)",
      "Cell \u001b[0;32mIn[13], line 3\u001b[0m\n\u001b[1;32m      1\u001b[0m a \u001b[38;5;241m=\u001b[39m [\u001b[38;5;241m1\u001b[39m, \u001b[38;5;241m2\u001b[39m]\n\u001b[1;32m      2\u001b[0m b \u001b[38;5;241m=\u001b[39m \u001b[38;5;241m3\u001b[39m\n\u001b[0;32m----> 3\u001b[0m result \u001b[38;5;241m=\u001b[39m a \u001b[38;5;241m+\u001b[39m b\n",
      "\u001b[0;31mTypeError\u001b[0m: can only concatenate list (not \"int\") to list"
     ]
    }
   ],
   "source": [
    "a = [1, 2]\n",
    "b = 3\n",
    "result = a + b  # Error: Cannot add list and integer\n"
   ]
  },
  {
   "cell_type": "markdown",
   "id": "40e174f6-4dea-4cfd-972a-7427aec9bbcd",
   "metadata": {},
   "source": [
    "## Dictionary Arithmetic (TypeError)"
   ]
  },
  {
   "cell_type": "code",
   "execution_count": 14,
   "id": "52bc7054-d496-421f-92cf-dc60b057ea62",
   "metadata": {},
   "outputs": [
    {
     "ename": "TypeError",
     "evalue": "unsupported operand type(s) for +: 'dict' and 'dict'",
     "output_type": "error",
     "traceback": [
      "\u001b[0;31m---------------------------------------------------------------------------\u001b[0m",
      "\u001b[0;31mTypeError\u001b[0m                                 Traceback (most recent call last)",
      "Cell \u001b[0;32mIn[14], line 3\u001b[0m\n\u001b[1;32m      1\u001b[0m a \u001b[38;5;241m=\u001b[39m {\u001b[38;5;124m\"\u001b[39m\u001b[38;5;124mkey1\u001b[39m\u001b[38;5;124m\"\u001b[39m: \u001b[38;5;241m10\u001b[39m}\n\u001b[1;32m      2\u001b[0m b \u001b[38;5;241m=\u001b[39m {\u001b[38;5;124m\"\u001b[39m\u001b[38;5;124mkey2\u001b[39m\u001b[38;5;124m\"\u001b[39m: \u001b[38;5;241m20\u001b[39m}\n\u001b[0;32m----> 3\u001b[0m result \u001b[38;5;241m=\u001b[39m a \u001b[38;5;241m+\u001b[39m b\n",
      "\u001b[0;31mTypeError\u001b[0m: unsupported operand type(s) for +: 'dict' and 'dict'"
     ]
    }
   ],
   "source": [
    "a = {\"key1\": 10}\n",
    "b = {\"key2\": 20}\n",
    "result = a + b  # Error: Cannot add dictionaries\n"
   ]
  },
  {
   "cell_type": "markdown",
   "id": "34df353f-200f-4af7-91c0-95fa6efd73fd",
   "metadata": {},
   "source": [
    "## Mixing Integers and Lists (TypeError)"
   ]
  },
  {
   "cell_type": "code",
   "execution_count": 15,
   "id": "9307db08-0845-49be-8eaa-d6141c60e353",
   "metadata": {},
   "outputs": [
    {
     "name": "stdout",
     "output_type": "stream",
     "text": [
      "[1, 2, 1, 2, 1, 2, 1, 2, 1, 2, 1, 2, 1, 2, 1, 2, 1, 2, 1, 2]\n"
     ]
    }
   ],
   "source": [
    "a = [1, 2]\n",
    "b = 10\n",
    "result = a * b  # Valid repetition\n",
    "print(result)  # Output: [1, 2, 1, 2, 1, 2, 1, 2, 1, 2]\n"
   ]
  },
  {
   "cell_type": "code",
   "execution_count": 16,
   "id": "eab667f3-3f41-4de9-9508-642ff4e675a4",
   "metadata": {},
   "outputs": [
    {
     "ename": "TypeError",
     "evalue": "can only concatenate list (not \"int\") to list",
     "output_type": "error",
     "traceback": [
      "\u001b[0;31m---------------------------------------------------------------------------\u001b[0m",
      "\u001b[0;31mTypeError\u001b[0m                                 Traceback (most recent call last)",
      "Cell \u001b[0;32mIn[16], line 1\u001b[0m\n\u001b[0;32m----> 1\u001b[0m result \u001b[38;5;241m=\u001b[39m a \u001b[38;5;241m+\u001b[39m b\n",
      "\u001b[0;31mTypeError\u001b[0m: can only concatenate list (not \"int\") to list"
     ]
    }
   ],
   "source": [
    "result = a + b  # Error: Cannot concatenate list and integer\n"
   ]
  },
  {
   "cell_type": "markdown",
   "id": "11322807-7197-4951-838f-0bc197cd51b8",
   "metadata": {},
   "source": [
    "## Undefined Variables"
   ]
  },
  {
   "cell_type": "code",
   "execution_count": 18,
   "id": "8fed1d9a-6678-410f-8e8a-3901c8640b55",
   "metadata": {},
   "outputs": [
    {
     "ename": "NameError",
     "evalue": "name 'x' is not defined",
     "output_type": "error",
     "traceback": [
      "\u001b[0;31m---------------------------------------------------------------------------\u001b[0m",
      "\u001b[0;31mNameError\u001b[0m                                 Traceback (most recent call last)",
      "Cell \u001b[0;32mIn[18], line 2\u001b[0m\n\u001b[1;32m      1\u001b[0m a \u001b[38;5;241m=\u001b[39m \u001b[38;5;241m10\u001b[39m\n\u001b[0;32m----> 2\u001b[0m result \u001b[38;5;241m=\u001b[39m a \u001b[38;5;241m+\u001b[39m x\n",
      "\u001b[0;31mNameError\u001b[0m: name 'x' is not defined"
     ]
    }
   ],
   "source": [
    "a = 10\n",
    "result = a + x  # Error: Variable 'b' is not defined\n"
   ]
  },
  {
   "cell_type": "code",
   "execution_count": null,
   "id": "4f5ba2c7-111c-44d9-a66b-db6266ad751c",
   "metadata": {},
   "outputs": [],
   "source": []
  }
 ],
 "metadata": {
  "kernelspec": {
   "display_name": "Python 3 (ipykernel)",
   "language": "python",
   "name": "python3"
  },
  "language_info": {
   "codemirror_mode": {
    "name": "ipython",
    "version": 3
   },
   "file_extension": ".py",
   "mimetype": "text/x-python",
   "name": "python",
   "nbconvert_exporter": "python",
   "pygments_lexer": "ipython3",
   "version": "3.12.4"
  }
 },
 "nbformat": 4,
 "nbformat_minor": 5
}
