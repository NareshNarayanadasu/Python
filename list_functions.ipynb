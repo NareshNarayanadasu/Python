{
 "cells": [
  {
   "cell_type": "code",
   "execution_count": 1,
   "id": "f8966d16-f84d-4cb7-bf73-4ef0f4c359ca",
   "metadata": {},
   "outputs": [
    {
     "name": "stdout",
     "output_type": "stream",
     "text": [
      "[(1, 'Rajesh'), (2, 'Ameel'), (3, 'Sai'), (4, 'Amar')]\n"
     ]
    }
   ],
   "source": [
    "l= [(1,\"Rajesh\"),(2,\"Ameel\"),(4,\"Amar\"),(3,\"Sai\")]\n",
    "l.sort()\n",
    "print(l)"
   ]
  },
  {
   "cell_type": "code",
   "execution_count": 3,
   "id": "a5dee2e6-f819-455e-b22e-c7377f3a7c82",
   "metadata": {},
   "outputs": [
    {
     "name": "stdout",
     "output_type": "stream",
     "text": [
      "[1, 2, 3, 3, 3, 3, 4, 5, 8]\n"
     ]
    }
   ],
   "source": [
    "l = [1,2,3,3,3,4,3,5,8,]\n",
    "l.sort()\n",
    "print(l)"
   ]
  },
  {
   "cell_type": "code",
   "execution_count": 6,
   "id": "fde2cdad-445b-4d0d-a176-d2b616b82eec",
   "metadata": {},
   "outputs": [
    {
     "name": "stdout",
     "output_type": "stream",
     "text": [
      "[1, 2, 3, 3, 4, 3, 5, 8]\n"
     ]
    }
   ],
   "source": [
    "l = [1,2,3,3,3,4,3,5,8,]\n",
    "l.remove(3)\n",
    "print(l)"
   ]
  },
  {
   "cell_type": "code",
   "execution_count": 3,
   "id": "969e9c3a-2548-4ca9-991e-246c2a4f6601",
   "metadata": {},
   "outputs": [
    {
     "name": "stdout",
     "output_type": "stream",
     "text": [
      "<filter object at 0x7c5d2698ba90>\n"
     ]
    }
   ],
   "source": [
    "def not_three(x):\n",
    "    return x != 3\n",
    "\n",
    "l = [1, 2, 3, 3, 3, 4, 3, 5, 8]\n",
    "l = filter(not_three, l)\n",
    "print(l)"
   ]
  },
  {
   "cell_type": "code",
   "execution_count": 13,
   "id": "dee205b9-6a4f-48b0-9a9a-3570b98cc6c2",
   "metadata": {},
   "outputs": [
    {
     "ename": "SyntaxError",
     "evalue": "cannot assign to literal (934029131.py, line 4)",
     "output_type": "error",
     "traceback": [
      "\u001b[0;36m  Cell \u001b[0;32mIn[13], line 4\u001b[0;36m\u001b[0m\n\u001b[0;31m    for 3 in l:\u001b[0m\n\u001b[0m        ^\u001b[0m\n\u001b[0;31mSyntaxError\u001b[0m\u001b[0;31m:\u001b[0m cannot assign to literal\n"
     ]
    }
   ],
   "source": [
    "l = [1, 2, 3, 3, 3, 4, 3, 5, 8]"
   ]
  },
  {
   "cell_type": "code",
   "execution_count": 4,
   "id": "7201a78d-7ab2-4d3a-a896-ae0151005d1e",
   "metadata": {},
   "outputs": [
    {
     "name": "stdout",
     "output_type": "stream",
     "text": [
      "<filter object at 0x7c5d2698ba90>\n"
     ]
    }
   ],
   "source": [
    "for i in l :\n",
    "    if i == 3:\n",
    "        l.remove(i)\n",
    "print(l)"
   ]
  },
  {
   "cell_type": "code",
   "execution_count": 5,
   "id": "862a7f69-7b57-4e8e-af73-8ea844c36a2a",
   "metadata": {},
   "outputs": [
    {
     "ename": "IndexError",
     "evalue": "list index out of range",
     "output_type": "error",
     "traceback": [
      "\u001b[0;31m---------------------------------------------------------------------------\u001b[0m",
      "\u001b[0;31mIndexError\u001b[0m                                Traceback (most recent call last)",
      "Cell \u001b[0;32mIn[5], line 3\u001b[0m\n\u001b[1;32m      1\u001b[0m l \u001b[38;5;241m=\u001b[39m [\u001b[38;5;241m1\u001b[39m, \u001b[38;5;241m2\u001b[39m, \u001b[38;5;241m3\u001b[39m, \u001b[38;5;241m3\u001b[39m, \u001b[38;5;241m3\u001b[39m, \u001b[38;5;241m4\u001b[39m, \u001b[38;5;241m3\u001b[39m, \u001b[38;5;241m5\u001b[39m, \u001b[38;5;241m8\u001b[39m]\n\u001b[1;32m      2\u001b[0m \u001b[38;5;28;01mfor\u001b[39;00m i \u001b[38;5;129;01min\u001b[39;00m \u001b[38;5;28mrange\u001b[39m(\u001b[38;5;28mlen\u001b[39m(l)):  \u001b[38;5;66;03m# Iterate backwards\u001b[39;00m\n\u001b[0;32m----> 3\u001b[0m     \u001b[38;5;28;01mif\u001b[39;00m l[i] \u001b[38;5;241m==\u001b[39m \u001b[38;5;241m3\u001b[39m:\n\u001b[1;32m      4\u001b[0m         l\u001b[38;5;241m.\u001b[39mremove(i)\n\u001b[1;32m      5\u001b[0m \u001b[38;5;28mprint\u001b[39m(l)\n",
      "\u001b[0;31mIndexError\u001b[0m: list index out of range"
     ]
    }
   ],
   "source": [
    "\n",
    "l = [1, 2, 3, 3, 3, 4, 3, 5, 8]\n",
    "for i in range(len(l)):  # Iterate backwards\n",
    "    if l[i] == 3:\n",
    "        l.remove(i)\n",
    "print(l)\n"
   ]
  },
  {
   "cell_type": "code",
   "execution_count": 6,
   "id": "c5d54bc3-4205-4b22-b1e3-9801069959d7",
   "metadata": {},
   "outputs": [
    {
     "name": "stdout",
     "output_type": "stream",
     "text": [
      "[1, 2, 4, 5, 8]\n"
     ]
    }
   ],
   "source": [
    "l = [1, 2, 3, 3, 3, 4, 3, 5, 8]\n",
    "\n",
    "# Iterate over a copy of the list to avoid modifying it while iterating\n",
    "for i in l[:]:\n",
    "    if i == 3:\n",
    "        l.remove(i)\n",
    "\n",
    "print(l)"
   ]
  },
  {
   "cell_type": "code",
   "execution_count": 1,
   "id": "b875c632-3652-4815-9618-b6feb5298b3a",
   "metadata": {},
   "outputs": [
    {
     "ename": "IndexError",
     "evalue": "list index out of range",
     "output_type": "error",
     "traceback": [
      "\u001b[0;31m---------------------------------------------------------------------------\u001b[0m",
      "\u001b[0;31mIndexError\u001b[0m                                Traceback (most recent call last)",
      "Cell \u001b[0;32mIn[1], line 3\u001b[0m\n\u001b[1;32m      1\u001b[0m l \u001b[38;5;241m=\u001b[39m [\u001b[38;5;241m1\u001b[39m, \u001b[38;5;241m2\u001b[39m, \u001b[38;5;241m3\u001b[39m, \u001b[38;5;241m3\u001b[39m, \u001b[38;5;241m3\u001b[39m, \u001b[38;5;241m4\u001b[39m, \u001b[38;5;241m3\u001b[39m, \u001b[38;5;241m5\u001b[39m, \u001b[38;5;241m8\u001b[39m]\n\u001b[1;32m      2\u001b[0m \u001b[38;5;28;01mfor\u001b[39;00m i \u001b[38;5;129;01min\u001b[39;00m \u001b[38;5;28mrange\u001b[39m(\u001b[38;5;28mlen\u001b[39m(l)):  \u001b[38;5;66;03m# Iterate backwards\u001b[39;00m\n\u001b[0;32m----> 3\u001b[0m     \u001b[38;5;28;01mif\u001b[39;00m l[i] \u001b[38;5;241m==\u001b[39m \u001b[38;5;241m3\u001b[39m:\n\u001b[1;32m      4\u001b[0m         l\u001b[38;5;241m.\u001b[39mremove(\u001b[38;5;241m3\u001b[39m)\n\u001b[1;32m      5\u001b[0m \u001b[38;5;28mprint\u001b[39m(l)\n",
      "\u001b[0;31mIndexError\u001b[0m: list index out of range"
     ]
    }
   ],
   "source": [
    "l = [1, 2, 3, 3, 3, 4, 3, 5, 8]\n",
    "for i in range(len(l)):  # Iterate backwards\n",
    "    if l[i] == 3:\n",
    "        l.remove(3)\n",
    "print(l)"
   ]
  },
  {
   "cell_type": "code",
   "execution_count": 12,
   "id": "7759f86f-54e1-4b10-b8fe-b9b3fd05592f",
   "metadata": {},
   "outputs": [
    {
     "name": "stdout",
     "output_type": "stream",
     "text": [
      "[1, 2, 4, 5, 8]\n"
     ]
    }
   ],
   "source": [
    "l = [1, 2, 3, 3, 3, 4, 3, 5, 8]\n",
    "\n",
    "# Iterate over a copy of the list to avoid modifying it while iterating\n",
    "for i in l[:]:\n",
    "    if i == 3:\n",
    "        l.remove(3)\n",
    "\n",
    "print(l)"
   ]
  },
  {
   "cell_type": "code",
   "execution_count": 11,
   "id": "f6aaee4f-5dc5-43c1-aa23-eff3b72333fb",
   "metadata": {},
   "outputs": [
    {
     "name": "stdout",
     "output_type": "stream",
     "text": [
      "[1, 2, 3, 3, 3, 4, 3, 5, 8]\n"
     ]
    }
   ],
   "source": [
    "print(l)"
   ]
  },
  {
   "cell_type": "code",
   "execution_count": 10,
   "id": "86d37165-e712-4b53-b907-1f64720f2fa1",
   "metadata": {},
   "outputs": [],
   "source": [
    "l = [1, 2, 3, 3, 3, 4, 3, 5, 8]"
   ]
  },
  {
   "cell_type": "code",
   "execution_count": 14,
   "id": "e76ac03b-1689-4316-bacf-77a9ffa73404",
   "metadata": {},
   "outputs": [
    {
     "name": "stdout",
     "output_type": "stream",
     "text": [
      "[1, 2, 4, 5, 8]\n"
     ]
    }
   ],
   "source": [
    "l = [1, 2, 3, 3, 3, 4, 3, 5, 8]\n",
    "\n",
    "# Iterate over a copy of the list to avoid modifying it while iterating\n",
    "for i in l[:]:\n",
    "    if i == 3:\n",
    "        l.remove(3)\n",
    "print(l)"
   ]
  },
  {
   "cell_type": "code",
   "execution_count": 2,
   "id": "a75d3f76-5c8a-40c1-92af-97821ce15306",
   "metadata": {},
   "outputs": [
    {
     "name": "stdout",
     "output_type": "stream",
     "text": [
      "126138291230592\n",
      "126138291231424\n",
      "126138291227328\n",
      "126138291230592\n",
      "l= [1000, 2000, 3000, [4000, 5000, 6000], 7000, 8000]\n",
      "m= [10, 2000, 3000, [4000, 5000, 6000], 7000, 8000]\n",
      "n= [1000, 2000, 3000, [4000, 5000, 6000], 7000, 8000]\n",
      "p= [1000, 2000, 3000, [4000, 5000, 6000], 7000, 8000]\n"
     ]
    }
   ],
   "source": [
    "k = [4000,5000,6000]\n",
    "l = [1000,2000,3000,k,7000,8000]\n",
    "print(id(l[3]))\n",
    "p = l\n",
    "m =l.copy()\n",
    "print(id(m))\n",
    "n=l[::]\n",
    "print(id(n))\n",
    "m[0]=10\n",
    "print(id(m[3]))\n",
    "print(\"l=\", l)\n",
    "print(\"m=\", m)\n",
    "print(\"n=\", n)\n",
    "print(\"p=\", p)\n",
    "d"
   ]
  },
  {
   "cell_type": "code",
   "execution_count": null,
   "id": "12611353-2819-468d-8008-aada06693744",
   "metadata": {},
   "outputs": [],
   "source": []
  }
 ],
 "metadata": {
  "kernelspec": {
   "display_name": "Python 3 (ipykernel)",
   "language": "python",
   "name": "python3"
  },
  "language_info": {
   "codemirror_mode": {
    "name": "ipython",
    "version": 3
   },
   "file_extension": ".py",
   "mimetype": "text/x-python",
   "name": "python",
   "nbconvert_exporter": "python",
   "pygments_lexer": "ipython3",
   "version": "3.12.4"
  }
 },
 "nbformat": 4,
 "nbformat_minor": 5
}
