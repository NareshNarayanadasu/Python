{
 "cells": [
  {
   "cell_type": "code",
   "execution_count": 2,
   "id": "3b40a158-303d-4d1b-96fd-353e71e13256",
   "metadata": {},
   "outputs": [
    {
     "ename": "TypeError",
     "evalue": "Emp() takes no arguments",
     "output_type": "error",
     "traceback": [
      "\u001b[0;31m---------------------------------------------------------------------------\u001b[0m",
      "\u001b[0;31mTypeError\u001b[0m                                 Traceback (most recent call last)",
      "Cell \u001b[0;32mIn[2], line 1\u001b[0m\n\u001b[0;32m----> 1\u001b[0m \u001b[38;5;28;01mclass\u001b[39;00m \u001b[38;5;21;01mEmp\u001b[39;00m:\n\u001b[1;32m      2\u001b[0m     \u001b[38;5;28;01mdef\u001b[39;00m \u001b[38;5;21m__int__\u001b[39m(\u001b[38;5;28mself\u001b[39m,name):\n\u001b[1;32m      3\u001b[0m         \u001b[38;5;28mself\u001b[39m\u001b[38;5;241m.\u001b[39mname \u001b[38;5;241m=\u001b[39m name \n",
      "Cell \u001b[0;32mIn[2], line 4\u001b[0m, in \u001b[0;36mEmp\u001b[0;34m()\u001b[0m\n\u001b[1;32m      2\u001b[0m \u001b[38;5;28;01mdef\u001b[39;00m \u001b[38;5;21m__int__\u001b[39m(\u001b[38;5;28mself\u001b[39m,name):\n\u001b[1;32m      3\u001b[0m     \u001b[38;5;28mself\u001b[39m\u001b[38;5;241m.\u001b[39mname \u001b[38;5;241m=\u001b[39m name \n\u001b[0;32m----> 4\u001b[0m \u001b[38;5;28;01mwith\u001b[39;00m Emp(\u001b[38;5;124m\"\u001b[39m\u001b[38;5;124mnaresh\u001b[39m\u001b[38;5;124m\"\u001b[39m ) \u001b[38;5;28;01mas\u001b[39;00m f:\n\u001b[1;32m      5\u001b[0m     \u001b[38;5;28mprint\u001b[39m(f\u001b[38;5;241m.\u001b[39mname)\n",
      "\u001b[0;31mTypeError\u001b[0m: Emp() takes no arguments"
     ]
    }
   ],
   "source": [
    "class Emp:\n",
    "    def __int__(self,name):\n",
    "        self.name = name \n",
    "with Emp(\"naresh\") as f:\n",
    "    print(f.name)"
   ]
  },
  {
   "cell_type": "code",
   "execution_count": 10,
   "id": "4047e6fb-6d79-4aa2-a6d8-548c30a91dbb",
   "metadata": {},
   "outputs": [
    {
     "name": "stdout",
     "output_type": "stream",
     "text": [
      "enter method\n",
      "naresh\n",
      "exit method\n"
     ]
    }
   ],
   "source": [
    "class Emp:\n",
    "    def __init__(self,name):\n",
    "        self.name = name \n",
    "    def __enter__(self):\n",
    "        print(\"enter method\")\n",
    "        return self\n",
    "    def __exit__(self,*args):\n",
    "        print(\"exit method\")\n",
    "        \n",
    "        \n",
    "with Emp(\"naresh\") as f:\n",
    "    print(f.name)"
   ]
  },
  {
   "cell_type": "code",
   "execution_count": null,
   "id": "f2b39573-8d39-4df8-ab72-3f7832e61573",
   "metadata": {},
   "outputs": [],
   "source": [
    "class DBcon:\n",
    "    def __init__()23332ljj\n",
    "     hyu8uhgy,,                                                                                                                   ;';uj,xgfgklll;rw"
   ]
  }
 ],
 "metadata": {
  "kernelspec": {
   "display_name": "Python 3 (ipykernel)",
   "language": "python",
   "name": "python3"
  },
  "language_info": {
   "codemirror_mode": {
    "name": "ipython",
    "version": 3
   },
   "file_extension": ".py",
   "mimetype": "text/x-python",
   "name": "python",
   "nbconvert_exporter": "python",
   "pygments_lexer": "ipython3",
   "version": "3.12.4"
  }
 },
 "nbformat": 4,
 "nbformat_minor": 5
}
