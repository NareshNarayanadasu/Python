{
 "cells": [
  {
   "cell_type": "code",
   "execution_count": 1,
   "id": "2bdd44e2-ac15-49df-8613-6a6dcf2f5e41",
   "metadata": {},
   "outputs": [
    {
     "name": "stdout",
     "output_type": "stream",
     "text": [
      "1020\n"
     ]
    }
   ],
   "source": [
    "a =\"10\"\n",
    "b =\"20\"\n",
    "print(a+b)"
   ]
  },
  {
   "cell_type": "code",
   "execution_count": 2,
   "id": "5c1553c2-bc32-4dee-bb14-97389f53405a",
   "metadata": {},
   "outputs": [
    {
     "name": "stdout",
     "output_type": "stream",
     "text": [
      "30\n"
     ]
    }
   ],
   "source": [
    "a =\"10\"\n",
    "b =\"20\"\n",
    "a = int(a)\n",
    "b= int(b)\n",
    "print(a+b)"
   ]
  },
  {
   "cell_type": "code",
   "execution_count": 4,
   "id": "289ff0bc-d8e2-49b0-9fdb-8a9e1a48b9bf",
   "metadata": {},
   "outputs": [
    {
     "ename": "TypeError",
     "evalue": "can't multiply sequence by non-int of type 'str'",
     "output_type": "error",
     "traceback": [
      "\u001b[0;31m---------------------------------------------------------------------------\u001b[0m",
      "\u001b[0;31mTypeError\u001b[0m                                 Traceback (most recent call last)",
      "Cell \u001b[0;32mIn[4], line 4\u001b[0m\n\u001b[1;32m      2\u001b[0m n \u001b[38;5;241m=\u001b[39m \u001b[38;5;124m\"\u001b[39m\u001b[38;5;124mnaresh\u001b[39m\u001b[38;5;124m\"\u001b[39m\n\u001b[1;32m      3\u001b[0m s \u001b[38;5;241m=\u001b[39m \u001b[38;5;124m\"\u001b[39m\u001b[38;5;124mnarayanadasu\u001b[39m\u001b[38;5;124m\"\u001b[39m\n\u001b[0;32m----> 4\u001b[0m \u001b[38;5;28mprint\u001b[39m(n \u001b[38;5;241m*\u001b[39ms)\n\u001b[1;32m      5\u001b[0m \u001b[38;5;28mprint\u001b[39m(n\u001b[38;5;241m/\u001b[39ms)\n\u001b[1;32m      6\u001b[0m \u001b[38;5;28mprint\u001b[39m(n\u001b[38;5;241m/\u001b[39m\u001b[38;5;241m/\u001b[39ms)\n",
      "\u001b[0;31mTypeError\u001b[0m: can't multiply sequence by non-int of type 'str'"
     ]
    }
   ],
   "source": [
    "#  string typecasting\n",
    "n = \"naresh\"\n",
    "s = \"narayanadasu\"\n",
    "print(n *s)\n",
    "print(n/s)\n",
    "print(n//s)"
   ]
  },
  {
   "cell_type": "code",
   "execution_count": 6,
   "id": "df6e3c50-3695-4b98-86d3-324a96940bb5",
   "metadata": {},
   "outputs": [
    {
     "name": "stdout",
     "output_type": "stream",
     "text": [
      "2.0\n",
      "2\n"
     ]
    }
   ],
   "source": [
    "n = 10\n",
    "d =  5\n",
    "print(n/d)\n",
    "print(n // d)"
   ]
  },
  {
   "cell_type": "code",
   "execution_count": 8,
   "id": "1ec5170a-5789-4729-847e-8e3ded75856b",
   "metadata": {},
   "outputs": [
    {
     "ename": "ValueError",
     "evalue": "invalid literal for int() with base 10: '12a'",
     "output_type": "error",
     "traceback": [
      "\u001b[0;31m---------------------------------------------------------------------------\u001b[0m",
      "\u001b[0;31mValueError\u001b[0m                                Traceback (most recent call last)",
      "Cell \u001b[0;32mIn[8], line 2\u001b[0m\n\u001b[1;32m      1\u001b[0m b \u001b[38;5;241m=\u001b[39m \u001b[38;5;124m\"\u001b[39m\u001b[38;5;124m12a\u001b[39m\u001b[38;5;124m\"\u001b[39m\n\u001b[0;32m----> 2\u001b[0m a \u001b[38;5;241m=\u001b[39m \u001b[38;5;28mint\u001b[39m(b)\n",
      "\u001b[0;31mValueError\u001b[0m: invalid literal for int() with base 10: '12a'"
     ]
    }
   ],
   "source": [
    "b = \"12a\"\n",
    "a = int(b)\n"
   ]
  },
  {
   "cell_type": "code",
   "execution_count": null,
   "id": "b939e741-b90b-409b-9efa-bc4e7b2ab925",
   "metadata": {},
   "outputs": [],
   "source": [
    "a = \"12.39\"\n",
    "print("
   ]
  }
 ],
 "metadata": {
  "kernelspec": {
   "display_name": "Python 3 (ipykernel)",
   "language": "python",
   "name": "python3"
  },
  "language_info": {
   "codemirror_mode": {
    "name": "ipython",
    "version": 3
   },
   "file_extension": ".py",
   "mimetype": "text/x-python",
   "name": "python",
   "nbconvert_exporter": "python",
   "pygments_lexer": "ipython3",
   "version": "3.12.4"
  }
 },
 "nbformat": 4,
 "nbformat_minor": 5
}
