{
 "cells": [
  {
   "cell_type": "code",
   "execution_count": 1,
   "id": "95c50146-5751-4e1a-a07a-8ab390a2b956",
   "metadata": {},
   "outputs": [
    {
     "name": "stdout",
     "output_type": "stream",
     "text": [
      "Element: 10, Data Type: int\n",
      "Element: Hello, Data Type: str\n",
      "Element: 3.14, Data Type: float\n",
      "Element: True, Data Type: bool\n",
      "Element: [1, 2, 3], Data Type: list\n",
      "Element: {'name': 'Alice', 'age': 30}, Data Type: dict\n"
     ]
    }
   ],
   "source": [
    "my_list = [10, \"Hello\", 3.14, True, [1, 2, 3], {\"name\": \"Alice\", \"age\": 30}]\n",
    "\n",
    "for element in my_list:\n",
    "    data_type = type(element)\n",
    "    print(f\"Element: {element}, Data Type: {data_type.__name__}\")"
   ]
  },
  {
   "cell_type": "code",
   "execution_count": 6,
   "id": "e1441b1c-ed3a-4a4a-879f-bc252b51243e",
   "metadata": {},
   "outputs": [
    {
     "name": "stdout",
     "output_type": "stream",
     "text": [
      "1\n",
      "2\n",
      "3\n"
     ]
    }
   ],
   "source": [
    "numbers = 10\n",
    "for i in numbers :\n",
    "    print(i)"
   ]
  },
  {
   "cell_type": "code",
   "execution_count": 7,
   "id": "4a667791-e533-4963-9262-bde035bc1cf0",
   "metadata": {},
   "outputs": [
    {
     "name": "stdout",
     "output_type": "stream",
     "text": [
      "1\n",
      "2\n",
      "3\n"
     ]
    }
   ],
   "source": [
    "numbers1  = \"hello\"\n",
    "for i in numbers :\n",
    "    print(i)\n"
   ]
  },
  {
   "cell_type": "code",
   "execution_count": 8,
   "id": "74f92198-fb64-4307-b461-1899efb207b3",
   "metadata": {},
   "outputs": [
    {
     "name": "stdout",
     "output_type": "stream",
     "text": [
      "1\n",
      "2\n",
      "3\n"
     ]
    }
   ],
   "source": [
    "numbers  = (1, 2, 3,4,5)\n",
    "for i in numbers :\n",
    "    print(i)"
   ]
  },
  {
   "cell_type": "code",
   "execution_count": 12,
   "id": "00a20bd6-66b5-4e3e-aa17-eeb510853932",
   "metadata": {},
   "outputs": [
    {
     "name": "stdout",
     "output_type": "stream",
     "text": [
      "Alice\n",
      "30\n"
     ]
    }
   ],
   "source": [
    "numbers  = {\"name\": \"Alice\", \"age\": 30}\n",
    "for i in numbers :\n",
    "    print(numbers[i])"
   ]
  },
  {
   "cell_type": "code",
   "execution_count": 14,
   "id": "410052db-c616-476e-99c1-5888bb650c5b",
   "metadata": {},
   "outputs": [
    {
     "name": "stdout",
     "output_type": "stream",
     "text": [
      "1  is Positive\n",
      "19  is Positive\n",
      "-16  is negtive\n",
      "-12  is negtive\n",
      "15  is Positive\n"
     ]
    }
   ],
   "source": [
    "numbers = [1,19,-16,-12,15]\n",
    "p_count = 0\n",
    "n_count = 0\n",
    "for num in numbers:\n",
    "    if num >= 0:\n",
    "        print(num , \" is Positive\")\n",
    "    else :\n",
    "        print(num , \" is negtive\")"
   ]
  },
  {
   "cell_type": "code",
   "execution_count": 21,
   "id": "7a574873-f365-4bf3-a4a4-0c989fdb3dad",
   "metadata": {},
   "outputs": [
    {
     "name": "stdout",
     "output_type": "stream",
     "text": [
      "+Ve count are  3\n",
      "-Ve count are  2\n"
     ]
    }
   ],
   "source": [
    "numbers = [1,19,-16,-12,15]\n",
    "p_count = 0\n",
    "n_count = 0\n",
    "for num in numbers:\n",
    "    if num >= 0:\n",
    "        p_count += 1\n",
    "    else:\n",
    "        n_count += 1\n",
    "print(\"+Ve count are \",p_count )\n",
    "print(\"-Ve count are \",n_count )"
   ]
  },
  {
   "cell_type": "code",
   "execution_count": 5,
   "id": "9fc24367-76d5-4173-8de9-8ecb65a97881",
   "metadata": {},
   "outputs": [
    {
     "name": "stdout",
     "output_type": "stream",
     "text": [
      "0  is positive number\n",
      "1  is negitive number\n",
      "2  is positive number\n",
      "3  is negitive number\n",
      "4  is positive number\n",
      "list has negitive numbers\n",
      "3 positive numbers are there\n"
     ]
    }
   ],
   "source": [
    "l = [10,-20,-30,45,67,-56]\n",
    "count= 0\n",
    "n_count=0\n",
    "\n",
    "for i in range(len(l)-1):\n",
    "    if i % 2 == 0:\n",
    "        count = count+1\n",
    "        print( \" is positive number\")\n",
    "    else :\n",
    "        print(i, \" is negitive number\")\n",
    "        n_count = +1\n",
    "        \n",
    "print(count, \"positive numbers are there\")\n",
    "if n_count > 0 :\n",
    "    print(\"list has negitive numbers\")\n"
   ]
  },
  {
   "cell_type": "code",
   "execution_count": 15,
   "id": "e7ae561a-aa7e-4892-bed0-eb0dd84730f8",
   "metadata": {},
   "outputs": [
    {
     "name": "stdout",
     "output_type": "stream",
     "text": [
      "10  is negitive number\n",
      "-20  is positive number\n",
      "-30  is positive number\n",
      "45  is positive number\n",
      "67  is positive number\n",
      "4 positive numbers are there\n",
      "list has negitive numbers\n"
     ]
    }
   ],
   "source": [
    "l = [10,-20,-30,45,67,-56]\n",
    "count=0\n",
    "for i in range(len(l)-1):\n",
    "    if i > 0:\n",
    "        count = count+1\n",
    "        print( l[i],\" is positive number\")\n",
    "    else :\n",
    "        print(l[i], \" is negitive number\")\n",
    "        n_count = +1\n",
    "print(count, \"positive numbers are there\")\n",
    "if n_count > 0 :\n",
    "    print(\"list has negitive numbers\")\n",
    "else  :\n",
    "    print(\"list has  no negitive numbers\")"
   ]
  },
  {
   "cell_type": "code",
   "execution_count": 13,
   "id": "fcc51ff2-eac9-466e-a108-3eafb596c581",
   "metadata": {},
   "outputs": [
    {
     "name": "stdout",
     "output_type": "stream",
     "text": [
      "\n"
     ]
    }
   ],
   "source": []
  },
  {
   "cell_type": "code",
   "execution_count": null,
   "id": "40ca59f5-442c-4823-99d6-8b35cc7bc9a2",
   "metadata": {},
   "outputs": [],
   "source": []
  }
 ],
 "metadata": {
  "kernelspec": {
   "display_name": "Python 3 (ipykernel)",
   "language": "python",
   "name": "python3"
  },
  "language_info": {
   "codemirror_mode": {
    "name": "ipython",
    "version": 3
   },
   "file_extension": ".py",
   "mimetype": "text/x-python",
   "name": "python",
   "nbconvert_exporter": "python",
   "pygments_lexer": "ipython3",
   "version": "3.12.4"
  }
 },
 "nbformat": 4,
 "nbformat_minor": 5
}
