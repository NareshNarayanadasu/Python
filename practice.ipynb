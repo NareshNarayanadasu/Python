{
 "cells": [
  {
   "cell_type": "code",
   "execution_count": 22,
   "id": "e82a21dc-8ca1-428d-83fc-da502be25545",
   "metadata": {},
   "outputs": [
    {
     "name": "stdout",
     "output_type": "stream",
     "text": [
      "133570083645904\n"
     ]
    }
   ],
   "source": [
    "s = \"pot\"\n",
    "print(id(s))"
   ]
  },
  {
   "cell_type": "code",
   "execution_count": 23,
   "id": "6a1bd3a2-38ac-490e-9250-16b608d57591",
   "metadata": {},
   "outputs": [
    {
     "name": "stdout",
     "output_type": "stream",
     "text": [
      "9835848 p\n",
      "9835800 o\n",
      "9836040 t\n"
     ]
    }
   ],
   "source": [
    "print(id(s[0]), s[0])\n",
    "print(id(s[1]), s[1])\n",
    "print(id(s[2]), s[2])"
   ]
  },
  {
   "cell_type": "code",
   "execution_count": 24,
   "id": "668d3deb-1f6e-469c-aa4e-b5bf67f508b8",
   "metadata": {},
   "outputs": [
    {
     "name": "stdout",
     "output_type": "stream",
     "text": [
      "133570083645904\n"
     ]
    }
   ],
   "source": [
    "d = s\n",
    "print(id(d))"
   ]
  },
  {
   "cell_type": "code",
   "execution_count": 25,
   "id": "4e6bfcf7-ae86-4d0b-8d6a-2cc7a8cfb04d",
   "metadata": {},
   "outputs": [
    {
     "name": "stdout",
     "output_type": "stream",
     "text": [
      "9835848 p\n",
      "9835128 a\n",
      "9836040 t\n"
     ]
    }
   ],
   "source": [
    "e = \"pat\"\n",
    "print(id(e[0]), e[0])\n",
    "print(id(e[1]), e[1])\n",
    "print(id(e[2]), e[2])\n"
   ]
  },
  {
   "cell_type": "code",
   "execution_count": 28,
   "id": "e955008c-b735-4892-bce2-23ed57fd655e",
   "metadata": {},
   "outputs": [
    {
     "name": "stdout",
     "output_type": "stream",
     "text": [
      "133569994289712 1000\n"
     ]
    }
   ],
   "source": [
    "k  = [1000,s,\"e\",2000]\n",
    "print(id(k[0]),k[0])\n",
    "print("
   ]
  },
  {
   "cell_type": "code",
   "execution_count": 39,
   "id": "2af0ee54-86eb-4005-9956-a05ee482f8ed",
   "metadata": {},
   "outputs": [
    {
     "name": "stdout",
     "output_type": "stream",
     "text": [
      "133570051775760\n",
      "9835464 h\n",
      "9836280 y\n",
      "9835272 d\n",
      "133569994292080 1000\n",
      "133570051769712 hat\n",
      "133569994289008 1000\n",
      "9835464 h\n",
      "9835128 a\n",
      "9836040 t\n"
     ]
    }
   ],
   "source": [
    "a = \"hyd\"\n",
    "print(id(a))\n",
    "print(id(a[0]),a[0])\n",
    "print(id(a[1]),a[1])\n",
    "print(id(a[2]),a[2])\n",
    "\n",
    "\n",
    "c = 1000\n",
    "print(id(c), c)\n",
    "\n",
    "l = [\"hat\" , 1000]\n",
    "print(id(l[0]),l[0])\n",
    "print(id(l[1]),l[1])\n",
    "# hat \n",
    "print(id(l[0][0]),l[0][0])\n",
    "print(id(l[0][1]),l[0][1])\n",
    "print(id(l[0][2]),l[0][2])"
   ]
  },
  {
   "cell_type": "code",
   "execution_count": 40,
   "id": "ad0a3f78-df39-41d8-a65a-64b349ae9a9c",
   "metadata": {},
   "outputs": [
    {
     "name": "stdout",
     "output_type": "stream",
     "text": [
      "133569994289296\n",
      "133569994291408\n"
     ]
    }
   ],
   "source": [
    "a =257\n",
    "b = 257\n",
    "print(id(a))\n",
    "print(id(b))\n"
   ]
  },
  {
   "cell_type": "code",
   "execution_count": 41,
   "id": "bb7fd8a2-fc6d-4622-8f60-1d26e29571c4",
   "metadata": {},
   "outputs": [
    {
     "name": "stdout",
     "output_type": "stream",
     "text": [
      "9779976\n",
      "9779976\n"
     ]
    }
   ],
   "source": [
    "a =256\n",
    "b = 256\n",
    "print(id(a))\n",
    "print(id(b))"
   ]
  },
  {
   "cell_type": "code",
   "execution_count": 43,
   "id": "f6f04a65-c038-4aea-8118-861c5bfb6fe9",
   "metadata": {},
   "outputs": [
    {
     "name": "stdout",
     "output_type": "stream",
     "text": [
      "9774984\n",
      "9774984\n"
     ]
    }
   ],
   "source": [
    "m =100\n",
    "t=(100,200,250)\n",
    "print(id(m))\n",
    "print(id(t[0]))"
   ]
  },
  {
   "cell_type": "code",
   "execution_count": 50,
   "id": "fb91638b-146e-41fe-9984-7b37677f63b7",
   "metadata": {},
   "outputs": [
    {
     "name": "stdout",
     "output_type": "stream",
     "text": [
      "133569915259280\n",
      "133569915257648\n",
      "133569915259216\n",
      "133569915237744\n",
      "9835464\n",
      "9836280\n",
      "9835272\n",
      "9835320\n",
      "9835944\n",
      "9835128\n",
      "9835176\n",
      "9835128\n",
      "9835272\n"
     ]
    }
   ],
   "source": [
    "a=1000\n",
    "b=a\n",
    "c=1000\n",
    "b=2000\n",
    "s=\"hyderabad\"\n",
    "s1=s\n",
    "k=\"pat\"\n",
    "n=1000\n",
    "L=[s,s1,k,1000,2000]\n",
    "m=10\n",
    "t=(10,20,30)\n",
    "s=3000\n",
    "s1=4000\n",
    "k=5000\n",
    "\n",
    "\n",
    "\n",
    "print(id(a))\n",
    "print(id(b))\n",
    "print(id(c))\n",
    "print(id(s))\n",
    "for i in s :\n",
    "    print(id(i))"
   ]
  },
  {
   "cell_type": "code",
   "execution_count": 51,
   "id": "00226706-1540-4abe-bb8d-55f97354b860",
   "metadata": {},
   "outputs": [
    {
     "name": "stdout",
     "output_type": "stream",
     "text": [
      "First id(a): 133569915259184\n",
      "Last id(a): 133569915259184\n",
      "First id(b): 133569915259184\n",
      "Last id(b): 133569915258960\n",
      "First id(c): 133569915258736\n",
      "Last id(c): 133569915258736\n",
      "First id(s): 133569915237744\n",
      "Last id(s): 133569915258192\n",
      "First id(s1): 133569915237744\n",
      "Last id(s1): 133569915259088\n",
      "First id(k): 133570109652784\n",
      "Last id(k): 133569915259568\n",
      "First id(n): 133569915257904\n",
      "Last id(n): 133569915257904\n",
      "First id(L): 133569925918016\n",
      "Last id(L): 133569925918016\n",
      "First id(m): 9772104\n",
      "Last id(m): 9772104\n",
      "First id(t): 133569925893824\n",
      "Last id(t): 133569925893824\n",
      "First ids of elements in L:\n",
      "  id(L[0]): 133569915237744\n",
      "  id(L[1]): 133569915237744\n",
      "  id(L[2]): 133570109652784\n",
      "  id(L[3]): 133569915258992\n",
      "  id(L[4]): 133569915259472\n",
      "First ids of elements in t:\n",
      "  id(t[0]): 9772104\n",
      "  id(t[1]): 9772424\n",
      "  id(t[2]): 9772744\n",
      "Last ids of elements in L:\n",
      "  id(L[0]): 133569915237744\n",
      "  id(L[1]): 133569915237744\n",
      "  id(L[2]): 133570109652784\n",
      "  id(L[3]): 133569915258992\n",
      "  id(L[4]): 133569915259472\n",
      "Last ids of elements in t:\n",
      "  id(t[0]): 9772104\n",
      "  id(t[1]): 9772424\n",
      "  id(t[2]): 9772744\n"
     ]
    }
   ],
   "source": [
    "# Initial assignments\n",
    "a = 1000\n",
    "first_a_id = id(a)\n",
    "\n",
    "b = a\n",
    "first_b_id = id(b)\n",
    "\n",
    "c = 1000\n",
    "first_c_id = id(c)\n",
    "\n",
    "b = 2000  # Reassign b\n",
    "last_b_id = id(b)\n",
    "\n",
    "s = \"hyderabad\"\n",
    "first_s_id = id(s)\n",
    "\n",
    "s1 = s\n",
    "first_s1_id = id(s1)\n",
    "\n",
    "k = \"pat\"\n",
    "first_k_id = id(k)\n",
    "\n",
    "n = 1000\n",
    "first_n_id = id(n)\n",
    "\n",
    "L = [s, s1, k, 1000, 2000]\n",
    "first_L_id = id(L)\n",
    "first_L_elements_ids = [id(element) for element in L]\n",
    "\n",
    "m = 10\n",
    "first_m_id = id(m)\n",
    "\n",
    "t = (10, 20, 30)\n",
    "first_t_id = id(t)\n",
    "first_t_elements_ids = [id(element) for element in t]\n",
    "\n",
    "# Later assignments\n",
    "s = 3000\n",
    "last_s_id = id(s)\n",
    "\n",
    "s1 = 4000\n",
    "last_s1_id = id(s1)\n",
    "\n",
    "k = 5000\n",
    "last_k_id = id(k)\n",
    "\n",
    "# Printing the first and last ids\n",
    "print(\"First id(a):\", first_a_id)\n",
    "print(\"Last id(a):\", id(a))\n",
    "\n",
    "print(\"First id(b):\", first_b_id)\n",
    "print(\"Last id(b):\", last_b_id)\n",
    "\n",
    "print(\"First id(c):\", first_c_id)\n",
    "print(\"Last id(c):\", id(c))\n",
    "\n",
    "print(\"First id(s):\", first_s_id)\n",
    "print(\"Last id(s):\", last_s_id)\n",
    "\n",
    "print(\"First id(s1):\", first_s1_id)\n",
    "print(\"Last id(s1):\", last_s1_id)\n",
    "\n",
    "print(\"First id(k):\", first_k_id)\n",
    "print(\"Last id(k):\", last_k_id)\n",
    "\n",
    "print(\"First id(n):\", first_n_id)\n",
    "print(\"Last id(n):\", id(n))\n",
    "\n",
    "print(\"First id(L):\", first_L_id)\n",
    "print(\"Last id(L):\", id(L))\n",
    "\n",
    "print(\"First id(m):\", first_m_id)\n",
    "print(\"Last id(m):\", id(m))\n",
    "\n",
    "print(\"First id(t):\", first_t_id)\n",
    "print(\"Last id(t):\", id(t))\n",
    "\n",
    "# Print the IDs of the elements in the list L\n",
    "print(\"First ids of elements in L:\")\n",
    "for idx, element_id in enumerate(first_L_elements_ids):\n",
    "    print(f\"  id(L[{idx}]):\", element_id)\n",
    "\n",
    "# Print the IDs of the elements in the tuple t\n",
    "print(\"First ids of elements in t:\")\n",
    "for idx, element_id in enumerate(first_t_elements_ids):\n",
    "    print(f\"  id(t[{idx}]):\", element_id)\n",
    "\n",
    "# To print the current (last) ids of elements in L and t\n",
    "current_L_elements_ids = [id(element) for element in L]\n",
    "print(\"Last ids of elements in L:\")\n",
    "for idx, element_id in enumerate(current_L_elements_ids):\n",
    "    print(f\"  id(L[{idx}]):\", element_id)\n",
    "\n",
    "current_t_elements_ids = [id(element) for element in t]\n",
    "print(\"Last ids of elements in t:\")\n",
    "for idx, element_id in enumerate(current_t_elements_ids):\n",
    "    print(f\"  id(t[{idx}]):\", element_id)\n"
   ]
  },
  {
   "cell_type": "code",
   "execution_count": 52,
   "id": "8be98ae0-db83-4718-861d-a010aa998f3b",
   "metadata": {},
   "outputs": [
    {
     "ename": "SyntaxError",
     "evalue": "invalid syntax (670857461.py, line 1)",
     "output_type": "error",
     "traceback": [
      "\u001b[0;36m  Cell \u001b[0;32mIn[52], line 1\u001b[0;36m\u001b[0m\n\u001b[0;31m    print(if)\u001b[0m\n\u001b[0m          ^\u001b[0m\n\u001b[0;31mSyntaxError\u001b[0m\u001b[0;31m:\u001b[0m invalid syntax\n"
     ]
    }
   ],
   "source": [
    "print(if)"
   ]
  },
  {
   "cell_type": "code",
   "execution_count": 53,
   "id": "09bb93ae-945a-4c2b-ae1c-31008fb37893",
   "metadata": {},
   "outputs": [
    {
     "name": "stdout",
     "output_type": "stream",
     "text": [
      "True\n"
     ]
    }
   ],
   "source": [
    "print(True)"
   ]
  },
  {
   "cell_type": "code",
   "execution_count": 54,
   "id": "50893fb9-9104-42ab-a1a8-c2dbefec41e1",
   "metadata": {},
   "outputs": [
    {
     "ename": "SyntaxError",
     "evalue": "cannot assign to True (73168909.py, line 1)",
     "output_type": "error",
     "traceback": [
      "\u001b[0;36m  Cell \u001b[0;32mIn[54], line 1\u001b[0;36m\u001b[0m\n\u001b[0;31m    True= \"nana\"\u001b[0m\n\u001b[0m    ^\u001b[0m\n\u001b[0;31mSyntaxError\u001b[0m\u001b[0;31m:\u001b[0m cannot assign to True\n"
     ]
    }
   ],
   "source": [
    "True= \"nana\"\n",
    "print(True)"
   ]
  },
  {
   "cell_type": "code",
   "execution_count": 59,
   "id": "1e01ba11-e40a-4e16-a522-c273ef98f0c4",
   "metadata": {},
   "outputs": [
    {
     "name": "stdout",
     "output_type": "stream",
     "text": [
      "['False', 'None', 'True', 'and', 'as', 'assert', 'async', 'await', 'break', 'class', 'continue', 'def', 'del', 'elif', 'else', 'except', 'finally', 'for', 'from', 'global', 'if', 'import', 'in', 'is', 'lambda', 'nonlocal', 'not', 'or', 'pass', 'raise', 'return', 'try', 'while', 'with', 'yield']\n"
     ]
    }
   ],
   "source": [
    "print(keyword.kwlist)"
   ]
  },
  {
   "cell_type": "code",
   "execution_count": 56,
   "id": "a0aadc42-5b7e-4bf3-8bfd-fda7ed09c43e",
   "metadata": {},
   "outputs": [],
   "source": [
    "name =True\n"
   ]
  },
  {
   "cell_type": "code",
   "execution_count": 57,
   "id": "b1ae41c9-3616-4b1a-bb47-3c9c4e6802b3",
   "metadata": {},
   "outputs": [
    {
     "name": "stdout",
     "output_type": "stream",
     "text": [
      "True\n"
     ]
    }
   ],
   "source": [
    "print(name)"
   ]
  },
  {
   "cell_type": "code",
   "execution_count": 61,
   "id": "3661ec8f-1ea7-43dc-937f-2b4c7608e3bb",
   "metadata": {},
   "outputs": [
    {
     "name": "stdout",
     "output_type": "stream",
     "text": [
      "['False', 'None', 'True', 'and', 'as', 'assert', 'async', 'await', 'break', 'class', 'continue', 'def', 'del', 'elif', 'else', 'except', 'finally', 'for', 'from', 'global', 'if', 'import', 'in', 'is', 'lambda', 'nonlocal', 'not', 'or', 'pass', 'raise', 'return', 'try', 'while', 'with', 'yield']\n"
     ]
    }
   ],
   "source": [
    "#import keyword\n",
    "print(keyword.kwlist)"
   ]
  },
  {
   "cell_type": "code",
   "execution_count": 66,
   "id": "6df17e0f-8e6a-41c5-a673-79e0024d58b5",
   "metadata": {},
   "outputs": [
    {
     "name": "stdout",
     "output_type": "stream",
     "text": [
      "1000 <class 'type'>\n"
     ]
    },
    {
     "ename": "TypeError",
     "evalue": "'str' object is not callable",
     "output_type": "error",
     "traceback": [
      "\u001b[0;31m---------------------------------------------------------------------------\u001b[0m",
      "\u001b[0;31mTypeError\u001b[0m                                 Traceback (most recent call last)",
      "Cell \u001b[0;32mIn[66], line 6\u001b[0m\n\u001b[1;32m      3\u001b[0m \u001b[38;5;66;03m#print(a, if)\u001b[39;00m\n\u001b[1;32m      5\u001b[0m \u001b[38;5;28mid\u001b[39m\u001b[38;5;241m=\u001b[39m \u001b[38;5;124m\"\u001b[39m\u001b[38;5;124mnares\u001b[39m\u001b[38;5;124m\"\u001b[39m\n\u001b[0;32m----> 6\u001b[0m \u001b[38;5;28mprint\u001b[39m(\u001b[38;5;28mid\u001b[39m(a))\n",
      "\u001b[0;31mTypeError\u001b[0m: 'str' object is not callable"
     ]
    }
   ],
   "source": [
    "a = 1000\n",
    "print(a,type)\n",
    "#print(a, if)\n",
    "\n",
    "id= \"nares\"\n",
    "print(id(a))"
   ]
  },
  {
   "cell_type": "code",
   "execution_count": 67,
   "id": "f79c56fc-c802-417a-a590-b42abbabf22e",
   "metadata": {},
   "outputs": [
    {
     "name": "stdout",
     "output_type": "stream",
     "text": [
      "['ArithmeticError', 'AssertionError', 'AttributeError', 'BaseException', 'BaseExceptionGroup', 'BlockingIOError', 'BrokenPipeError', 'BufferError', 'BytesWarning', 'ChildProcessError', 'ConnectionAbortedError', 'ConnectionError', 'ConnectionRefusedError', 'ConnectionResetError', 'DeprecationWarning', 'EOFError', 'Ellipsis', 'EncodingWarning', 'EnvironmentError', 'Exception', 'ExceptionGroup', 'False', 'FileExistsError', 'FileNotFoundError', 'FloatingPointError', 'FutureWarning', 'GeneratorExit', 'IOError', 'ImportError', 'ImportWarning', 'IndentationError', 'IndexError', 'InterruptedError', 'IsADirectoryError', 'KeyError', 'KeyboardInterrupt', 'LookupError', 'MemoryError', 'ModuleNotFoundError', 'NameError', 'None', 'NotADirectoryError', 'NotImplemented', 'NotImplementedError', 'OSError', 'OverflowError', 'PendingDeprecationWarning', 'PermissionError', 'ProcessLookupError', 'RecursionError', 'ReferenceError', 'ResourceWarning', 'RuntimeError', 'RuntimeWarning', 'StopAsyncIteration', 'StopIteration', 'SyntaxError', 'SyntaxWarning', 'SystemError', 'SystemExit', 'TabError', 'TimeoutError', 'True', 'TypeError', 'UnboundLocalError', 'UnicodeDecodeError', 'UnicodeEncodeError', 'UnicodeError', 'UnicodeTranslateError', 'UnicodeWarning', 'UserWarning', 'ValueError', 'Warning', 'ZeroDivisionError', '__IPYTHON__', '__build_class__', '__debug__', '__doc__', '__import__', '__loader__', '__name__', '__package__', '__spec__', 'abs', 'aiter', 'all', 'anext', 'any', 'ascii', 'bin', 'bool', 'breakpoint', 'bytearray', 'bytes', 'callable', 'chr', 'classmethod', 'compile', 'complex', 'copyright', 'credits', 'delattr', 'dict', 'dir', 'display', 'divmod', 'enumerate', 'eval', 'exec', 'execfile', 'filter', 'float', 'format', 'frozenset', 'get_ipython', 'getattr', 'globals', 'hasattr', 'hash', 'help', 'hex', 'id', 'input', 'int', 'isinstance', 'issubclass', 'iter', 'len', 'license', 'list', 'locals', 'map', 'max', 'memoryview', 'min', 'next', 'object', 'oct', 'open', 'ord', 'pow', 'print', 'property', 'range', 'repr', 'reversed', 'round', 'runfile', 'set', 'setattr', 'slice', 'sorted', 'staticmethod', 'str', 'sum', 'super', 'tuple', 'type', 'vars', 'zip']\n"
     ]
    }
   ],
   "source": [
    "print(dir(__builtins__))"
   ]
  },
  {
   "cell_type": "code",
   "execution_count": 74,
   "id": "894e8118-8464-4406-a08b-f615b4a7bc9b",
   "metadata": {},
   "outputs": [
    {
     "name": "stdout",
     "output_type": "stream",
     "text": [
      "True\n"
     ]
    }
   ],
   "source": [
    "name = \"copyright\" \n",
    "if name  in (dir(__builtins__)):\n",
    "    print(True)\n",
    "else :\n",
    "    print(False)"
   ]
  },
  {
   "cell_type": "code",
   "execution_count": 6,
   "id": "94fd1f94-fffe-4b2d-bc82-fe29ac580c23",
   "metadata": {},
   "outputs": [],
   "source": [
    "s=1000/200/5/2"
   ]
  },
  {
   "cell_type": "raw",
   "id": "5409df1f-01a9-48cf-9656-f572b2f4b990",
   "metadata": {},
   "source": [
    "print(s)"
   ]
  },
  {
   "cell_type": "code",
   "execution_count": 4,
   "id": "2a2efc79-82aa-40d0-b6aa-415a6ed370b1",
   "metadata": {},
   "outputs": [
    {
     "data": {
      "text/plain": [
       "80.0"
      ]
     },
     "execution_count": 4,
     "metadata": {},
     "output_type": "execute_result"
    }
   ],
   "source": [
    "200/2.5"
   ]
  },
  {
   "cell_type": "code",
   "execution_count": 5,
   "id": "c9809c64-1116-435a-8b48-a5b3266265fa",
   "metadata": {},
   "outputs": [
    {
     "data": {
      "text/plain": [
       "12.5"
      ]
     },
     "execution_count": 5,
     "metadata": {},
     "output_type": "execute_result"
    }
   ],
   "source": [
    "1000/80"
   ]
  },
  {
   "cell_type": "code",
   "execution_count": 1,
   "id": "385499d8-e6d0-420f-88b1-a7056b4f3653",
   "metadata": {},
   "outputs": [],
   "source": [
    "a = \"naresh\""
   ]
  },
  {
   "cell_type": "code",
   "execution_count": 6,
   "id": "398cce08-faf6-4231-a3d0-8b2cbfee13ba",
   "metadata": {},
   "outputs": [
    {
     "ename": "NameError",
     "evalue": "name 'sys' is not defined",
     "output_type": "error",
     "traceback": [
      "\u001b[0;31m---------------------------------------------------------------------------\u001b[0m",
      "\u001b[0;31mNameError\u001b[0m                                 Traceback (most recent call last)",
      "Cell \u001b[0;32mIn[6], line 2\u001b[0m\n\u001b[1;32m      1\u001b[0m result \u001b[38;5;241m=\u001b[39m \u001b[38;5;241m29\u001b[39m \u001b[38;5;241m*\u001b[39m\u001b[38;5;241m*\u001b[39m \u001b[38;5;241m10000\u001b[39m\n\u001b[0;32m----> 2\u001b[0m sys\u001b[38;5;241m.\u001b[39mset_int_max_str_digits(result)\n\u001b[1;32m      3\u001b[0m \u001b[38;5;28mprint\u001b[39m(result)\n",
      "\u001b[0;31mNameError\u001b[0m: name 'sys' is not defined"
     ]
    }
   ],
   "source": [
    "result = 29 ** 10000\n",
    "sys.set_int_max_str_digits(result)\n",
    "print(result)"
   ]
  },
  {
   "cell_type": "code",
   "execution_count": null,
   "id": "a117a851-cf20-4d33-88de-172fee5a3a63",
   "metadata": {},
   "outputs": [],
   "source": []
  }
 ],
 "metadata": {
  "kernelspec": {
   "display_name": "Python 3 (ipykernel)",
   "language": "python",
   "name": "python3"
  },
  "language_info": {
   "codemirror_mode": {
    "name": "ipython",
    "version": 3
   },
   "file_extension": ".py",
   "mimetype": "text/x-python",
   "name": "python",
   "nbconvert_exporter": "python",
   "pygments_lexer": "ipython3",
   "version": "3.12.4"
  }
 },
 "nbformat": 4,
 "nbformat_minor": 5
}
