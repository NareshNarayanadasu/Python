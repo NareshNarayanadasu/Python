{
 "cells": [
  {
   "cell_type": "code",
   "execution_count": 20,
   "id": "c69f18d3-2e16-4da4-8bd9-8c91aff3b957",
   "metadata": {},
   "outputs": [
    {
     "name": "stdout",
     "output_type": "stream",
     "text": [
      "12\n",
      "lk\n"
     ]
    }
   ],
   "source": [
    "s = 'abcdefghijkl'\n",
    "print(len(s))\n",
    "print(s[:9:-1])"
   ]
  },
  {
   "cell_type": "code",
   "execution_count": 16,
   "id": "286cac7c-36f0-4e01-aeab-01e413b3658d",
   "metadata": {},
   "outputs": [
    {
     "name": "stdout",
     "output_type": "stream",
     "text": [
      "5\n"
     ]
    }
   ],
   "source": [
    "print(s.index(\"f\"))"
   ]
  },
  {
   "cell_type": "code",
   "execution_count": 21,
   "id": "99a27fbc-a3a0-4286-bc08-b37e63b73c84",
   "metadata": {},
   "outputs": [],
   "source": [
    "b = [\"naresh\", 2, \"apple\"]"
   ]
  },
  {
   "cell_type": "code",
   "execution_count": 22,
   "id": "5ef094cf-cd96-404d-abc9-816129ffc9bd",
   "metadata": {},
   "outputs": [
    {
     "name": "stdout",
     "output_type": "stream",
     "text": [
      "['naresh', 2, 'apple']\n"
     ]
    }
   ],
   "source": [
    "print(b[:])"
   ]
  },
  {
   "cell_type": "code",
   "execution_count": null,
   "id": "def6838c-96c4-4546-8f0a-ca44b989e309",
   "metadata": {},
   "outputs": [],
   "source": []
  }
 ],
 "metadata": {
  "kernelspec": {
   "display_name": "Python 3 (ipykernel)",
   "language": "python",
   "name": "python3"
  },
  "language_info": {
   "codemirror_mode": {
    "name": "ipython",
    "version": 3
   },
   "file_extension": ".py",
   "mimetype": "text/x-python",
   "name": "python",
   "nbconvert_exporter": "python",
   "pygments_lexer": "ipython3",
   "version": "3.12.4"
  }
 },
 "nbformat": 4,
 "nbformat_minor": 5
}
