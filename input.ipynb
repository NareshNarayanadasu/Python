{
 "cells": [
  {
   "cell_type": "code",
   "execution_count": 2,
   "id": "10189983-0443-496a-95ea-537f10377e8d",
   "metadata": {},
   "outputs": [
    {
     "name": "stdin",
     "output_type": "stream",
     "text": [
      "Enter your name :  naresh\n",
      "Enter your age  : 26\n"
     ]
    },
    {
     "name": "stdout",
     "output_type": "stream",
     "text": [
      "Hi naresh your 26 years  old\n"
     ]
    }
   ],
   "source": [
    "name  = input(\"Enter your name : \")\n",
    "age   = input(\"Enter your age  :\")\n",
    "print(f\"Hi {name} your {age} years  old\")\n"
   ]
  },
  {
   "cell_type": "code",
   "execution_count": 3,
   "id": "f2bbf8d0-b3b3-4074-849d-0c12bc9fc933",
   "metadata": {},
   "outputs": [
    {
     "name": "stdin",
     "output_type": "stream",
     "text": [
      "Enter a  number :  13\n",
      "Enter a  one more number :  15\n"
     ]
    },
    {
     "name": "stdout",
     "output_type": "stream",
     "text": [
      "28\n",
      "-2\n",
      "195\n",
      "51185893014090757\n",
      "0.8666666666666667\n",
      "0\n",
      "13\n"
     ]
    }
   ],
   "source": [
    "n1 = input(\"Enter a  number : \")\n",
    "n2 = input(\"Enter a  one more number : \")\n",
    "num1 = int(n1)\n",
    "num2 = int(n2)\n",
    "print(num1+num2)\n",
    "print(num1-num2)\n",
    "print(num1*num2)\n",
    "print(num1**num2)\n",
    "print(num1/num2)\n",
    "print(num1//num2)\n",
    "print(num1%num2)\n"
   ]
  },
  {
   "cell_type": "code",
   "execution_count": 4,
   "id": "ad0dea65-3378-498b-9f74-2da56a97d91b",
   "metadata": {},
   "outputs": [
    {
     "name": "stdin",
     "output_type": "stream",
     "text": [
      "Enter a  number :  52\n",
      "Enter a  one more number :  25\n"
     ]
    },
    {
     "name": "stdout",
     "output_type": "stream",
     "text": [
      "77.0\n",
      "27.0\n",
      "1300.0\n",
      "7.944811378381908e+42\n",
      "2.08\n",
      "2.0\n",
      "2.0\n"
     ]
    }
   ],
   "source": [
    "n1 = input(\"Enter a  number : \")\n",
    "n2 = input(\"Enter a  one more number : \")\n",
    "num1 = float(n1)\n",
    "num2 = float(n2)\n",
    "print(num1+num2)\n",
    "print(num1-num2)\n",
    "print(num1*num2)\n",
    "print(num1**num2)\n",
    "print(num1/num2)\n",
    "print(num1//num2)\n",
    "print(num1%num2)"
   ]
  },
  {
   "cell_type": "code",
   "execution_count": 5,
   "id": "e4b7f61e-3192-4ad3-9588-4745e577d400",
   "metadata": {},
   "outputs": [
    {
     "name": "stdin",
     "output_type": "stream",
     "text": [
      "Enter a  number :  52\n",
      "Enter a  one more number :  584\n"
     ]
    },
    {
     "name": "stdout",
     "output_type": "stream",
     "text": [
      "77.0\n",
      "27.0\n",
      "1300.0\n",
      "7.944811378381908e+42\n",
      "2.08\n",
      "2.0\n",
      "2.0\n"
     ]
    }
   ],
   "source": [
    "n1 = float(input(\"Enter a  number : \"))\n",
    "n2 = float(input(\"Enter a  one more number : \"))\n",
    "print(num1+num2)\n",
    "print(num1-num2)\n",
    "print(num1*num2)\n",
    "print(num1**num2)\n",
    "print(num1/num2)\n",
    "print(num1//num2)\n",
    "print(num1%num2)"
   ]
  },
  {
   "cell_type": "code",
   "execution_count": null,
   "id": "7f36da4b-53a2-4d8f-940a-b8c9d5515801",
   "metadata": {},
   "outputs": [],
   "source": []
  }
 ],
 "metadata": {
  "kernelspec": {
   "display_name": "Python 3 (ipykernel)",
   "language": "python",
   "name": "python3"
  },
  "language_info": {
   "codemirror_mode": {
    "name": "ipython",
    "version": 3
   },
   "file_extension": ".py",
   "mimetype": "text/x-python",
   "name": "python",
   "nbconvert_exporter": "python",
   "pygments_lexer": "ipython3",
   "version": "3.12.4"
  }
 },
 "nbformat": 4,
 "nbformat_minor": 5
}
