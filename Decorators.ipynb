{
 "cells": [
  {
   "cell_type": "code",
   "execution_count": 1,
   "id": "6db3b0ca-6103-4423-81ab-2e843b2ea529",
   "metadata": {},
   "outputs": [
    {
     "name": "stdout",
     "output_type": "stream",
     "text": [
      "Hello\n",
      "<function func at 0x78c7fa54c860> 20\n"
     ]
    }
   ],
   "source": [
    "def func():\n",
    "    print(\"Hello\")\n",
    "    return 20\n",
    "res = func\n",
    "res1 = func()\n",
    "print(res,res1)"
   ]
  },
  {
   "cell_type": "code",
   "execution_count": 3,
   "id": "07798a68-f25c-424f-920f-fa1417735fa7",
   "metadata": {},
   "outputs": [
    {
     "name": "stdout",
     "output_type": "stream",
     "text": [
      "Hello\n",
      "<function func at 0x78c7fa54d9e0> 20\n",
      "Hello\n",
      "20\n"
     ]
    }
   ],
   "source": [
    "def func():\n",
    "    print(\"Hello\")\n",
    "    return 20\n",
    "res = func\n",
    "res1 = func()\n",
    "print(res,res1)\n",
    "r1 =res()\n",
    "print(r1)"
   ]
  },
  {
   "cell_type": "code",
   "execution_count": 10,
   "id": "9e7733eb-2ce0-4e8e-abcd-5a3aba66056f",
   "metadata": {},
   "outputs": [
    {
     "name": "stdout",
     "output_type": "stream",
     "text": [
      "result  <function fun at 0x78c7fa54c860>\n"
     ]
    }
   ],
   "source": [
    "def fun():\n",
    "\n",
    "    print(\"HI\")\n",
    "    print(\"Hello\")\n",
    "    a = 1000\n",
    "    print(a)\n",
    "    return 20+30\n",
    "res = fun\n",
    "res1 =fun\n",
    "print(\"result \",res1)"
   ]
  },
  {
   "cell_type": "code",
   "execution_count": 11,
   "id": "628433ee-a015-417b-91cc-3b47070a85a7",
   "metadata": {},
   "outputs": [
    {
     "ename": "ModuleNotFoundError",
     "evalue": "No module named 'diagrams'",
     "output_type": "error",
     "traceback": [
      "\u001b[0;31m---------------------------------------------------------------------------\u001b[0m",
      "\u001b[0;31mModuleNotFoundError\u001b[0m                       Traceback (most recent call last)",
      "Cell \u001b[0;32mIn[11], line 2\u001b[0m\n\u001b[1;32m      1\u001b[0m \u001b[38;5;66;03m# diagram.py\u001b[39;00m\n\u001b[0;32m----> 2\u001b[0m \u001b[38;5;28;01mfrom\u001b[39;00m \u001b[38;5;21;01mdiagrams\u001b[39;00m \u001b[38;5;28;01mimport\u001b[39;00m Diagram\n\u001b[1;32m      3\u001b[0m \u001b[38;5;28;01mfrom\u001b[39;00m \u001b[38;5;21;01mdiagrams\u001b[39;00m\u001b[38;5;21;01m.\u001b[39;00m\u001b[38;5;21;01maws\u001b[39;00m\u001b[38;5;21;01m.\u001b[39;00m\u001b[38;5;21;01mcompute\u001b[39;00m \u001b[38;5;28;01mimport\u001b[39;00m EC2\n\u001b[1;32m      4\u001b[0m \u001b[38;5;28;01mfrom\u001b[39;00m \u001b[38;5;21;01mdiagrams\u001b[39;00m\u001b[38;5;21;01m.\u001b[39;00m\u001b[38;5;21;01maws\u001b[39;00m\u001b[38;5;21;01m.\u001b[39;00m\u001b[38;5;21;01mdatabase\u001b[39;00m \u001b[38;5;28;01mimport\u001b[39;00m RDS\n",
      "\u001b[0;31mModuleNotFoundError\u001b[0m: No module named 'diagrams'"
     ]
    }
   ],
   "source": [
    "# diagram.py\n",
    "from diagrams import Diagram\n",
    "from diagrams.aws.compute import EC2\n",
    "from diagrams.aws.database import RDS\n",
    "from diagrams.aws.network import ELB\n",
    "\n",
    "with Diagram(\"Web Service\", show=False):\n",
    "    ELB(\"lb\") >> EC2(\"web\") >> RDS(\"userdb\")"
   ]
  },
  {
   "cell_type": "code",
   "execution_count": 18,
   "id": "69a06be0-ac9c-4b81-8b1d-a9523ae7c6a2",
   "metadata": {},
   "outputs": [
    {
     "name": "stdout",
     "output_type": "stream",
     "text": [
      "88\n",
      "89\n",
      "90\n",
      "<memory at 0x78c7f2b72800>\n",
      "b'X'\n"
     ]
    }
   ],
   "source": [
    "byte_array = bytearray('XYZ', 'utf-8')\n",
    " \n",
    "mv = memoryview(byte_array)\n",
    " \n",
    "print(mv[0])\n",
    "print(mv[1])\n",
    "print(mv[2])\n",
    "print(mv)\n",
    "\n",
    "print(bytes(mv[0:1]))"
   ]
  },
  {
   "cell_type": "code",
   "execution_count": 19,
   "id": "3394f23e-a0e8-4f0a-b7da-4995f9355af8",
   "metadata": {},
   "outputs": [
    {
     "name": "stdout",
     "output_type": "stream",
     "text": [
      "hyd\n",
      "hello\n",
      "result :  <function outer.<locals>.inner at 0x78c7fa5af560>\n",
      "hi\n",
      "result :  20\n"
     ]
    }
   ],
   "source": [
    "def outer():\n",
    "    print(\"hyd\")\n",
    "    def inner():\n",
    "        print(\"hi\")\n",
    "        return 20\n",
    "    print(\"hello\")\n",
    "    return inner\n",
    "res = outer()\n",
    "print(\"result : \", res)\n",
    "r1 =res()\n",
    "print(\"result : \", r1)"
   ]
  },
  {
   "cell_type": "code",
   "execution_count": null,
   "id": "7c664ae0-6e09-49b9-bb02-8be56350d94f",
   "metadata": {},
   "outputs": [],
   "source": []
  }
 ],
 "metadata": {
  "kernelspec": {
   "display_name": "Python 3 (ipykernel)",
   "language": "python",
   "name": "python3"
  },
  "language_info": {
   "codemirror_mode": {
    "name": "ipython",
    "version": 3
   },
   "file_extension": ".py",
   "mimetype": "text/x-python",
   "name": "python",
   "nbconvert_exporter": "python",
   "pygments_lexer": "ipython3",
   "version": "3.12.4"
  }
 },
 "nbformat": 4,
 "nbformat_minor": 5
}
