{
 "cells": [
  {
   "cell_type": "markdown",
   "id": "1b8c830c-2677-41a8-a43d-202488f19d5e",
   "metadata": {},
   "source": [
    "#### 1. Take the input from the user for(Total number of people,Number of seats for bus. Based on two inputs Decide how many number of buses required"
   ]
  },
  {
   "cell_type": "code",
   "execution_count": 1,
   "id": "3b223613-0ea2-442b-bda6-f9efd9377985",
   "metadata": {},
   "outputs": [
    {
     "name": "stdin",
     "output_type": "stream",
     "text": [
      "please enter the No. of passengers  :  435\n",
      "available seats : 54\n"
     ]
    },
    {
     "name": "stdout",
     "output_type": "stream",
     "text": [
      "8\n"
     ]
    }
   ],
   "source": [
    "passangers = int(input( \"please enter the No. of passengers  : \" ))\n",
    "seats      = int(input(\"available seats :\"))\n",
    "no_of_buses_need = passangers // seats\n",
    "print(no_of_buses_need)"
   ]
  },
  {
   "cell_type": "markdown",
   "id": "6e00a24d-9331-4719-8da2-91d823709c48",
   "metadata": {},
   "source": [
    "#### 2.take temperature from the user and convert foreign heat -> Celsius."
   ]
  },
  {
   "cell_type": "code",
   "execution_count": null,
   "id": "09540e3e-7235-4164-af2b-4afd0f3c6f14",
   "metadata": {},
   "outputs": [],
   "source": [
    "fahrenheit = float(input(\"Enter temperature in Fahrenheit: \"))\n",
    "celsius = (fahrenheit - 32) * 5/9\n",
    "print(f\"{fahrenheit}°F is equal to {celsius:.2f}°C\")\n"
   ]
  },
  {
   "cell_type": "markdown",
   "id": "1fb51174-8221-4a5b-ae20-0d48c87cf657",
   "metadata": {},
   "source": [
    "#### 3.take temperature from the user and convert Celsius → foreign heat."
   ]
  },
  {
   "cell_type": "code",
   "execution_count": null,
   "id": "3fb323be-787f-4008-97c2-ac3459b7aad2",
   "metadata": {},
   "outputs": [],
   "source": [
    "celsius = float(input(\"Enter temperature in Celsius: \"))\n",
    "fahrenheit = (celsius * 9/5) + 32\n",
    "print(f\"{celsius}°C is equal to {fahrenheit}°F\")"
   ]
  },
  {
   "cell_type": "markdown",
   "id": "5b59b14c-3d84-4254-b9ad-ed491446aca6",
   "metadata": {},
   "source": [
    "#### 4.take four number from the user (variables name it as x1,x2,x3,x4)"
   ]
  },
  {
   "cell_type": "raw",
   "id": "d425346f-4b7d-4f3a-ad34-fa058ffc9071",
   "metadata": {},
   "source": [
    "Do the below operations\n",
    "(x1+x2)**2, (x3+x4)**3\n",
    "variance\n",
    "    standard deviation: sqrt(variance):  User math module. Math.sqrt(variance)\n",
    "Regression\n",
    "    \ty=mx+b\n",
    "          m=1.23\n",
    "          b=0.045\n",
    "          find out y\n",
    "          y=m*(x1+x2+x3+x4)+b\n",
    " Find the average of four numbers\n",
    "Find the sum of four numbers"
   ]
  },
  {
   "cell_type": "code",
   "execution_count": null,
   "id": "f7875f7c-1231-4140-891d-d244eb7eb3c9",
   "metadata": {},
   "outputs": [],
   "source": [
    "# Taking four integer inputs from the user\n",
    "import math \n",
    "x1 = int(input(\"Enter the value of x1: \"))\n",
    "x2 = int(input(\"Enter the value of x2: \"))\n",
    "x3 = int(input(\"Enter the value of x3: \"))\n",
    "x4 = int(input(\"Enter the value of x4: \"))\n",
    "\n",
    "# Calculating the expressions\n",
    "result1 = (x1 + x2) ** 2\n",
    "result2 = (x3 + x4) ** 3\n",
    "\n",
    "# Printing the results\n",
    "print(\"The result of (x1 + x2)^2 is:\", result1)\n",
    "print(\"The result of (x3 + x4)^3 is:\", result2)\n",
    "\n",
    "### mean value \n",
    "mean = (x1 + x2+ x3 + x4 )//4 \n",
    "print(mean)\n",
    "## Squared Differences\n",
    "numbers = (x1 , x2, x3 , x4 )\n",
    "sum_sqd_numbers = 0\n",
    "sqd_numbers = []\n",
    "for i in numbers:\n",
    "    sqd = (i - mean) ** 2\n",
    "    sum_sqd_numbers += sqd\n",
    "    sqd_numbers.append(sqd)\n",
    "variance = sum_sqd_numbers/(4-1)\n",
    "print(\" variance : \",variance)    \n",
    "# standard deviationRegression\n",
    "std_dev = math.sqrt(variance)\n",
    "#print(std_dev)\n",
    "# Regression\n",
    "\n",
    "## y=mx+b\n",
    "m=1.23\n",
    "b=0.045\n",
    "y  =  m * (x1+x2+x3+x4) +b\n",
    "print(\"regression : \", y)\n",
    "print(\"standard deviationRegression : \",std_dev)\n",
    "print(\"average of four numbers : \",mean)\n",
    "print(\"sum of 4 numbers : \",(x1+x2+x3+x4))\n",
    "\n",
    "    \n",
    "    \n",
    "    "
   ]
  },
  {
   "cell_type": "markdown",
   "id": "9304e260-f6ee-48de-81d7-4d722b0eacc7",
   "metadata": {},
   "source": [
    "#### 5. Take the distance in km Show that in cm, meters, in milli meters, cents, feets, yards"
   ]
  },
  {
   "cell_type": "code",
   "execution_count": null,
   "id": "51c914f1-80c4-42fc-966b-423ffd138c0c",
   "metadata": {},
   "outputs": [],
   "source": [
    "km = int(input(\"Enter distance in km: \"))\n",
    "\n",
    "# Conversions\n",
    "meters = km * 1000\n",
    "centimeters = km * 100000\n",
    "millimeters = km * 1000000\n",
    "feet = km * 3280.84\n",
    "yards = km * 1093.61\n",
    "# Convert km to square feet (assuming 1 km² = 10,763,910 square feet)\n",
    "square_feet = (km ** 2) * 10763910\n",
    "cents = square_feet / 435.56\n",
    "\n",
    "# Output\n",
    "print(f\"Distance: {km} kilometers\")\n",
    "print(f\"  Meters: {meters} m\")\n",
    "print(f\"  Centimeters: {centimeters} cm\")\n",
    "print(f\"  Millimeters: {millimeters} mm\")\n",
    "print(f\"  Feet: {feet} ft\")\n",
    "print(f\"  Yards: {yards} yd\")\n",
    "print(f\"  Square Feet: {square_feet:.2f} sq ft\")\n",
    "print(f\"  Cents: {cents:.2f} cent\")\n"
   ]
  },
  {
   "cell_type": "markdown",
   "id": "fb60408a-9775-4b36-8ede-f4d4ab7d2ea0",
   "metadata": {},
   "source": [
    "#### 6.Take the size of your hard disk in GB Show that in MB, KB, TB, PB"
   ]
  },
  {
   "cell_type": "code",
   "execution_count": null,
   "id": "ec1e78bd-0bd6-4865-b4cf-2454bed31642",
   "metadata": {},
   "outputs": [],
   "source": [
    "size_gb = int(input(\"Enter size of the disk :\"))\n",
    "mb = size_gb * 1024\n",
    "kb = size_gb * 1024 * 1024\n",
    "tb = size_gb / 1024\n",
    "pb = size_gb / (1024 * 1024)\n",
    "\n",
    "# Print the results\n",
    "print(f\"Size: {size_gb} GB\")\n",
    "print(f\"  Megabytes: {mb} MB\")\n",
    "print(f\"  Kilobytes: {kb} KB\")\n",
    "print(f\"  Terabytes: {tb} TB\")\n",
    "print(f\"  Petabytes: {pb} PB\")\n"
   ]
  },
  {
   "cell_type": "markdown",
   "id": "a84282c3-1f89-4114-8a0d-f2ccbba8c237",
   "metadata": {},
   "source": [
    "####  7.  Take name, age, height from the user and print like below\n",
    "The details of the person: Name:name of the person, Age:age of the person, Height:height of the person\n",
    "Note: make sure that no space between : and a value and should be space after “COMA”"
   ]
  },
  {
   "cell_type": "code",
   "execution_count": null,
   "id": "f5d1d66b-d2f5-4b21-bce3-5922530fee9a",
   "metadata": {},
   "outputs": [],
   "source": [
    "# Take user inputs\n",
    "name = input(\"Enter your name: \")\n",
    "age = input(\"Enter your age: \")\n",
    "height = input(\"Enter your height (in cm): \")\n",
    "\n",
    "# Print the details in the specified format\n",
    "print(f\"The details of the person: Name:{name}, Age:{age}, Height:{height}\")\n"
   ]
  },
  {
   "cell_type": "markdown",
   "id": "64c30dca-31b7-440a-9280-9313a2e95ad4",
   "metadata": {},
   "source": [
    "#### 8. BMI calculation: take required parameters for BMI calculation from the user and calculate BMI of the person"
   ]
  },
  {
   "cell_type": "code",
   "execution_count": null,
   "id": "224b7f3f-3f97-485f-b71f-5e5b3452287b",
   "metadata": {},
   "outputs": [],
   "source": [
    "weight_kg = float(input(\"Enter your weight in kilograms: \"))\n",
    "height_m = float(input(\"Enter your height in meters: \"))\n",
    "\n",
    "bmi = weight_kg / (height_m ** 2)\n",
    "\n",
    "print(\"Your BMI is:\", bmi)"
   ]
  },
  {
   "cell_type": "raw",
   "id": "b16a2392-b781-458f-8cae-b22eedd57e2d",
   "metadata": {},
   "source": [
    "9. name=\"Jayaram\"\n",
    "age=1.6\n",
    "height=3.5356234\n",
    "weight=10.343856783\n",
    "By using above inputs print the output\n",
    "Name:Jayaram, Age:1.6, Height:3.54, Weight:10.344\n",
    "Note: Use format specifiers(%s, %d, %f)"
   ]
  },
  {
   "cell_type": "code",
   "execution_count": null,
   "id": "67de4021-19b3-406a-a435-65f91aac206a",
   "metadata": {},
   "outputs": [],
   "source": [
    "name = \"Jayaram\"\n",
    "age = 1.6\n",
    "height = 3.5356234\n",
    "weight = 10.343856783\n",
    "\n",
    "print(\"Name: %s, Age: %.1f, Height: %.2f, Weight: %.3f\" % (name, age, height, weight))\n"
   ]
  },
  {
   "cell_type": "markdown",
   "id": "2a9bd5bb-cfe3-44a5-b44d-984f12e811f1",
   "metadata": {},
   "source": [
    "#### 10. Take three upper case letters from the user convert in to small case."
   ]
  },
  {
   "cell_type": "code",
   "execution_count": null,
   "id": "f454997f-6629-4c62-8708-36328f203301",
   "metadata": {},
   "outputs": [],
   "source": [
    "\n",
    "letter1 = input(\"Enter the first uppercase letter: \")\n",
    "letter2 = input(\"Enter the second uppercase letter: \")\n",
    "letter3 = input(\"Enter the third uppercase letter: \")\n",
    "lowercase1 = chr(ord(letter1) + 32)\n",
    "lowercase2 = chr(ord(letter2) + 32)\n",
    "lowercase3 = chr(ord(letter3) + 32)\n",
    "\n",
    "\n",
    "print(f\"Lowercase letters: {lowercase1}, {lowercase2}, {lowercase3}\")\n"
   ]
  },
  {
   "cell_type": "markdown",
   "id": "7b1e455d-d5ce-421f-bdb4-7e3cb06203fd",
   "metadata": {},
   "source": [
    "#### 11. take base and exponent value from the user and print like in mathematics: example: base=2, exponent=3: 23\n",
    "Use: 2\\u00b3"
   ]
  },
  {
   "cell_type": "code",
   "execution_count": null,
   "id": "34e98b12-12fb-4c4a-ad00-d53831addb4e",
   "metadata": {},
   "outputs": [],
   "source": [
    "base = int(input(\"Enter the base: \"))\n",
    "exponent = int(input(\"Enter the exponent: \"))\n",
    "\n",
    "# Convert exponent to superscript using Unicode\n",
    "superscripts = {\n",
    "    '0': '\\u2070', '1': '\\u00b9', '2': '\\u00b2', '3': '\\u00b3', \n",
    "    '4': '\\u2074', '5': '\\u2075', '6': '\\u2076', '7': '\\u2077', \n",
    "    '8': '\\u2078', '9': '\\u2079'\n",
    "}\n",
    "exponent_str = ''.join(superscripts[digit] for digit in str(exponent))\n",
    "\n",
    "# Display the result in the mathematical format\n",
    "print(f\"{base}{exponent_str}\")\n"
   ]
  },
  {
   "cell_type": "markdown",
   "id": "3c15b949-5e00-498f-9333-c74afead9d9a",
   "metadata": {},
   "source": [
    "### 12. Take some groceries cost prices and print total cost and average cost, what is the max cost, what is the minimum cost."
   ]
  },
  {
   "cell_type": "code",
   "execution_count": null,
   "id": "e0d9724e-408f-4185-8008-f3bdb342b0b1",
   "metadata": {},
   "outputs": [],
   "source": [
    "# Take input from the user for grocery costs (comma-separated)\n",
    "costs = input(\"Enter the cost prices of groceries (comma-separated): \")\n",
    "\n",
    "# Split the input string into a list of numbers and convert them to floats\n",
    "cost_list = [float(cost) for cost in costs.split(\",\")]\n",
    "\n",
    "# Calculate total cost, average cost, maximum cost, and minimum cost\n",
    "total_cost = sum(cost_list)\n",
    "average_cost = total_cost / len(cost_list)\n",
    "max_cost = max(cost_list)\n",
    "min_cost = min(cost_list)\n",
    "\n",
    "# Display the results\n",
    "print(f\"Total Cost: {total_cost:.2f}\")\n",
    "print(f\"Average Cost: {average_cost:.2f}\")\n",
    "print(f\"Maximum Cost: {max_cost:.2f}\")\n",
    "print(f\"Minimum Cost: {min_cost:.2f}\")\n"
   ]
  },
  {
   "cell_type": "code",
   "execution_count": null,
   "id": "e5623530-c3fb-4802-a177-df36370de3b8",
   "metadata": {},
   "outputs": [],
   "source": [
    "groceries = [35,45.3,200,45.6]\n",
    "total = sum(groceries)\n",
    "avg_cost = total/len(groceries)\n",
    "max_cost = max(groceries)\n",
    "min_cost = min(groceries)\n",
    "print(f\" Total cost for groceries: {total:.2f}\")\n",
    "print(f\" Average cost for groceries: {avg_cost:.2f}\")\n",
    "print(f\" Maximum cost for groceries: {max_cost}\")\n",
    "print(f\" Minimum cost for groceries: {min_cost}\") "
   ]
  },
  {
   "cell_type": "markdown",
   "id": "e810e4be-7007-406c-a973-8d5f61d9e78a",
   "metadata": {},
   "source": [
    "#### 13. Assign “ten” value to variable it is 10 otherwise assign “Not ten” \n",
    "    Note: write two versions of program\n",
    "\tVersion1: use and operator\n",
    "\tVersion2: use or operator ```"
   ]
  },
  {
   "cell_type": "code",
   "execution_count": null,
   "id": "0c77bb17-26fd-4b4d-bf95-c519970f0510",
   "metadata": {},
   "outputs": [],
   "source": [
    "# using AND operator\n",
    "number = 10\n",
    "\n",
    "if number == 10 and number != 10:\n",
    "    result = \"ten\"\n",
    "else:\n",
    "    result = \"Not ten\"\n",
    "\n",
    "print(result)"
   ]
  },
  {
   "cell_type": "code",
   "execution_count": null,
   "id": "7b7ce988-33c4-4234-b469-1bc2f686aa37",
   "metadata": {},
   "outputs": [],
   "source": [
    "#by using or operator\n",
    "number = 10\n",
    "\n",
    "if number == 10 or number != 10:\n",
    "    result = \"ten\"\n",
    "else:\n",
    "    result = \"Not ten\"\n",
    "\n",
    "print(result)"
   ]
  },
  {
   "cell_type": "markdown",
   "id": "c6f7fa22-e9d0-4ea0-b529-dded8b9d0eaa",
   "metadata": {},
   "source": [
    "#### 14. Take the input from the user for(Total number of people, total number of buses, Number of seats for bus, adjust factor). Based on four inputs\n",
    "#### Decide whether there is sufficient buses or not and give solution for how many extra buses required."
   ]
  },
  {
   "cell_type": "code",
   "execution_count": null,
   "id": "75f088b2-29f3-4a38-a367-5b08c2bde579",
   "metadata": {},
   "outputs": [],
   "source": [
    "# Get user input\n",
    "people = int(input(\"How many people are there? \"))\n",
    "buses = int(input(\"How many buses are there? \"))\n",
    "seats = int(input(\"How many seats are there in each bus? \"))\n",
    "adjust = float(input(\"Enter the adjust factor (e.g., 0.8 for 20% spacing): \"))\n",
    "\n",
    "# Calculate total capacity\n",
    "total_capacity = buses * seats * adjust\n",
    "\n",
    "# Calculate required buses\n",
    "required_buses = people // total_capacity\n",
    "if people % total_capacity > 0:\n",
    "    required_buses += 1\n",
    "\n",
    "# Calculate extra buses\n",
    "extra_buses = required_buses - buses\n",
    "\n",
    "# Print the result\n",
    "if extra_buses > 0:\n",
    "    print(f\"There are not enough buses. You need {extra_buses} more bus(es).\")\n",
    "elif extra_buses == 0:\n",
    "    print(\"There are sufficient buses.\")\n",
    "else:\n",
    "    print(\"There are extra buses available.\")"
   ]
  },
  {
   "cell_type": "markdown",
   "id": "9f3d22f4-7b40-4193-94d9-3196a343b711",
   "metadata": {},
   "source": [
    "#### 14.Take number from the user decide whether it is even or odd."
   ]
  },
  {
   "cell_type": "code",
   "execution_count": null,
   "id": "6200b6cc-54b2-4520-8667-695b09669300",
   "metadata": {},
   "outputs": [],
   "source": [
    "number = int(input(\"Enter a number: \"))\n",
    "\n",
    "if number % 2 == 0:\n",
    "    print(number, \"is even.\")\n",
    "else:\n",
    "    print(number, \"is odd.\")"
   ]
  },
  {
   "cell_type": "markdown",
   "id": "3e04f852-78b7-41a0-9309-fd0261d87345",
   "metadata": {},
   "source": [
    "#### 16.take a string from the user print the length. if the user not given anything then show an error message"
   ]
  },
  {
   "cell_type": "code",
   "execution_count": null,
   "id": "8a7fe299-f227-4dfb-a3c6-b52e8fa1379a",
   "metadata": {},
   "outputs": [],
   "source": [
    "string = input(\"Enter a string: \")\n",
    "\n",
    "if string:\n",
    "    print(\"Length of the string is:\", len(string))\n",
    "else:\n",
    "    print(\"Error: Please enter a string.\")"
   ]
  },
  {
   "cell_type": "markdown",
   "id": "321ff832-a17a-46df-9405-c34c468346e2",
   "metadata": {},
   "source": [
    "#### Question 17: Code to Perform Mathematical Operations\n",
    "\n",
    "Write a Python program that performs mathematical operations based on user input. The program should:\n",
    "\n",
    "1. Take two numbers from the user.\n",
    "2. Display the following menu:\n",
    "\n",
    "    - 1. Add\n",
    "    - 2. Subtract\n",
    "    - 3. Multiply\n",
    "    - 4. Divide\n",
    "    - 5. Quit\n",
    "\n",
    "3. Prompt the user to select an option.\n",
    "4. Based on the option selected, perform the corresponding operation and display the result.\n",
    "5. Continue displaying the menu and performing operations until the user chooses to quit.\n"
   ]
  },
  {
   "cell_type": "code",
   "execution_count": null,
   "id": "72cfc099-1aec-4ae1-a5e2-56912d089627",
   "metadata": {},
   "outputs": [],
   "source": [
    "num1 = float(input(\"Enter first number: \"))\n",
    "num2 = float(input(\"Enter second number: \"))\n",
    "print(\"Select an operation:\\n1. add\\n2. sub\\n3. mul\\n4. div\\n5. Quit\")\n",
    "option = input(\"Enter an option (1/2/3/4/5): \")\n",
    "\n",
    "if option == '1':\n",
    "    print(f\"The result of addition is: {num1 + num2}\")\n",
    "elif option == '2':\n",
    "    print(f\"The result of subtraction is: {num1 - num2}\")\n",
    "elif option == '3':\n",
    "    print(f\"The result of multiplication is: {num1 * num2}\")\n",
    "elif option == '4':\n",
    "    if num2 != 0:\n",
    "        print(f\"The result of division is: {num1 / num2}\")\n",
    "    else:\n",
    "        print(\"Error: Cannot divide by zero.\")\n",
    "elif option == '5':\n",
    "    print(\"Exiting the program.\")\n",
    "    print(\"*****THANK YOU ******\")\n",
    "   \n",
    "else:\n",
    "    print(\"Invalid option. Please try again.\")\n"
   ]
  },
  {
   "cell_type": "markdown",
   "id": "4e815798-a74b-4113-8b6a-ce8bb33e0064",
   "metadata": {},
   "source": [
    "#### Question 18: Menu Selection Based on Age Group\n",
    "\n",
    "Write a Python program that displays a menu for selecting an age group and shows a corresponding message based on the user's selection. The program should:\n",
    "\n",
    "1. Show the following menu:\n",
    "    - 1. Kids\n",
    "    - 2. Men's\n",
    "    - 3. Women's\n",
    "\n",
    "2. Based on the option selected, display the following message:\n",
    "    - Option 1: \"You are a kid\"\n",
    "    - Option 2: \"You are a gentleman\"\n",
    "    - Option 3: \"You are a good woman\"\n",
    "\n",
    "3. If the option value is greater than 3, show an error message: \"Invalid option. Please select a valid option.\"\n"
   ]
  },
  {
   "cell_type": "code",
   "execution_count": null,
   "id": "03a12892-dcb1-4483-ac83-50b0a0c03309",
   "metadata": {},
   "outputs": [],
   "source": [
    "# Display the menu\n",
    "print(\"1. Kids\")\n",
    "print(\"2. Men's\")\n",
    "print(\"3. Women's\")\n",
    "\n",
    "# Take user input\n",
    "option = int(input(\"Enter an option (1/2/3): \"))\n",
    "\n",
    "# Show the message based on the selection\n",
    "if option == 1:\n",
    "    print(\"You are a kid\")\n",
    "elif option == 2:\n",
    "    print(\"You are a gentleman\")\n",
    "elif option == 3:\n",
    "    print(\"You are a good woman\")\n",
    "else:\n",
    "    print(\"Invalid option. Please select a valid option.\")\n"
   ]
  },
  {
   "cell_type": "markdown",
   "id": "255084a7-3ffb-4b37-81d8-e15507834268",
   "metadata": {},
   "source": [
    "#### Question 19: Check Substring in a String\n",
    "\n",
    "Write a Python program to check if a given substring is present in an actual string. \n",
    "\n",
    "**Example:**\n",
    "\n",
    "- Given string: `act = \"python is a pure object oriented programming language\"`\n",
    "- Check whether the substring `\"pure\"` is present in `act`.\n",
    "\n",
    "**Note:** Use the `in` operator to perform the check.\n"
   ]
  },
  {
   "cell_type": "code",
   "execution_count": null,
   "id": "9396d048-ef94-4238-8b60-da9bffe3bee7",
   "metadata": {},
   "outputs": [],
   "source": [
    "# the actual string\n",
    "act = \"python is a pure object oriented programming language\"\n",
    "\n",
    "# substring to check\n",
    "substring = \"pure\"\n",
    "\n",
    "# Check the substring using the 'in' operator\n",
    "if substring in act:\n",
    "    print(f\"'{substring}' is present in the actual string.\")\n",
    "else:\n",
    "    print(f\"'{substring}' is not present in the actual string.\")\n"
   ]
  },
  {
   "cell_type": "markdown",
   "id": "3e9af650-6f4e-4054-b2dd-a0322f242951",
   "metadata": {},
   "source": [
    "#### 20. Take three numbers from the user and decide which is big"
   ]
  },
  {
   "cell_type": "code",
   "execution_count": null,
   "id": "95a3c273-4033-49bc-ab4b-dc3fac64ed18",
   "metadata": {},
   "outputs": [],
   "source": [
    "num1 = float(input(\"Enter the first number: \"))\n",
    "num2 = float(input(\"Enter the second number: \"))\n",
    "num3 = float(input(\"Enter the third number: \"))\n",
    "\n",
    "if num1 >= num2 and num1 >= num3:\n",
    "    print(f\"The largest number is: {num1}\")\n",
    "elif num2 >= num1 and num2 >= num3:\n",
    "    print(f\"The largest number is: {num2}\")\n",
    "else:\n",
    "    print(f\"The largest number is: {num3}\")\n"
   ]
  },
  {
   "cell_type": "markdown",
   "id": "8a99476f-49f1-4f2d-87d6-b2bf50d93b3c",
   "metadata": {},
   "source": [
    "### Question 21: Marriage Eligibility Check\n",
    "\n",
    "Write a Python program to determine whether a person is eligible for marriage in India based on their age and gender. The eligibility criteria are:\n",
    "\n",
    "- **Men:** Age must be greater than 24.\n",
    "- **Women:** Age must be greater than 21.\n",
    "\n",
    "The program should:\n",
    "1. Take the age and gender of the user as input.\n",
    "2. Decide whether the user is eligible for marriage based on the given criteria.\n",
    "3. Print a message indicating whether the user is eligible or not.\n",
    "\n",
    "\n",
    "\n"
   ]
  },
  {
   "cell_type": "code",
   "execution_count": null,
   "id": "c9d5c6e2-f129-4119-b7b7-8cdc202c2cfb",
   "metadata": {},
   "outputs": [],
   "source": [
    "age = int(input(\"Enter your age: \"))\n",
    "gender = input(\"Enter your gender (male/female): \").lower()\n",
    "\n",
    "if gender == \"male\":\n",
    "    if age > 24:\n",
    "        print(\"You are eligible for marriage.\")\n",
    "    else:\n",
    "        print(\"You are not eligible for marriage.\")\n",
    "elif gender == \"female\":\n",
    "    if age > 21:\n",
    "        print(\"You are eligible for marriage.\")\n",
    "    else:\n",
    "        print(\"You are not eligible for marriage.\")\n",
    "else:\n",
    "    print(\"Invalid gender input.\")\n"
   ]
  },
  {
   "cell_type": "markdown",
   "id": "40318c1e-e3c4-47d1-aaab-f4fd0cb55917",
   "metadata": {},
   "source": [
    "### Question 22: Activities Based on Age and Gender\n",
    "\n",
    "Write a Python program to determine what a person can do in India based on their age and gender. The program should:\n",
    "\n",
    "1. **Prompt the user to select their gender:**\n",
    "    - 1. Men\n",
    "    - 2. Women\n",
    "\n",
    "2. **Take the selected option and the age of the user as input.**\n",
    "\n",
    "3. **Check the following conditions and print what the user can do based on the criteria:**\n",
    "\n",
    "    - **Theatre:** \n",
    "        - Men: Age must be 5 or older.\n",
    "        - Women: Age must be 7 or older.\n",
    "\n",
    "    - **Voting System:** \n",
    "        - Both men and women must be 18 or older.\n",
    "\n",
    "    - **Marriage in India:** \n",
    "        - Men: Age must be 23 or older.\n",
    "        - Women: Age must be 21 or older.\n",
    "\n",
    "    - **Government Jobs:**\n",
    "        - Men: Age must be between 18 and 32.\n",
    "        - Women: Age must be between 18 and 34.\n",
    "\n",
    "    - **Driving License:**\n",
    "        - Both men and women must be between 18 and 60 years old.\n",
    "\n",
    "**Eligibility to be checked:**\n",
    "\n",
    "1. Theatre\n",
    "2. Voting System\n",
    "3. Marriage in India\n",
    "4. Government Jobs\n",
    "5. Driving License\n",
    "\n",
    "\n"
   ]
  },
  {
   "cell_type": "code",
   "execution_count": null,
   "id": "ac45437a-4e9d-4ae0-a560-ae914b90b962",
   "metadata": {},
   "outputs": [],
   "source": [
    "age = int(input(\"Enter your age: \"))\n",
    "gender = input(\"Enter your gender (male/female): \").lower()\n",
    "\n",
    "if age >= 18:\n",
    "    print(\"You can vote.\")\n",
    "else:\n",
    "    print(\"You cannot vote yet.\")\n",
    "\n",
    "if (gender == \"male\" and age >= 5) or (gender == \"female\" and age >= 7):\n",
    "    print(\"You can go to the theatre.\")\n",
    "else:\n",
    "    print(\"You cannot go to the theatre.\")\n",
    "\n",
    "if gender == \"male\" and age >= 23:\n",
    "    print(\"You can marry in India.\")\n",
    "elif gender == \"female\" and age >= 21:\n",
    "    print(\"You can marry in India.\")\n",
    "else:\n",
    "    print(\"You cannot marry in India yet.\")\n"
   ]
  },
  {
   "cell_type": "markdown",
   "id": "56ecb894-d50b-4f99-83e2-6429ed7ba0ca",
   "metadata": {},
   "source": [
    "### Question 23: Operating Systems Selection\n",
    "\n",
    "Write a Python program to display a message based on the user's choice of operating system. The program should:\n",
    "\n",
    "1. **Prompt the user to select an operating system:**\n",
    "    - 1. Windows\n",
    "    - 2. Android\n",
    "    - 3. Mac\n",
    "\n",
    "2. **Display the corresponding message based on the user's choice:**\n",
    "    - If the user enters `1`, show: \"Go to the first floor and buy a Windows laptop or mobile.\"\n",
    "    - If the user enters `2`, show: \"Go to the second floor and buy Android mobiles.\"\n",
    "    - If the user enters `3`, show: \"Go to the third floor and buy a Mac laptop or iPhones.\"\n",
    "    - If the user enters any other number, show: \"There are only three floors. Please select 1, 2, or 3.\"\n",
    "\n",
    "\n",
    "\n"
   ]
  },
  {
   "cell_type": "code",
   "execution_count": null,
   "id": "a52ca75c-6726-461c-bb27-88f09dc9fe16",
   "metadata": {},
   "outputs": [],
   "source": [
    "print(\"1. Windows\")\n",
    "print(\"2. Android\")\n",
    "print(\"3. Mac\")\n",
    "\n",
    "option = int(input(\"Enter an option: \"))\n",
    "\n",
    "if option == 1:\n",
    "    print(\"Go to the first floor and buy a Windows laptop or mobile.\")\n",
    "elif option == 2:\n",
    "    print(\"Go to the second floor and buy Android mobiles.\")\n",
    "elif option == 3:\n",
    "    print(\"Go to the third floor and buy a Mac laptop or iPhones.\")\n",
    "else:\n",
    "    print(\"There are only three floors. Please select 1, 2, or 3.\")\n"
   ]
  },
  {
   "cell_type": "markdown",
   "id": "a4df4f14-2e57-444c-9678-e444ad9c16f0",
   "metadata": {},
   "source": [
    "#### 24.Given an age, figure out whether someone's a baby, toddler, child, teenager, adult or old codger."
   ]
  },
  {
   "cell_type": "code",
   "execution_count": null,
   "id": "15c7cc98-987b-454e-a819-788814e658db",
   "metadata": {},
   "outputs": [],
   "source": [
    "age = int(input(\"Enter the age: \"))\n",
    "\n",
    "if age <= 2:\n",
    "    print(\"You are a baby.\")\n",
    "elif 3 <= age <= 5:\n",
    "    print(\"You are a toddler.\")\n",
    "elif 6 <= age <= 12:\n",
    "    print(\"You are a child.\")\n",
    "elif 13 <= age <= 19:\n",
    "    print(\"You are a teenager.\")\n",
    "elif 20 <= age <= 64:\n",
    "    print(\"You are an adult.\")\n",
    "else:\n",
    "    print(\"You are an old codger.\")\n"
   ]
  },
  {
   "cell_type": "markdown",
   "id": "b923cb83-571f-4f22-bf93-cad9609fa955",
   "metadata": {},
   "source": [
    "#### 25.Take two number a,b from the user and check whether a is divisible by b or not"
   ]
  },
  {
   "cell_type": "code",
   "execution_count": null,
   "id": "c72f41a7-38d2-4d72-99b1-73b789338349",
   "metadata": {},
   "outputs": [],
   "source": [
    "a = int(input(\"Enter the first number (a): \"))\n",
    "b = int(input(\"Enter the second number (b): \"))\n",
    "\n",
    "if b != 0 and a % b == 0:\n",
    "    print(f\"{a} is divisible by {b}.\")\n",
    "else:\n",
    "    print(f\"{a} is not divisible by {b}.\")\n"
   ]
  },
  {
   "cell_type": "markdown",
   "id": "3c33190d-22f4-4d32-9997-810ed5c98447",
   "metadata": {},
   "source": [
    "#### 26. Take a letter from the user and print that letter belongs to which category I.e is it a small letter or capital letter or number or special symbol"
   ]
  },
  {
   "cell_type": "code",
   "execution_count": null,
   "id": "fa1d0102-fba5-490f-a04e-5550b35e5411",
   "metadata": {},
   "outputs": [],
   "source": [
    "letter = input(\"Enter a letter: \")\n",
    "\n",
    "if len(letter) != 1:\n",
    "    print(\"Please enter exactly one character.\")\n",
    "else:\n",
    "    if 'a' <= letter <= 'z':\n",
    "        print(\"The letter is a small letter.\")\n",
    "    elif 'A' <= letter <= 'Z':\n",
    "        print(\"The letter is a capital letter.\")\n",
    "    elif '0' <= letter <= '9':\n",
    "        print(\"The letter is a number.\")\n",
    "    else:\n",
    "        print(\"The letter is a special symbol.\")"
   ]
  },
  {
   "cell_type": "markdown",
   "id": "522f0931-84a0-4177-96dd-92d8a3dcb5e5",
   "metadata": {},
   "source": [
    "#### 27. take a number from the user and check whether it is prime?"
   ]
  },
  {
   "cell_type": "code",
   "execution_count": null,
   "id": "4dd07373-719b-4cc8-88a5-ad5bd933e83f",
   "metadata": {},
   "outputs": [],
   "source": [
    "num= int(input(\"Enter a number: \"))\n",
    "\n",
    "# Negative numbers, 0 and 1 are not primes\n",
    "if num > 1:\n",
    "  \n",
    "    # Iterate from 2 to n // 2\n",
    "    for i in range(2, (num//2)+1):\n",
    "      \n",
    "        # If num is divisible by any number between\n",
    "        # 2 and n / 2, it is not prime\n",
    "        if (num % i) == 0:\n",
    "            print(num, \"is not a prime number\")\n",
    "            break\n",
    "    else:\n",
    "        print(num, \"is a prime number\")\n",
    "else:\n",
    "    print(num, \"is not a prime number\")"
   ]
  },
  {
   "cell_type": "markdown",
   "id": "df092268-1d51-403a-b4d2-bd850ecf7299",
   "metadata": {},
   "source": [
    "#### 28. take a string from the user and check contains only digits or not?"
   ]
  },
  {
   "cell_type": "code",
   "execution_count": null,
   "id": "dfb27e90-8b65-44ac-bd21-987b0cddeed1",
   "metadata": {},
   "outputs": [],
   "source": [
    "string = input(\"Enter a string: \")\n",
    "\n",
    "for char in string:\n",
    "    if not ('0' <= char <= '9'):\n",
    "        print(\"The string contains non-digit characters.\")\n",
    "        break\n",
    "else:\n",
    "    print(\"The string contains only digits.\")"
   ]
  },
  {
   "cell_type": "markdown",
   "id": "35a29113-3499-4a79-868e-4e18743cbb27",
   "metadata": {},
   "source": [
    "#### 29. take a string from the user and check contains only  alphabets or not?"
   ]
  },
  {
   "cell_type": "code",
   "execution_count": null,
   "id": "a911f710-fa5e-4531-ac5e-c7fbcecb09a1",
   "metadata": {},
   "outputs": [],
   "source": [
    "string = input(\"Enter a string: \")\n",
    "\n",
    "for char in string:\n",
    "    if not ('a' <= char <= 'z' or 'A' <= char <= 'Z'):\n",
    "        print(\"The string contains non-alphabetic characters.\")\n",
    "        break\n",
    "else:\n",
    "    print(\"The string contains only alphabets.\")"
   ]
  },
  {
   "cell_type": "markdown",
   "id": "9e8ef2c8-2e08-4aa1-bc15-21d80c165015",
   "metadata": {},
   "source": [
    "#### 30. take a string from the user and check contains only  special chars or not?"
   ]
  },
  {
   "cell_type": "code",
   "execution_count": 13,
   "id": "91e3c5a7-a781-49e1-b2c9-c5cc150b6922",
   "metadata": {},
   "outputs": [
    {
     "name": "stdin",
     "output_type": "stream",
     "text": [
      "Enter a string:  dad\n"
     ]
    },
    {
     "name": "stdout",
     "output_type": "stream",
     "text": [
      "The string contains non-special characters.\n"
     ]
    }
   ],
   "source": [
    "string = input(\"Enter a string: \")\n",
    "\n",
    "for char in string:\n",
    "    if ('a' <= char <= 'z') or ('A' <= char <= 'Z') or ('0' <= char <= '9'):\n",
    "        print(\"The string contains non-special characters.\")\n",
    "        break\n",
    "else:\n",
    "    print(\"The string contains only special characters.\")"
   ]
  },
  {
   "cell_type": "markdown",
   "id": "b1da1ace-8cd5-4aa3-90b9-93de0b9f5e5b",
   "metadata": {},
   "source": [
    "#### 31. take a string from the user and check contains only  capital letters or not?"
   ]
  },
  {
   "cell_type": "code",
   "execution_count": null,
   "id": "a1118f0c-54fa-448d-a11f-87ac508b51f7",
   "metadata": {},
   "outputs": [],
   "source": [
    "string = input(\"Enter a string: \")\n",
    "\n",
    "for char in string:\n",
    "    if not ('A' <= char <= 'Z'):\n",
    "        print(\"The string contains non-capital letters.\")\n",
    "        break\n",
    "else:\n",
    "    print(\"The string contains only capital letters.\")"
   ]
  },
  {
   "cell_type": "markdown",
   "id": "49adda0b-2a22-4c60-a59e-82690c7368f6",
   "metadata": {},
   "source": [
    "#### 32. .take a string from the user and check contains only  small letters or not?"
   ]
  },
  {
   "cell_type": "code",
   "execution_count": 2,
   "id": "18057fa7-186b-4f63-a2b5-80caf459e32b",
   "metadata": {},
   "outputs": [
    {
     "name": "stdin",
     "output_type": "stream",
     "text": [
      "Enter a string:  a\n"
     ]
    },
    {
     "name": "stdout",
     "output_type": "stream",
     "text": [
      "The string contains non-capital letters.\n"
     ]
    }
   ],
   "source": [
    "string = input(\"Enter a string: \")\n",
    "\n",
    "for char in string:\n",
    "    if not ('A' <= char <= 'Z'):\n",
    "        print(\"The string contains non-capital letters.\")\n",
    "        break\n",
    "else:\n",
    "    print(\"The string contains only capital letters.\")"
   ]
  },
  {
   "cell_type": "markdown",
   "id": "7fcdaed4-815b-4fe7-b42e-f13d6d8ae8fa",
   "metadata": {},
   "source": [
    "#### 33. sWAP to replace last n occurrence of give string.\n"
   ]
  },
  {
   "cell_type": "code",
   "execution_count": 10,
   "id": "838f7b0f-2dab-4e2c-a3a4-58db23624142",
   "metadata": {},
   "outputs": [
    {
     "name": "stdin",
     "output_type": "stream",
     "text": [
      " dqe\n",
      " wwe\n"
     ]
    },
    {
     "name": "stdout",
     "output_type": "stream",
     "text": [
      "inp_1 wwe\n",
      "inp_2 dqe\n"
     ]
    }
   ],
   "source": [
    "inp_1 = input()\n",
    "inp_2 = input()\n",
    "inp_2,inp_1= inp_1,inp_2\n",
    "\n",
    "print(\"inp_1\",inp_1)\n",
    "print(\"inp_2\",inp_2)\n",
    "\n"
   ]
  },
  {
   "cell_type": "markdown",
   "id": "9e496c3a-aaf5-4989-a022-3e14fefdb6f4",
   "metadata": {},
   "source": [
    "### 34.Problem Statement:\n",
    "\n",
    "Write a program to replace the last `n` occurrences of a given string.\n",
    "\n",
    "**Example**:  \n",
    "Input string: `\"apple,orange,apple,grape,orange,apple,apple,orange\"`  \n",
    "Source: `\"apple\"`  \n",
    "Last occurrences: `2`  \n",
    "Replace with: `\"APPLE\"`\n",
    "\n",
    "**Expected Output**:  \n",
    "`\"apple,orange,apple,grape,orange,APPLE,APPLE,orange\"`\n"
   ]
  },
  {
   "cell_type": "code",
   "execution_count": 14,
   "id": "2da900dd-25d9-44d0-b83f-ad9394931af1",
   "metadata": {},
   "outputs": [
    {
     "name": "stdin",
     "output_type": "stream",
     "text": [
      "enter some str : ajf\n",
      "eneter how many u need to change from last :  fs\n"
     ]
    }
   ],
   "source": [
    "ip_str = input(\"enter some str :\")\n",
    "ip_int = input(\"eneter how many u need to change from last : \")\n"
   ]
  },
  {
   "cell_type": "markdown",
   "id": "c88463f6-eed2-41fc-8ccc-95a33c42c5e7",
   "metadata": {},
   "source": [
    "#### 32. WAP to check given string contains numbers or not. it should consider float numbers also."
   ]
  },
  {
   "cell_type": "code",
   "execution_count": 15,
   "id": "5bae73dc-32a0-40bb-9c44-9cd385e9c65a",
   "metadata": {},
   "outputs": [
    {
     "name": "stdout",
     "output_type": "stream",
     "text": [
      "['The', 'price', 'is', '9.99', 'dollars']\n"
     ]
    }
   ],
   "source": [
    "input_string = \"The price is 9.99 dollars\"\n",
    "\n",
    "# Split the string into words\n",
    "words = input_string.split()\n",
    "print(words)\n",
    "for i in wods :\n",
    "    if "
   ]
  },
  {
   "cell_type": "markdown",
   "id": "c74e48f1-72ec-403e-86b4-a203a1bd63e5",
   "metadata": {},
   "source": [
    "#### 33. Convert the total string in to lower case. Without using lower() function."
   ]
  },
  {
   "cell_type": "code",
   "execution_count": 27,
   "id": "d9b7c9ec-b9cd-4867-bdb3-2e7604da0252",
   "metadata": {},
   "outputs": [
    {
     "name": "stdin",
     "output_type": "stream",
     "text": [
      "Please entter any string in uppercase : NARESH\n"
     ]
    },
    {
     "name": "stdout",
     "output_type": "stream",
     "text": [
      "naresh\n"
     ]
    }
   ],
   "source": [
    "inp = input(\"Please entter any string in uppercase :\")\n",
    "res = ''\n",
    "for i in inp:\n",
    "    if 'A' <= i <= 'Z':\n",
    "        #print(chr(ord(i)))\n",
    "        res += chr(ord(i) + 32)\n",
    "        #print(res)\n",
    "    else:\n",
    "        res += char\n",
    "print(res)\n"
   ]
  },
  {
   "cell_type": "markdown",
   "id": "d0c3640a-a906-4a72-b682-abd9297b351b",
   "metadata": {},
   "source": [
    "#### 34. Convert the total string in to upper case. Without using upper() function."
   ]
  },
  {
   "cell_type": "code",
   "execution_count": 25,
   "id": "5b8d460c-6d04-42c1-a1d6-62735a1c7bae",
   "metadata": {},
   "outputs": [
    {
     "name": "stdin",
     "output_type": "stream",
     "text": [
      "Please entter any string in uppercase : naresh\n"
     ]
    },
    {
     "name": "stdout",
     "output_type": "stream",
     "text": [
      "NARESH\n"
     ]
    }
   ],
   "source": [
    "inp = input(\"Please entter any string in uppercase :\")\n",
    "res = ''\n",
    "for i in inp:\n",
    "    if 'a' <= i <= 'z':\n",
    "        #print(chr(ord(i)))\n",
    "        res += chr(ord(i) - 32)\n",
    "        #print(res)\n",
    "    else:\n",
    "        res += char\n",
    "print(res)"
   ]
  },
  {
   "cell_type": "markdown",
   "id": "2d05da65-5108-4396-bba5-2f19519d8cb5",
   "metadata": {},
   "source": [
    "### 35.Problem Statement\n",
    "\n",
    "Show the following menu to the user repeatedly until the user selects \"quit\", and display the corresponding OS message.\n",
    "\n",
    "Menu:\n",
    "\n",
    "1.Windows\n",
    "2.Linux\n",
    "3.Mac\n",
    "4.Quit"
   ]
  },
  {
   "cell_type": "code",
   "execution_count": 36,
   "id": "a2eb469c-e137-41f4-a62d-ed3439b8cb7e",
   "metadata": {},
   "outputs": [
    {
     "name": "stdout",
     "output_type": "stream",
     "text": [
      "\n",
      "    Menu:\n",
      "    1. Windows\n",
      "    2. Linux\n",
      "    3. Mac\n",
      "    4. Quit\n",
      "    \n"
     ]
    },
    {
     "name": "stdin",
     "output_type": "stream",
     "text": [
      "Please select an option (1-4):  1\n"
     ]
    },
    {
     "name": "stdout",
     "output_type": "stream",
     "text": [
      "You selected Windows.\n",
      "\n",
      "    Menu:\n",
      "    1. Windows\n",
      "    2. Linux\n",
      "    3. Mac\n",
      "    4. Quit\n",
      "    \n"
     ]
    },
    {
     "name": "stdin",
     "output_type": "stream",
     "text": [
      "Please select an option (1-4):  4\n"
     ]
    },
    {
     "name": "stdout",
     "output_type": "stream",
     "text": [
      "Exiting the program.\n",
      "thank you\n"
     ]
    }
   ],
   "source": [
    "# Define a fixed number of iterations\n",
    "for _ in range(4):\n",
    "    print('''\n",
    "    Menu:\n",
    "    1. Windows\n",
    "    2. Linux\n",
    "    3. Mac\n",
    "    4. Quit\n",
    "    ''')\n",
    "\n",
    "    choice = input(\"Please select an option (1-4): \").strip()\n",
    "    \n",
    "    if choice == '1':\n",
    "        print(\"You selected Windows.\")\n",
    "    elif choice == '2':\n",
    "        print(\"You selected Linux.\")\n",
    "    elif choice == '3':\n",
    "        print(\"You selected Mac.\")\n",
    "    elif choice == '4':\n",
    "        print(\"Exiting the program.\")\n",
    "        print(\"thank you\")\n",
    "        break\n",
    "    else:\n",
    "        print(\"Invalid option. Please select a number between 1 and 4.\")\n"
   ]
  },
  {
   "cell_type": "code",
   "execution_count": 41,
   "id": "819c858a-eb06-4afb-841b-b49d0ee12d29",
   "metadata": {},
   "outputs": [
    {
     "name": "stdin",
     "output_type": "stream",
     "text": [
      "Enter a string:  ara\n"
     ]
    },
    {
     "name": "stdout",
     "output_type": "stream",
     "text": [
      "The string contains at least one alphabet.\n"
     ]
    }
   ],
   "source": [
    "# Take input from the user\n",
    "input_string = input(\"Enter a string: \")\n",
    "\n",
    "# Initialize flags for checks\n",
    "contains_digit = False\n",
    "contains_alpha = False\n",
    "contains_char = False\n",
    "contains_capital = False\n",
    "contains_small = False\n",
    "\n",
    "# Perform checks\n",
    "for char in input_string:\n",
    "    # Check if the character is a digit (ASCII range for '0'-'9' is 48-57)\n",
    "    if '0' <= char <= '9':\n",
    "        contains_digit = True\n",
    "    # Check if the character is an alphabet\n",
    "    elif 'A' <= char <= 'Z' or 'a' <= char <= 'z':\n",
    "        contains_alpha = True\n",
    "        # Check if it is a capital letter\n",
    "        if 'A' <= char <= 'Z':\n",
    "            contains_capital = True\n",
    "        # Check if it is a small letter\n",
    "        if 'a' <= char <= 'z':\n",
    "            contains_small = True\n",
    "    # Check if the character is not a space\n",
    "    elif not char.isspace():\n",
    "        contains_char = True\n",
    "\n",
    "# Display results\n",
    "if contains_digit:\n",
    "    print(\"The string contains at least one digit.\")\n",
    "elif contains_alpha:\n",
    "    print(\"The string contains at least one alphabet.\")\n",
    "elif contains_char:\n",
    "    print(\"The string contains at least one character.\")\n",
    "elif contains_capital:\n",
    "    print(\"The string contains at least one capital letter.\")\n",
    "elif contains_small:\n",
    "    print(\"The string contains at least one small letter.\")\n",
    "else:\n",
    "    print(\"The string does not meet any of the criteria.\")\n"
   ]
  },
  {
   "cell_type": "markdown",
   "id": "dff1f429-4555-4f85-be7a-190f935b84ac",
   "metadata": {},
   "source": [
    "#### 36. Take a string from the user and check contains at least one digit or not?"
   ]
  },
  {
   "cell_type": "code",
   "execution_count": 42,
   "id": "a5e26f70-2c7b-4b59-a88b-2d11e25d3a81",
   "metadata": {},
   "outputs": [
    {
     "name": "stdin",
     "output_type": "stream",
     "text": [
      "Enter a string:  hjahen65\n"
     ]
    },
    {
     "name": "stdout",
     "output_type": "stream",
     "text": [
      "The string contains at least one digit.\n"
     ]
    }
   ],
   "source": [
    "string = input(\"Enter a string: \")\n",
    "\n",
    "for char in string:\n",
    "    if '0' <= char <= '9':\n",
    "        print(\"The string contains at least one digit.\")\n",
    "        break\n",
    "else:\n",
    "    print(\"The string does not contain any digits.\")"
   ]
  },
  {
   "cell_type": "markdown",
   "id": "efdf5ad0-f317-47e4-bc59-e5f2d996bee9",
   "metadata": {},
   "source": [
    "#### 37. Take a string from the user and check contains at least one alphabet or not?"
   ]
  },
  {
   "cell_type": "code",
   "execution_count": 43,
   "id": "ddf356a7-9b37-438c-89c4-0dd3de5d122d",
   "metadata": {},
   "outputs": [
    {
     "name": "stdin",
     "output_type": "stream",
     "text": [
      "Enter a string:  jshodjfh\n"
     ]
    },
    {
     "name": "stdout",
     "output_type": "stream",
     "text": [
      "The string contains at least one alphabet.\n"
     ]
    }
   ],
   "source": [
    "string = input(\"Enter a string: \")\n",
    "\n",
    "for char in string:\n",
    "    if ('a' <= char <= 'z') or ('A' <= char <= 'Z'):\n",
    "        print(\"The string contains at least one alphabet.\")\n",
    "        break\n",
    "else:\n",
    "    print(\"The string does not contain any alphabets.\")"
   ]
  },
  {
   "cell_type": "markdown",
   "id": "a32fc1ad-f845-447d-8985-a53f7af85741",
   "metadata": {},
   "source": [
    "#### 38. Take a string from the user and check contains at least one character or not?"
   ]
  },
  {
   "cell_type": "code",
   "execution_count": 44,
   "id": "21cf744f-f5ac-4caf-ba3f-6fb4f2063886",
   "metadata": {},
   "outputs": [
    {
     "name": "stdin",
     "output_type": "stream",
     "text": [
      "Enter a string:  5+65+65j\n"
     ]
    },
    {
     "name": "stdout",
     "output_type": "stream",
     "text": [
      "The string contains at least one character.\n"
     ]
    }
   ],
   "source": [
    "string = input(\"Enter a string: \")\n",
    "\n",
    "if string:\n",
    "    print(\"The string contains at least one character.\")\n",
    "else:\n",
    "    print(\"The string is empty.\")"
   ]
  },
  {
   "cell_type": "markdown",
   "id": "44983e15-9ceb-451d-be14-5c399ff34cb0",
   "metadata": {},
   "source": [
    "#### 39. Take a string from the user and check contains at least one capital letter or not?"
   ]
  },
  {
   "cell_type": "code",
   "execution_count": 45,
   "id": "efea132e-e7f4-4fd7-98a2-11ca0be7bad8",
   "metadata": {},
   "outputs": [
    {
     "name": "stdin",
     "output_type": "stream",
     "text": [
      "Enter a string:  HGUAguahusyg\n"
     ]
    },
    {
     "name": "stdout",
     "output_type": "stream",
     "text": [
      "The string contains at least one capital letter.\n"
     ]
    }
   ],
   "source": [
    "string = input(\"Enter a string: \")\n",
    "\n",
    "for char in string:\n",
    "    if 'A' <= char <= 'Z':\n",
    "        print(\"The string contains at least one capital letter.\")\n",
    "        break\n",
    "else:\n",
    "    print(\"The string does not contain any capital letters.\")"
   ]
  },
  {
   "cell_type": "markdown",
   "id": "35c5f728-f47b-4fd8-9fe6-5e9970cb0091",
   "metadata": {},
   "source": [
    "#### 40. Take a string from the user and check contains at least one small letter or not?\n"
   ]
  },
  {
   "cell_type": "code",
   "execution_count": 46,
   "id": "4ac39b2a-5d0b-4b67-80bc-b847e9bd928f",
   "metadata": {},
   "outputs": [
    {
     "name": "stdin",
     "output_type": "stream",
     "text": [
      "Enter a string:  AJSOIHNW2039582\n"
     ]
    },
    {
     "name": "stdout",
     "output_type": "stream",
     "text": [
      "The string does not contain any small letters.\n"
     ]
    }
   ],
   "source": [
    "string = input(\"Enter a string: \")\n",
    "\n",
    "for char in string:\n",
    "    if 'a' <= char <= 'z':\n",
    "        print(\"The string contains at least one small letter.\")\n",
    "        break\n",
    "else:\n",
    "    print(\"The string does not contain any small letters.\")"
   ]
  },
  {
   "cell_type": "markdown",
   "id": "f0858dff-051e-4a02-9510-f4ce5e231c3c",
   "metadata": {},
   "source": [
    "#### 41. Print the first 100 odd numbers\n"
   ]
  },
  {
   "cell_type": "code",
   "execution_count": 48,
   "id": "8d880138-691a-4609-b40a-f0e8846eb3f6",
   "metadata": {},
   "outputs": [
    {
     "name": "stdin",
     "output_type": "stream",
     "text": [
      " 100\n"
     ]
    },
    {
     "name": "stdout",
     "output_type": "stream",
     "text": [
      "1\n",
      "3\n",
      "5\n",
      "7\n",
      "9\n",
      "11\n",
      "13\n",
      "15\n",
      "17\n",
      "19\n",
      "21\n",
      "23\n",
      "25\n",
      "27\n",
      "29\n",
      "31\n",
      "33\n",
      "35\n",
      "37\n",
      "39\n",
      "41\n",
      "43\n",
      "45\n",
      "47\n",
      "49\n",
      "51\n",
      "53\n",
      "55\n",
      "57\n",
      "59\n",
      "61\n",
      "63\n",
      "65\n",
      "67\n",
      "69\n",
      "71\n",
      "73\n",
      "75\n",
      "77\n",
      "79\n",
      "81\n",
      "83\n",
      "85\n",
      "87\n",
      "89\n",
      "91\n",
      "93\n",
      "95\n",
      "97\n",
      "99\n"
     ]
    }
   ],
   "source": [
    "n = int(input())\n",
    "for i in range(n+1):\n",
    "    if i % 2 != 0:\n",
    "        print(i)\n",
    "        "
   ]
  },
  {
   "cell_type": "markdown",
   "id": "393ec6ea-b8b7-40c2-abc1-ea47dc7fb749",
   "metadata": {},
   "source": [
    "#### 42. Determine the factors of a number entered  by the user"
   ]
  },
  {
   "cell_type": "code",
   "execution_count": 52,
   "id": "b830e9f1-3aae-454d-9ea7-07aab9ad552e",
   "metadata": {},
   "outputs": [
    {
     "name": "stdin",
     "output_type": "stream",
     "text": [
      "Enter a number:  5\n"
     ]
    },
    {
     "name": "stdout",
     "output_type": "stream",
     "text": [
      "Factors of 5 : [1]\n"
     ]
    }
   ],
   "source": [
    "\n",
    "number = int(input(\"Enter a number: \"))\n",
    "\n",
    "factors = [1]\n",
    "for i in range(2, int(number**0.5) + 1):\n",
    "    if number % i == 0:\n",
    "        factors.append(i)\n",
    "        factors.append(number // i)\n",
    "\n",
    "\n",
    "factors.sort()\n",
    "print(\"Factors of\", number, \":\", factors)"
   ]
  },
  {
   "cell_type": "markdown",
   "id": "6fcce91d-10f0-49a8-9301-fe25e767c586",
   "metadata": {},
   "source": [
    "#### 43. Play a number guessing game (User enters a guess, you print YES or Higher or Lower). This should continue until and until user gives a correct number or want to quit in the middle."
   ]
  },
  {
   "cell_type": "code",
   "execution_count": 58,
   "id": "5e9a28ce-1147-4213-af24-b9ae8882df31",
   "metadata": {},
   "outputs": [
    {
     "name": "stdin",
     "output_type": "stream",
     "text": [
      "Guess a number between 1 and 100:  1\n"
     ]
    },
    {
     "name": "stdout",
     "output_type": "stream",
     "text": [
      "Too low. Try again.\n"
     ]
    },
    {
     "name": "stdin",
     "output_type": "stream",
     "text": [
      "Do you want to quit? (y/n):  2\n",
      "Guess a number between 1 and 100:  57\n"
     ]
    },
    {
     "name": "stdout",
     "output_type": "stream",
     "text": [
      "Too high. Try again.\n"
     ]
    },
    {
     "name": "stdin",
     "output_type": "stream",
     "text": [
      "Do you want to quit? (y/n):  87\n",
      "Guess a number between 1 and 100:  84\n"
     ]
    },
    {
     "name": "stdout",
     "output_type": "stream",
     "text": [
      "Too high. Try again.\n"
     ]
    },
    {
     "name": "stdin",
     "output_type": "stream",
     "text": [
      "Do you want to quit? (y/n):  8\n",
      "Guess a number between 1 and 100:  97\n"
     ]
    },
    {
     "name": "stdout",
     "output_type": "stream",
     "text": [
      "Too high. Try again.\n"
     ]
    },
    {
     "name": "stdin",
     "output_type": "stream",
     "text": [
      "Do you want to quit? (y/n):  9\n",
      "Guess a number between 1 and 100:  9\n"
     ]
    },
    {
     "name": "stdout",
     "output_type": "stream",
     "text": [
      "Too low. Try again.\n"
     ]
    },
    {
     "name": "stdin",
     "output_type": "stream",
     "text": [
      "Do you want to quit? (y/n):  y\n"
     ]
    }
   ],
   "source": [
    "import random\n",
    "\n",
    "hidden_number = random.randint(1, 100)\n",
    "\n",
    "while True:\n",
    "    guess = int(input(\"Guess a number between 1 and 100: \"))\n",
    "\n",
    "    if guess == hidden_number:\n",
    "        print(\"Congratulations! You guessed the number.\")\n",
    "        break\n",
    "    elif guess < hidden_number:\n",
    "        print(\"Too low. Try again.\")\n",
    "    else:\n",
    "        print(\"Too high. Try again.\")\n",
    "\n",
    "    if input(\"Do you want to quit? (y/n): \").lower() == 'y':\n",
    "        break"
   ]
  },
  {
   "cell_type": "markdown",
   "id": "a2ca69de-9cd9-4a7d-a946-be24f19b7983",
   "metadata": {},
   "source": [
    "#### 44. Take two numbers from the user a,b check whether a is divisible by b or not?"
   ]
  },
  {
   "cell_type": "code",
   "execution_count": 63,
   "id": "3a38355e-daaa-4fe1-a6e8-a60d54858f27",
   "metadata": {},
   "outputs": [
    {
     "name": "stdin",
     "output_type": "stream",
     "text": [
      " 2\n",
      " 4\n"
     ]
    },
    {
     "name": "stdout",
     "output_type": "stream",
     "text": [
      "2  is not devicible by  4\n"
     ]
    }
   ],
   "source": [
    "a= int(input())\n",
    "b= int(input())\n",
    "if a % b == 0:\n",
    "    print(a, \" is devicible by \" ,b)\n",
    "else  :\n",
    "    print(a, \" is not devicible by \" ,b)"
   ]
  },
  {
   "cell_type": "markdown",
   "id": "33f0e34c-c83a-468e-a6f1-804043d3d650",
   "metadata": {},
   "source": [
    "####  45. Find the sum of all the multiples of 3 or 5 below 1000"
   ]
  },
  {
   "cell_type": "code",
   "execution_count": 68,
   "id": "118ae2c5-4f4d-4868-9b55-0ef687603d44",
   "metadata": {},
   "outputs": [
    {
     "name": "stdin",
     "output_type": "stream",
     "text": [
      " 1000\n"
     ]
    },
    {
     "name": "stdout",
     "output_type": "stream",
     "text": [
      "[3, 5, 6, 9, 10, 12, 15, 18, 20, 21, 24, 25, 27, 30, 33, 35, 36, 39, 40, 42, 45, 48, 50, 51, 54, 55, 57, 60, 63, 65, 66, 69, 70, 72, 75, 78, 80, 81, 84, 85, 87, 90, 93, 95, 96, 99, 100, 102, 105, 108, 110, 111, 114, 115, 117, 120, 123, 125, 126, 129, 130, 132, 135, 138, 140, 141, 144, 145, 147, 150, 153, 155, 156, 159, 160, 162, 165, 168, 170, 171, 174, 175, 177, 180, 183, 185, 186, 189, 190, 192, 195, 198, 200, 201, 204, 205, 207, 210, 213, 215, 216, 219, 220, 222, 225, 228, 230, 231, 234, 235, 237, 240, 243, 245, 246, 249, 250, 252, 255, 258, 260, 261, 264, 265, 267, 270, 273, 275, 276, 279, 280, 282, 285, 288, 290, 291, 294, 295, 297, 300, 303, 305, 306, 309, 310, 312, 315, 318, 320, 321, 324, 325, 327, 330, 333, 335, 336, 339, 340, 342, 345, 348, 350, 351, 354, 355, 357, 360, 363, 365, 366, 369, 370, 372, 375, 378, 380, 381, 384, 385, 387, 390, 393, 395, 396, 399, 400, 402, 405, 408, 410, 411, 414, 415, 417, 420, 423, 425, 426, 429, 430, 432, 435, 438, 440, 441, 444, 445, 447, 450, 453, 455, 456, 459, 460, 462, 465, 468, 470, 471, 474, 475, 477, 480, 483, 485, 486, 489, 490, 492, 495, 498, 500, 501, 504, 505, 507, 510, 513, 515, 516, 519, 520, 522, 525, 528, 530, 531, 534, 535, 537, 540, 543, 545, 546, 549, 550, 552, 555, 558, 560, 561, 564, 565, 567, 570, 573, 575, 576, 579, 580, 582, 585, 588, 590, 591, 594, 595, 597, 600, 603, 605, 606, 609, 610, 612, 615, 618, 620, 621, 624, 625, 627, 630, 633, 635, 636, 639, 640, 642, 645, 648, 650, 651, 654, 655, 657, 660, 663, 665, 666, 669, 670, 672, 675, 678, 680, 681, 684, 685, 687, 690, 693, 695, 696, 699, 700, 702, 705, 708, 710, 711, 714, 715, 717, 720, 723, 725, 726, 729, 730, 732, 735, 738, 740, 741, 744, 745, 747, 750, 753, 755, 756, 759, 760, 762, 765, 768, 770, 771, 774, 775, 777, 780, 783, 785, 786, 789, 790, 792, 795, 798, 800, 801, 804, 805, 807, 810, 813, 815, 816, 819, 820, 822, 825, 828, 830, 831, 834, 835, 837, 840, 843, 845, 846, 849, 850, 852, 855, 858, 860, 861, 864, 865, 867, 870, 873, 875, 876, 879, 880, 882, 885, 888, 890, 891, 894, 895, 897, 900, 903, 905, 906, 909, 910, 912, 915, 918, 920, 921, 924, 925, 927, 930, 933, 935, 936, 939, 940, 942, 945, 948, 950, 951, 954, 955, 957, 960, 963, 965, 966, 969, 970, 972, 975, 978, 980, 981, 984, 985, 987, 990, 993, 995, 996, 999, 1000]\n",
      "234168\n"
     ]
    }
   ],
   "source": [
    "n = int(input())\n",
    "list= []\n",
    "count = 0\n",
    "for i in range(1,n+1):\n",
    "    if (i % 3 == 0) or (i%5 == 0):\n",
    "        list.append(i)\n",
    "        count = count + i\n",
    "print(list)\n",
    "print(count)   \n"
   ]
  },
  {
   "cell_type": "markdown",
   "id": "830c1ffa-9d35-49c6-9a72-87c0a6697000",
   "metadata": {},
   "source": [
    "#### 46. Write a program to find out big of two numbers"
   ]
  },
  {
   "cell_type": "code",
   "execution_count": 69,
   "id": "dab17814-0434-4f09-9336-0a69196a4239",
   "metadata": {},
   "outputs": [
    {
     "name": "stdin",
     "output_type": "stream",
     "text": [
      " 5\n",
      " 8\n"
     ]
    },
    {
     "name": "stdout",
     "output_type": "stream",
     "text": [
      "8  is  big  number\n"
     ]
    }
   ],
   "source": [
    "a= int(input())\n",
    "b= int(input())\n",
    "if a  > b :\n",
    "    print(a, \" is  big  number\")\n",
    "else  :\n",
    "    print(b, \" is  big  number\")"
   ]
  },
  {
   "cell_type": "markdown",
   "id": "79ad168b-6b46-42ba-b2e6-aa5cdb5aa323",
   "metadata": {},
   "source": [
    "#### 47. Write a program to find out the biggest number in the given numbers"
   ]
  },
  {
   "cell_type": "code",
   "execution_count": 71,
   "id": "0e73f5b1-e6f7-4125-ade7-02fdd65ba767",
   "metadata": {},
   "outputs": [
    {
     "name": "stdin",
     "output_type": "stream",
     "text": [
      "Enter numbers separated by spaces:   2 5 8 6 4 1 \n"
     ]
    },
    {
     "name": "stdout",
     "output_type": "stream",
     "text": [
      "The biggest number is: 8\n"
     ]
    }
   ],
   "source": [
    "numbers = input(\"Enter numbers separated by spaces: \").split()\n",
    "numbers = [int(num) for num in numbers]\n",
    "\n",
    "biggest = numbers[0]\n",
    "for num in numbers[1:]:\n",
    "    if num > biggest:\n",
    "        biggest = num\n",
    "\n",
    "print(\"The biggest number is:\", biggest)"
   ]
  },
  {
   "cell_type": "markdown",
   "id": "760736da-f206-496b-b696-9cc3e7f570a8",
   "metadata": {},
   "source": [
    "#### 48. Find out the index of the third occurrence of a given substring"
   ]
  },
  {
   "cell_type": "code",
   "execution_count": 72,
   "id": "d14c77f7-5763-449e-bd40-bf53b3a04434",
   "metadata": {},
   "outputs": [
    {
     "name": "stdin",
     "output_type": "stream",
     "text": [
      "Enter the string:  +5+64\n",
      "Enter the substring:  +586\n"
     ]
    }
   ],
   "source": [
    "string = input(\"Enter the string: \")\n",
    "substring = input(\"Enter the substring: \")\n",
    "\n",
    "occurrences = 0\n",
    "for i in range(len(string)):\n",
    "    if string[i:].startswith(substring):\n",
    "        occurrences += 1\n",
    "        if occurrences == 3:\n",
    "            print(\"Third occurrence found at index:\", i)\n",
    "            break"
   ]
  },
  {
   "cell_type": "markdown",
   "id": "0cf20383-5362-436b-ab98-73c4228ccf47",
   "metadata": {},
   "source": [
    "#### 49. Find out the index of the nth occurrence of a given substring\n"
   ]
  },
  {
   "cell_type": "code",
   "execution_count": 73,
   "id": "06e35872-87e7-4180-a32d-e970e8fdb6db",
   "metadata": {},
   "outputs": [
    {
     "name": "stdin",
     "output_type": "stream",
     "text": [
      "Enter the string:  fjsifjswf\n",
      "Enter the substring:  oijf\n",
      "Enter the occurrence number:  5\n"
     ]
    }
   ],
   "source": [
    "string = input(\"Enter the string: \")\n",
    "substring = input(\"Enter the substring: \")\n",
    "n = int(input(\"Enter the occurrence number: \"))\n",
    "\n",
    "occurrences = 0\n",
    "for i in range(len(string)):\n",
    "    if string[i:].startswith(substring):\n",
    "        occurrences += 1\n",
    "        if occurrences == n:\n",
    "            print(\"Nth occurrence found at index:\", i)\n",
    "            break"
   ]
  },
  {
   "cell_type": "markdown",
   "id": "45780c86-76d2-46ce-b6fa-3843fc44680d",
   "metadata": {},
   "source": [
    "#### 50. Take some single-digit numbers from the user and find out min, maximum, sum, and average"
   ]
  },
  {
   "cell_type": "code",
   "execution_count": 75,
   "id": "48bf9af3-a60c-4f35-b8e2-3035350598f9",
   "metadata": {},
   "outputs": [
    {
     "name": "stdin",
     "output_type": "stream",
     "text": [
      "Enter numbers separated by spaces:  2 5 4 1 5 2 5 2 5 122 5 5 5 285 48   48 4/7 487\n"
     ]
    },
    {
     "name": "stdout",
     "output_type": "stream",
     "text": [
      "Minimum: 1\n",
      "Maximum: 5\n",
      "Sum: 46\n",
      "Average: 3.8333333333333335\n"
     ]
    }
   ],
   "source": [
    "numbers = input(\"Enter numbers separated by spaces: \").split()\n",
    "numbers = [int(num) for num in numbers if len(num) == 1]\n",
    "\n",
    "if not numbers:\n",
    "    print(\"No valid single-digit numbers were entered.\")\n",
    "else:\n",
    "    minimum = numbers[0]\n",
    "    maximum = numbers[0]\n",
    "    sum = 0\n",
    "    for num in numbers:\n",
    "        if num < minimum:\n",
    "            minimum = num\n",
    "        if num > maximum:\n",
    "            maximum = num\n",
    "        sum += num\n",
    "\n",
    "    average = sum / len(numbers)\n",
    "\n",
    "    print(\"Minimum:\", minimum)\n",
    "    print(\"Maximum:\", maximum)\n",
    "    print(\"Sum:\", sum)\n",
    "    print(\"Average:\", average)"
   ]
  },
  {
   "cell_type": "markdown",
   "id": "019d378b-8f2a-41fa-bdb6-4c295d1a8517",
   "metadata": {},
   "source": [
    "**Prompt:**\n",
    "\n",
    "Write a Python code to format a number with leading zeros to ensure it has 6 digits. For example:\n",
    "\n",
    "```\n",
    "Input: 10\n",
    "Output: 000010\n",
    "\n",
    "Input: 100\n",
    "Output: 000100\n",
    "\n",
    "Input: 1000\n",
    "Output: 001000\n",
    "\n",
    "Input: 2345678\n",
    "Output: 2345678\n",
    "```\n"
   ]
  },
  {
   "cell_type": "code",
   "execution_count": 79,
   "id": "6c0c176a-1a22-4d25-86bd-9532b90c4d95",
   "metadata": {},
   "outputs": [
    {
     "name": "stdin",
     "output_type": "stream",
     "text": [
      "Enter a number:  5465464684\n"
     ]
    },
    {
     "name": "stdout",
     "output_type": "stream",
     "text": [
      "Formatted number: 5465464684\n"
     ]
    }
   ],
   "source": [
    "number = int(input(\"Enter a number: \"))\n",
    "\n",
    "formatted_number = f\"{number:06d}\"\n",
    "\n",
    "print(\"Formatted number:\", formatted_number)"
   ]
  },
  {
   "cell_type": "markdown",
   "id": "5551d347-2164-4e71-9389-ce3b8e428363",
   "metadata": {},
   "source": [
    "#### 52. names  =\"emp1,emp2,emp3,emp4\" iterate through the employee names."
   ]
  },
  {
   "cell_type": "code",
   "execution_count": 80,
   "id": "d1c01f97-87b3-4348-a560-fe0ee0ad6839",
   "metadata": {},
   "outputs": [
    {
     "name": "stdout",
     "output_type": "stream",
     "text": [
      "emp1\n",
      "emp2\n",
      "emp3\n",
      "emp4\n"
     ]
    }
   ],
   "source": [
    "names = \"emp1,emp2,emp3,emp4\"\n",
    "\n",
    "# Split the string into a list of employee names\n",
    "employee_names = names.split(\",\")\n",
    "\n",
    "# Iterate through the employee names\n",
    "for name in employee_names:\n",
    "    print(name)"
   ]
  },
  {
   "cell_type": "markdown",
   "id": "50fdb72e-06cb-4c10-9e6a-f6a8ce6e1c8d",
   "metadata": {},
   "source": [
    "#### 53. Take actual string, source string, destination string. replce first nth occurrences of source string with destination string of actual string"
   ]
  },
  {
   "cell_type": "code",
   "execution_count": null,
   "id": "91222e4f-002a-4de5-a741-ce4ab060a512",
   "metadata": {},
   "outputs": [],
   "source": []
  }
 ],
 "metadata": {
  "kernelspec": {
   "display_name": "Python 3 (ipykernel)",
   "language": "python",
   "name": "python3"
  },
  "language_info": {
   "codemirror_mode": {
    "name": "ipython",
    "version": 3
   },
   "file_extension": ".py",
   "mimetype": "text/x-python",
   "name": "python",
   "nbconvert_exporter": "python",
   "pygments_lexer": "ipython3",
   "version": "3.12.4"
  }
 },
 "nbformat": 4,
 "nbformat_minor": 5
}
